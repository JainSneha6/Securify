{
 "cells": [
  {
   "cell_type": "code",
   "execution_count": 6,
   "metadata": {},
   "outputs": [],
   "source": [
    "import cv2\n",
    "import os\n",
    "\n",
    "# Create directory for saving images\n",
    "def create_dataset_dir(name):\n",
    "    if not os.path.exists(f\"dataset/{name}\"):\n",
    "        os.makedirs(f\"dataset/{name}\")\n",
    "\n",
    "def capture_images(name):\n",
    "    cap = cv2.VideoCapture(0)\n",
    "    face_cascade = cv2.CascadeClassifier(cv2.data.haarcascades + 'haarcascade_frontalface_default.xml')\n",
    "    create_dataset_dir(name)\n",
    "    img_id = 0\n",
    "\n",
    "    while True:\n",
    "        ret, frame = cap.read()\n",
    "        if not ret:\n",
    "            break\n",
    "        gray = cv2.cvtColor(frame, cv2.COLOR_BGR2GRAY)\n",
    "        faces = face_cascade.detectMultiScale(gray, 1.3, 5)\n",
    "\n",
    "        for (x, y, w, h) in faces:\n",
    "            img_id += 1\n",
    "            face = gray[y:y+h, x:x+w]\n",
    "            file_name_path = f\"dataset/{name}/{img_id}.jpg\"\n",
    "            cv2.imwrite(file_name_path, face)\n",
    "\n",
    "            cv2.putText(frame, str(img_id), (x, y - 10), cv2.FONT_HERSHEY_SIMPLEX, 0.9, (0, 255, 0), 2)\n",
    "            cv2.rectangle(frame, (x, y), (x + w, y + h), (0, 255, 0), 2)\n",
    "\n",
    "        cv2.imshow(\"Face\", frame)\n",
    "\n",
    "        if cv2.waitKey(1) == 27 or img_id == 500:  # ESC to break or 100 images captured\n",
    "            break\n",
    "\n",
    "    cap.release()\n",
    "    cv2.destroyAllWindows()\n",
    "\n",
    "# Capture images\n",
    "name = input(\"Enter the name of the person: \")\n",
    "capture_images(name)\n"
   ]
  },
  {
   "cell_type": "code",
   "execution_count": 4,
   "metadata": {},
   "outputs": [
    {
     "name": "stdout",
     "output_type": "stream",
     "text": [
      "No faces found in the dataset. Check the dataset path and images.\n"
     ]
    }
   ],
   "source": []
  },
  {
   "cell_type": "code",
   "execution_count": 8,
   "metadata": {},
   "outputs": [
    {
     "name": "stdout",
     "output_type": "stream",
     "text": [
      "Training for Siddhartha...\n",
      "Model for Siddhartha saved.\n",
      "Model training completed.\n"
     ]
    }
   ],
   "source": [
    "import cv2\n",
    "import numpy as np\n",
    "import os\n",
    "\n",
    "def get_images_and_labels(dataset_path):\n",
    "    face_cascade = cv2.CascadeClassifier(cv2.data.haarcascades + 'haarcascade_frontalface_default.xml')\n",
    "    image_paths = [os.path.join(dataset_path, f) for f in os.listdir(dataset_path) if f.endswith('.jpg')]\n",
    "    face_samples = []\n",
    "    ids = []\n",
    "    \n",
    "    for image_path in image_paths:\n",
    "        img = cv2.imread(image_path, cv2.IMREAD_GRAYSCALE)\n",
    "        img_np = np.array(img, 'uint8')\n",
    "        id = int(os.path.split(image_path)[-1].split(\".\")[0])\n",
    "        faces = face_cascade.detectMultiScale(img_np, scaleFactor=1.3, minNeighbors=5)\n",
    "        for (x, y, w, h) in faces:\n",
    "            face_samples.append(img_np[y:y+h, x:x+w])\n",
    "            ids.append(id)\n",
    "    \n",
    "    return face_samples, ids\n",
    "\n",
    "def train_model():\n",
    "    dataset_path = 'dataset'\n",
    "    \n",
    "    # Ensure 'trainer' directory exists\n",
    "    if not os.path.exists('trainer'):\n",
    "        os.makedirs('trainer')\n",
    "        \n",
    "    recognizer = cv2.face.LBPHFaceRecognizer_create()\n",
    "\n",
    "    for person_name in os.listdir(dataset_path):\n",
    "        person_path = os.path.join(dataset_path, person_name)\n",
    "        if os.path.isdir(person_path):  # Ensure it's a directory\n",
    "            print(f\"Training for {person_name}...\")\n",
    "            faces, ids = get_images_and_labels(person_path)\n",
    "            if len(faces) > 0 and len(ids) > 0:\n",
    "                recognizer.train(faces, np.array(ids))\n",
    "                recognizer.save(f'trainer/{person_name}_model.yml')\n",
    "                print(f\"Model for {person_name} saved.\")\n",
    "            else:\n",
    "                print(f\"No valid data found for {person_name}\")\n",
    "        else:\n",
    "            print(f\"{person_name} is not a valid directory\")\n",
    "\n",
    "    print(\"Model training completed.\")\n",
    "\n",
    "# Train the model\n",
    "train_model()\n"
   ]
  },
  {
   "cell_type": "code",
   "execution_count": 9,
   "metadata": {},
   "outputs": [
    {
     "name": "stdout",
     "output_type": "stream",
     "text": [
      "Loaded names: {0: 'Siddhartha'}\n"
     ]
    }
   ],
   "source": [
    "import cv2\n",
    "import os\n",
    "\n",
    "def recognize_faces():\n",
    "    # Create an LBPH face recognizer instance\n",
    "    recognizer = cv2.face.LBPHFaceRecognizer_create()\n",
    "    # Load Haar Cascade for face detection\n",
    "    face_cascade = cv2.CascadeClassifier(cv2.data.haarcascades + 'haarcascade_frontalface_default.xml')\n",
    "    \n",
    "    # Dictionary to map face ID to name\n",
    "    id_to_name = {}\n",
    "    \n",
    "    # Load all trained models and their names\n",
    "    for file in os.listdir('trainer'):\n",
    "        if file.endswith('_model.yml'):\n",
    "            name = file.split('_')[0]\n",
    "            recognizer.read(f'trainer/{file}')\n",
    "            id_to_name[len(id_to_name)] = name  # Use sequential IDs for names\n",
    "\n",
    "    print(\"Loaded names:\", id_to_name)  # Debugging line\n",
    "\n",
    "    cap = cv2.VideoCapture(0)\n",
    "\n",
    "    while True:\n",
    "        ret, frame = cap.read()\n",
    "        if not ret:\n",
    "            break\n",
    "\n",
    "        gray = cv2.cvtColor(frame, cv2.COLOR_BGR2GRAY)\n",
    "        faces = face_cascade.detectMultiScale(gray, scaleFactor=1.3, minNeighbors=5)\n",
    "\n",
    "        for (x, y, w, h) in faces:\n",
    "            face_region = gray[y:y+h, x:x+w]\n",
    "            face_region_resized = cv2.resize(face_region, (200, 200))  # Resize to a consistent size\n",
    "            face_id, confidence = recognizer.predict(face_region_resized)\n",
    "            \n",
    "            if confidence < 100:\n",
    "                name = id_to_name.get(face_id, \"Unknown\")\n",
    "            else:\n",
    "                name = \"Unknown\"\n",
    "            \n",
    "            cv2.putText(frame, name, (x+5, y-5), cv2.FONT_HERSHEY_SIMPLEX, 1, (0, 255, 0), 2)\n",
    "            cv2.putText(frame, f\"{round(100 - confidence)}%\", (x+5, y+h-5), cv2.FONT_HERSHEY_SIMPLEX, 1, (0, 255, 0), 1)\n",
    "            cv2.rectangle(frame, (x, y), (x+w, y+h), (255, 0, 0), 2)\n",
    "\n",
    "        cv2.imshow(\"Face Recognition\", frame)\n",
    "\n",
    "        if cv2.waitKey(1) == 27:  # ESC to break\n",
    "            break\n",
    "\n",
    "    cap.release()\n",
    "    cv2.destroyAllWindows()\n",
    "\n",
    "# Start face recognition\n",
    "recognize_faces()\n"
   ]
  },
  {
   "cell_type": "code",
   "execution_count": null,
   "metadata": {},
   "outputs": [],
   "source": []
  },
  {
   "cell_type": "code",
   "execution_count": null,
   "metadata": {},
   "outputs": [],
   "source": [
    "\n"
   ]
  },
  {
   "cell_type": "code",
   "execution_count": 10,
   "metadata": {},
   "outputs": [],
   "source": [
    "import cv2\n",
    "import os\n",
    "\n",
    "def capture_images(person_name):\n",
    "    # Create a directory for the person if it doesn't exist\n",
    "    dataset_path = 'dataset'\n",
    "    person_path = os.path.join(dataset_path, person_name)\n",
    "    if not os.path.exists(person_path):\n",
    "        os.makedirs(person_path)\n",
    "\n",
    "    cap = cv2.VideoCapture(0)\n",
    "    count = 1\n",
    "\n",
    "    while True:\n",
    "        ret, frame = cap.read()\n",
    "        if not ret:\n",
    "            break\n",
    "        \n",
    "        cv2.imshow('Capture Image', frame)\n",
    "        if cv2.waitKey(1) & 0xFF == ord('q'):  # Press 'q' to quit\n",
    "            break\n",
    "        \n",
    "        image_path = os.path.join(person_path, f'{person_name}_{count}.jpg')\n",
    "        cv2.imwrite(image_path, frame)\n",
    "        count += 1\n",
    "    \n",
    "    cap.release()\n",
    "    cv2.destroyAllWindows()\n",
    "\n",
    "# Capture images for a person named Siddhartha\n",
    "capture_images('Siddhartha')\n"
   ]
  },
  {
   "cell_type": "code",
   "execution_count": 14,
   "metadata": {},
   "outputs": [
    {
     "name": "stdout",
     "output_type": "stream",
     "text": [
      "24-09-19 21:09:09 - Found 726 newly added image(s), 0 removed image(s), 0 replaced image(s).\n"
     ]
    },
    {
     "name": "stderr",
     "output_type": "stream",
     "text": [
      "Finding representations:   0%|          | 0/726 [00:00<?, ?it/s]\n"
     ]
    },
    {
     "name": "stdout",
     "output_type": "stream",
     "text": [
      "Error in DeepFace: module 'deepface.modules.modeling' has no attribute 'build_model'\n",
      "24-09-19 21:09:09 - Found 726 newly added image(s), 0 removed image(s), 0 replaced image(s).\n"
     ]
    },
    {
     "name": "stderr",
     "output_type": "stream",
     "text": [
      "Finding representations:   0%|          | 0/726 [00:00<?, ?it/s]"
     ]
    },
    {
     "name": "stdout",
     "output_type": "stream",
     "text": [
      "Error in DeepFace: module 'deepface.modules.modeling' has no attribute 'build_model'\n"
     ]
    },
    {
     "name": "stderr",
     "output_type": "stream",
     "text": [
      "\n"
     ]
    },
    {
     "name": "stdout",
     "output_type": "stream",
     "text": [
      "24-09-19 21:09:09 - Found 726 newly added image(s), 0 removed image(s), 0 replaced image(s).\n"
     ]
    },
    {
     "name": "stderr",
     "output_type": "stream",
     "text": [
      "Finding representations:   0%|          | 0/726 [00:00<?, ?it/s]\n"
     ]
    },
    {
     "name": "stdout",
     "output_type": "stream",
     "text": [
      "Error in DeepFace: module 'deepface.modules.modeling' has no attribute 'build_model'\n",
      "24-09-19 21:09:09 - Found 726 newly added image(s), 0 removed image(s), 0 replaced image(s).\n"
     ]
    },
    {
     "name": "stderr",
     "output_type": "stream",
     "text": [
      "Finding representations:   0%|          | 0/726 [00:00<?, ?it/s]\n"
     ]
    },
    {
     "name": "stdout",
     "output_type": "stream",
     "text": [
      "Error in DeepFace: module 'deepface.modules.modeling' has no attribute 'build_model'\n",
      "24-09-19 21:09:09 - Found 726 newly added image(s), 0 removed image(s), 0 replaced image(s).\n"
     ]
    },
    {
     "name": "stderr",
     "output_type": "stream",
     "text": [
      "Finding representations:   0%|          | 0/726 [00:00<?, ?it/s]\n"
     ]
    },
    {
     "name": "stdout",
     "output_type": "stream",
     "text": [
      "Error in DeepFace: module 'deepface.modules.modeling' has no attribute 'build_model'\n",
      "24-09-19 21:09:09 - Found 726 newly added image(s), 0 removed image(s), 0 replaced image(s).\n"
     ]
    },
    {
     "name": "stderr",
     "output_type": "stream",
     "text": [
      "Finding representations:   0%|          | 0/726 [00:00<?, ?it/s]\n"
     ]
    },
    {
     "name": "stdout",
     "output_type": "stream",
     "text": [
      "Error in DeepFace: module 'deepface.modules.modeling' has no attribute 'build_model'\n",
      "24-09-19 21:09:09 - Found 726 newly added image(s), 0 removed image(s), 0 replaced image(s).\n"
     ]
    },
    {
     "name": "stderr",
     "output_type": "stream",
     "text": [
      "Finding representations:   0%|          | 0/726 [00:00<?, ?it/s]"
     ]
    },
    {
     "name": "stdout",
     "output_type": "stream",
     "text": [
      "Error in DeepFace: module 'deepface.modules.modeling' has no attribute 'build_model'\n"
     ]
    },
    {
     "name": "stderr",
     "output_type": "stream",
     "text": [
      "\n"
     ]
    },
    {
     "name": "stdout",
     "output_type": "stream",
     "text": [
      "24-09-19 21:09:09 - Found 726 newly added image(s), 0 removed image(s), 0 replaced image(s).\n"
     ]
    },
    {
     "name": "stderr",
     "output_type": "stream",
     "text": [
      "Finding representations:   0%|          | 0/726 [00:00<?, ?it/s]\n"
     ]
    },
    {
     "name": "stdout",
     "output_type": "stream",
     "text": [
      "Error in DeepFace: module 'deepface.modules.modeling' has no attribute 'build_model'\n",
      "24-09-19 21:09:09 - Found 726 newly added image(s), 0 removed image(s), 0 replaced image(s).\n"
     ]
    },
    {
     "name": "stderr",
     "output_type": "stream",
     "text": [
      "Finding representations:   0%|          | 0/726 [00:00<?, ?it/s]\n"
     ]
    },
    {
     "name": "stdout",
     "output_type": "stream",
     "text": [
      "Error in DeepFace: module 'deepface.modules.modeling' has no attribute 'build_model'\n",
      "24-09-19 21:09:09 - Found 726 newly added image(s), 0 removed image(s), 0 replaced image(s).\n"
     ]
    },
    {
     "name": "stderr",
     "output_type": "stream",
     "text": [
      "Finding representations:   0%|          | 0/726 [00:00<?, ?it/s]\n"
     ]
    },
    {
     "name": "stdout",
     "output_type": "stream",
     "text": [
      "Error in DeepFace: module 'deepface.modules.modeling' has no attribute 'build_model'\n",
      "24-09-19 21:09:09 - Found 726 newly added image(s), 0 removed image(s), 0 replaced image(s).\n"
     ]
    },
    {
     "name": "stderr",
     "output_type": "stream",
     "text": [
      "Finding representations:   0%|          | 0/726 [00:00<?, ?it/s]\n"
     ]
    },
    {
     "name": "stdout",
     "output_type": "stream",
     "text": [
      "Error in DeepFace: module 'deepface.modules.modeling' has no attribute 'build_model'\n",
      "24-09-19 21:09:09 - Found 726 newly added image(s), 0 removed image(s), 0 replaced image(s).\n"
     ]
    },
    {
     "name": "stderr",
     "output_type": "stream",
     "text": [
      "Finding representations:   0%|          | 0/726 [00:00<?, ?it/s]\n"
     ]
    },
    {
     "name": "stdout",
     "output_type": "stream",
     "text": [
      "Error in DeepFace: module 'deepface.modules.modeling' has no attribute 'build_model'\n",
      "24-09-19 21:09:09 - Found 726 newly added image(s), 0 removed image(s), 0 replaced image(s).\n"
     ]
    },
    {
     "name": "stderr",
     "output_type": "stream",
     "text": [
      "Finding representations:   0%|          | 0/726 [00:00<?, ?it/s]\n"
     ]
    },
    {
     "name": "stdout",
     "output_type": "stream",
     "text": [
      "Error in DeepFace: module 'deepface.modules.modeling' has no attribute 'build_model'\n",
      "24-09-19 21:09:09 - Found 726 newly added image(s), 0 removed image(s), 0 replaced image(s).\n"
     ]
    },
    {
     "name": "stderr",
     "output_type": "stream",
     "text": [
      "Finding representations:   0%|          | 0/726 [00:00<?, ?it/s]"
     ]
    },
    {
     "name": "stdout",
     "output_type": "stream",
     "text": [
      "Error in DeepFace: module 'deepface.modules.modeling' has no attribute 'build_model'\n"
     ]
    },
    {
     "name": "stderr",
     "output_type": "stream",
     "text": [
      "\n"
     ]
    },
    {
     "name": "stdout",
     "output_type": "stream",
     "text": [
      "24-09-19 21:09:10 - Found 726 newly added image(s), 0 removed image(s), 0 replaced image(s).\n"
     ]
    },
    {
     "name": "stderr",
     "output_type": "stream",
     "text": [
      "Finding representations:   0%|          | 0/726 [00:00<?, ?it/s]\n"
     ]
    },
    {
     "name": "stdout",
     "output_type": "stream",
     "text": [
      "Error in DeepFace: module 'deepface.modules.modeling' has no attribute 'build_model'\n",
      "24-09-19 21:09:10 - Found 726 newly added image(s), 0 removed image(s), 0 replaced image(s).\n"
     ]
    },
    {
     "name": "stderr",
     "output_type": "stream",
     "text": [
      "Finding representations:   0%|          | 0/726 [00:00<?, ?it/s]\n"
     ]
    },
    {
     "name": "stdout",
     "output_type": "stream",
     "text": [
      "Error in DeepFace: module 'deepface.modules.modeling' has no attribute 'build_model'\n",
      "24-09-19 21:09:10 - Found 726 newly added image(s), 0 removed image(s), 0 replaced image(s).\n"
     ]
    },
    {
     "name": "stderr",
     "output_type": "stream",
     "text": [
      "Finding representations:   0%|          | 0/726 [00:00<?, ?it/s]\n"
     ]
    },
    {
     "name": "stdout",
     "output_type": "stream",
     "text": [
      "Error in DeepFace: module 'deepface.modules.modeling' has no attribute 'build_model'\n",
      "24-09-19 21:09:10 - Found 726 newly added image(s), 0 removed image(s), 0 replaced image(s).\n"
     ]
    },
    {
     "name": "stderr",
     "output_type": "stream",
     "text": [
      "Finding representations:   0%|          | 0/726 [00:00<?, ?it/s]\n"
     ]
    },
    {
     "name": "stdout",
     "output_type": "stream",
     "text": [
      "Error in DeepFace: module 'deepface.modules.modeling' has no attribute 'build_model'\n",
      "24-09-19 21:09:10 - Found 726 newly added image(s), 0 removed image(s), 0 replaced image(s).\n"
     ]
    },
    {
     "name": "stderr",
     "output_type": "stream",
     "text": [
      "Finding representations:   0%|          | 0/726 [00:00<?, ?it/s]\n"
     ]
    },
    {
     "name": "stdout",
     "output_type": "stream",
     "text": [
      "Error in DeepFace: module 'deepface.modules.modeling' has no attribute 'build_model'\n",
      "24-09-19 21:09:10 - Found 726 newly added image(s), 0 removed image(s), 0 replaced image(s).\n"
     ]
    },
    {
     "name": "stderr",
     "output_type": "stream",
     "text": [
      "Finding representations:   0%|          | 0/726 [00:00<?, ?it/s]\n"
     ]
    },
    {
     "name": "stdout",
     "output_type": "stream",
     "text": [
      "Error in DeepFace: module 'deepface.modules.modeling' has no attribute 'build_model'\n",
      "24-09-19 21:09:10 - Found 726 newly added image(s), 0 removed image(s), 0 replaced image(s).\n"
     ]
    },
    {
     "name": "stderr",
     "output_type": "stream",
     "text": [
      "Finding representations:   0%|          | 0/726 [00:00<?, ?it/s]\n"
     ]
    },
    {
     "name": "stdout",
     "output_type": "stream",
     "text": [
      "Error in DeepFace: module 'deepface.modules.modeling' has no attribute 'build_model'\n",
      "24-09-19 21:09:10 - Found 726 newly added image(s), 0 removed image(s), 0 replaced image(s).\n"
     ]
    },
    {
     "name": "stderr",
     "output_type": "stream",
     "text": [
      "Finding representations:   0%|          | 0/726 [00:00<?, ?it/s]\n"
     ]
    },
    {
     "name": "stdout",
     "output_type": "stream",
     "text": [
      "Error in DeepFace: module 'deepface.modules.modeling' has no attribute 'build_model'\n",
      "24-09-19 21:09:10 - Found 726 newly added image(s), 0 removed image(s), 0 replaced image(s).\n"
     ]
    },
    {
     "name": "stderr",
     "output_type": "stream",
     "text": [
      "Finding representations:   0%|          | 0/726 [00:00<?, ?it/s]\n"
     ]
    },
    {
     "name": "stdout",
     "output_type": "stream",
     "text": [
      "Error in DeepFace: module 'deepface.modules.modeling' has no attribute 'build_model'\n",
      "24-09-19 21:09:10 - Found 726 newly added image(s), 0 removed image(s), 0 replaced image(s).\n"
     ]
    },
    {
     "name": "stderr",
     "output_type": "stream",
     "text": [
      "Finding representations:   0%|          | 0/726 [00:00<?, ?it/s]\n"
     ]
    },
    {
     "name": "stdout",
     "output_type": "stream",
     "text": [
      "Error in DeepFace: module 'deepface.modules.modeling' has no attribute 'build_model'\n",
      "24-09-19 21:09:10 - Found 726 newly added image(s), 0 removed image(s), 0 replaced image(s).\n"
     ]
    },
    {
     "name": "stderr",
     "output_type": "stream",
     "text": [
      "Finding representations:   0%|          | 0/726 [00:00<?, ?it/s]\n"
     ]
    },
    {
     "name": "stdout",
     "output_type": "stream",
     "text": [
      "Error in DeepFace: module 'deepface.modules.modeling' has no attribute 'build_model'\n",
      "24-09-19 21:09:10 - Found 726 newly added image(s), 0 removed image(s), 0 replaced image(s).\n"
     ]
    },
    {
     "name": "stderr",
     "output_type": "stream",
     "text": [
      "Finding representations:   0%|          | 0/726 [00:00<?, ?it/s]\n"
     ]
    },
    {
     "name": "stdout",
     "output_type": "stream",
     "text": [
      "Error in DeepFace: module 'deepface.modules.modeling' has no attribute 'build_model'\n",
      "24-09-19 21:09:10 - Found 726 newly added image(s), 0 removed image(s), 0 replaced image(s).\n"
     ]
    },
    {
     "name": "stderr",
     "output_type": "stream",
     "text": [
      "Finding representations:   0%|          | 0/726 [00:00<?, ?it/s]\n"
     ]
    },
    {
     "name": "stdout",
     "output_type": "stream",
     "text": [
      "Error in DeepFace: module 'deepface.modules.modeling' has no attribute 'build_model'\n",
      "24-09-19 21:09:10 - Found 726 newly added image(s), 0 removed image(s), 0 replaced image(s).\n"
     ]
    },
    {
     "name": "stderr",
     "output_type": "stream",
     "text": [
      "Finding representations:   0%|          | 0/726 [00:00<?, ?it/s]\n"
     ]
    },
    {
     "name": "stdout",
     "output_type": "stream",
     "text": [
      "Error in DeepFace: module 'deepface.modules.modeling' has no attribute 'build_model'\n",
      "24-09-19 21:09:10 - Found 726 newly added image(s), 0 removed image(s), 0 replaced image(s).\n"
     ]
    },
    {
     "name": "stderr",
     "output_type": "stream",
     "text": [
      "Finding representations:   0%|          | 0/726 [00:00<?, ?it/s]\n"
     ]
    },
    {
     "name": "stdout",
     "output_type": "stream",
     "text": [
      "Error in DeepFace: module 'deepface.modules.modeling' has no attribute 'build_model'\n",
      "24-09-19 21:09:10 - Found 726 newly added image(s), 0 removed image(s), 0 replaced image(s).\n"
     ]
    },
    {
     "name": "stderr",
     "output_type": "stream",
     "text": [
      "Finding representations:   0%|          | 0/726 [00:00<?, ?it/s]\n"
     ]
    },
    {
     "name": "stdout",
     "output_type": "stream",
     "text": [
      "Error in DeepFace: module 'deepface.modules.modeling' has no attribute 'build_model'\n",
      "24-09-19 21:09:11 - Found 726 newly added image(s), 0 removed image(s), 0 replaced image(s).\n"
     ]
    },
    {
     "name": "stderr",
     "output_type": "stream",
     "text": [
      "Finding representations:   0%|          | 0/726 [00:00<?, ?it/s]\n"
     ]
    },
    {
     "name": "stdout",
     "output_type": "stream",
     "text": [
      "Error in DeepFace: module 'deepface.modules.modeling' has no attribute 'build_model'\n",
      "24-09-19 21:09:11 - Found 726 newly added image(s), 0 removed image(s), 0 replaced image(s).\n"
     ]
    },
    {
     "name": "stderr",
     "output_type": "stream",
     "text": [
      "Finding representations:   0%|          | 0/726 [00:00<?, ?it/s]\n"
     ]
    },
    {
     "name": "stdout",
     "output_type": "stream",
     "text": [
      "Error in DeepFace: module 'deepface.modules.modeling' has no attribute 'build_model'\n",
      "24-09-19 21:09:11 - Found 726 newly added image(s), 0 removed image(s), 0 replaced image(s).\n"
     ]
    },
    {
     "name": "stderr",
     "output_type": "stream",
     "text": [
      "Finding representations:   0%|          | 0/726 [00:00<?, ?it/s]\n"
     ]
    },
    {
     "name": "stdout",
     "output_type": "stream",
     "text": [
      "Error in DeepFace: module 'deepface.modules.modeling' has no attribute 'build_model'\n",
      "24-09-19 21:09:11 - Found 726 newly added image(s), 0 removed image(s), 0 replaced image(s).\n"
     ]
    },
    {
     "name": "stderr",
     "output_type": "stream",
     "text": [
      "Finding representations:   0%|          | 0/726 [00:00<?, ?it/s]"
     ]
    },
    {
     "name": "stdout",
     "output_type": "stream",
     "text": [
      "Error in DeepFace: module 'deepface.modules.modeling' has no attribute 'build_model'\n"
     ]
    },
    {
     "name": "stderr",
     "output_type": "stream",
     "text": [
      "\n"
     ]
    },
    {
     "name": "stdout",
     "output_type": "stream",
     "text": [
      "24-09-19 21:09:11 - Found 726 newly added image(s), 0 removed image(s), 0 replaced image(s).\n"
     ]
    },
    {
     "name": "stderr",
     "output_type": "stream",
     "text": [
      "Finding representations:   0%|          | 0/726 [00:00<?, ?it/s]\n"
     ]
    },
    {
     "name": "stdout",
     "output_type": "stream",
     "text": [
      "Error in DeepFace: module 'deepface.modules.modeling' has no attribute 'build_model'\n",
      "24-09-19 21:09:11 - Found 726 newly added image(s), 0 removed image(s), 0 replaced image(s).\n"
     ]
    },
    {
     "name": "stderr",
     "output_type": "stream",
     "text": [
      "Finding representations:   0%|          | 0/726 [00:00<?, ?it/s]\n"
     ]
    },
    {
     "name": "stdout",
     "output_type": "stream",
     "text": [
      "Error in DeepFace: module 'deepface.modules.modeling' has no attribute 'build_model'\n",
      "24-09-19 21:09:11 - Found 726 newly added image(s), 0 removed image(s), 0 replaced image(s).\n"
     ]
    },
    {
     "name": "stderr",
     "output_type": "stream",
     "text": [
      "Finding representations:   0%|          | 0/726 [00:00<?, ?it/s]\n"
     ]
    },
    {
     "name": "stdout",
     "output_type": "stream",
     "text": [
      "Error in DeepFace: module 'deepface.modules.modeling' has no attribute 'build_model'\n",
      "24-09-19 21:09:11 - Found 726 newly added image(s), 0 removed image(s), 0 replaced image(s).\n"
     ]
    },
    {
     "name": "stderr",
     "output_type": "stream",
     "text": [
      "Finding representations:   0%|          | 0/726 [00:00<?, ?it/s]\n"
     ]
    },
    {
     "name": "stdout",
     "output_type": "stream",
     "text": [
      "Error in DeepFace: module 'deepface.modules.modeling' has no attribute 'build_model'\n",
      "24-09-19 21:09:11 - Found 726 newly added image(s), 0 removed image(s), 0 replaced image(s).\n"
     ]
    },
    {
     "name": "stderr",
     "output_type": "stream",
     "text": [
      "Finding representations:   0%|          | 0/726 [00:00<?, ?it/s]\n"
     ]
    },
    {
     "name": "stdout",
     "output_type": "stream",
     "text": [
      "Error in DeepFace: module 'deepface.modules.modeling' has no attribute 'build_model'\n",
      "24-09-19 21:09:11 - Found 726 newly added image(s), 0 removed image(s), 0 replaced image(s).\n"
     ]
    },
    {
     "name": "stderr",
     "output_type": "stream",
     "text": [
      "Finding representations:   0%|          | 0/726 [00:00<?, ?it/s]\n"
     ]
    },
    {
     "name": "stdout",
     "output_type": "stream",
     "text": [
      "Error in DeepFace: module 'deepface.modules.modeling' has no attribute 'build_model'\n",
      "24-09-19 21:09:11 - Found 726 newly added image(s), 0 removed image(s), 0 replaced image(s).\n"
     ]
    },
    {
     "name": "stderr",
     "output_type": "stream",
     "text": [
      "Finding representations:   0%|          | 0/726 [00:00<?, ?it/s]\n"
     ]
    },
    {
     "name": "stdout",
     "output_type": "stream",
     "text": [
      "Error in DeepFace: module 'deepface.modules.modeling' has no attribute 'build_model'\n",
      "24-09-19 21:09:11 - Found 726 newly added image(s), 0 removed image(s), 0 replaced image(s).\n"
     ]
    },
    {
     "name": "stderr",
     "output_type": "stream",
     "text": [
      "Finding representations:   0%|          | 0/726 [00:00<?, ?it/s]\n"
     ]
    },
    {
     "name": "stdout",
     "output_type": "stream",
     "text": [
      "Error in DeepFace: module 'deepface.modules.modeling' has no attribute 'build_model'\n",
      "24-09-19 21:09:11 - Found 726 newly added image(s), 0 removed image(s), 0 replaced image(s).\n"
     ]
    },
    {
     "name": "stderr",
     "output_type": "stream",
     "text": [
      "Finding representations:   0%|          | 0/726 [00:00<?, ?it/s]\n"
     ]
    },
    {
     "name": "stdout",
     "output_type": "stream",
     "text": [
      "Error in DeepFace: module 'deepface.modules.modeling' has no attribute 'build_model'\n",
      "24-09-19 21:09:11 - Found 726 newly added image(s), 0 removed image(s), 0 replaced image(s).\n"
     ]
    },
    {
     "name": "stderr",
     "output_type": "stream",
     "text": [
      "Finding representations:   0%|          | 0/726 [00:00<?, ?it/s]\n"
     ]
    },
    {
     "name": "stdout",
     "output_type": "stream",
     "text": [
      "Error in DeepFace: module 'deepface.modules.modeling' has no attribute 'build_model'\n",
      "24-09-19 21:09:11 - Found 726 newly added image(s), 0 removed image(s), 0 replaced image(s).\n"
     ]
    },
    {
     "name": "stderr",
     "output_type": "stream",
     "text": [
      "Finding representations:   0%|          | 0/726 [00:00<?, ?it/s]\n"
     ]
    },
    {
     "name": "stdout",
     "output_type": "stream",
     "text": [
      "Error in DeepFace: module 'deepface.modules.modeling' has no attribute 'build_model'\n",
      "24-09-19 21:09:12 - Found 726 newly added image(s), 0 removed image(s), 0 replaced image(s).\n"
     ]
    },
    {
     "name": "stderr",
     "output_type": "stream",
     "text": [
      "Finding representations:   0%|          | 0/726 [00:00<?, ?it/s]\n"
     ]
    },
    {
     "name": "stdout",
     "output_type": "stream",
     "text": [
      "Error in DeepFace: module 'deepface.modules.modeling' has no attribute 'build_model'\n",
      "24-09-19 21:09:12 - Found 726 newly added image(s), 0 removed image(s), 0 replaced image(s).\n"
     ]
    },
    {
     "name": "stderr",
     "output_type": "stream",
     "text": [
      "Finding representations:   0%|          | 0/726 [00:00<?, ?it/s]\n"
     ]
    },
    {
     "name": "stdout",
     "output_type": "stream",
     "text": [
      "Error in DeepFace: module 'deepface.modules.modeling' has no attribute 'build_model'\n",
      "24-09-19 21:09:12 - Found 726 newly added image(s), 0 removed image(s), 0 replaced image(s).\n"
     ]
    },
    {
     "name": "stderr",
     "output_type": "stream",
     "text": [
      "Finding representations:   0%|          | 0/726 [00:00<?, ?it/s]"
     ]
    },
    {
     "name": "stdout",
     "output_type": "stream",
     "text": [
      "Error in DeepFace: module 'deepface.modules.modeling' has no attribute 'build_model'\n"
     ]
    },
    {
     "name": "stderr",
     "output_type": "stream",
     "text": [
      "\n"
     ]
    },
    {
     "name": "stdout",
     "output_type": "stream",
     "text": [
      "24-09-19 21:09:12 - Found 726 newly added image(s), 0 removed image(s), 0 replaced image(s).\n"
     ]
    },
    {
     "name": "stderr",
     "output_type": "stream",
     "text": [
      "Finding representations:   0%|          | 0/726 [00:00<?, ?it/s]"
     ]
    },
    {
     "name": "stdout",
     "output_type": "stream",
     "text": [
      "Error in DeepFace: module 'deepface.modules.modeling' has no attribute 'build_model'\n"
     ]
    },
    {
     "name": "stderr",
     "output_type": "stream",
     "text": [
      "\n"
     ]
    },
    {
     "name": "stdout",
     "output_type": "stream",
     "text": [
      "24-09-19 21:09:12 - Found 726 newly added image(s), 0 removed image(s), 0 replaced image(s).\n"
     ]
    },
    {
     "name": "stderr",
     "output_type": "stream",
     "text": [
      "Finding representations:   0%|          | 0/726 [00:00<?, ?it/s]\n"
     ]
    },
    {
     "name": "stdout",
     "output_type": "stream",
     "text": [
      "Error in DeepFace: module 'deepface.modules.modeling' has no attribute 'build_model'\n",
      "24-09-19 21:09:12 - Found 726 newly added image(s), 0 removed image(s), 0 replaced image(s).\n"
     ]
    },
    {
     "name": "stderr",
     "output_type": "stream",
     "text": [
      "Finding representations:   0%|          | 0/726 [00:00<?, ?it/s]\n"
     ]
    },
    {
     "name": "stdout",
     "output_type": "stream",
     "text": [
      "Error in DeepFace: module 'deepface.modules.modeling' has no attribute 'build_model'\n",
      "24-09-19 21:09:12 - Found 726 newly added image(s), 0 removed image(s), 0 replaced image(s).\n"
     ]
    },
    {
     "name": "stderr",
     "output_type": "stream",
     "text": [
      "Finding representations:   0%|          | 0/726 [00:00<?, ?it/s]\n"
     ]
    },
    {
     "name": "stdout",
     "output_type": "stream",
     "text": [
      "Error in DeepFace: module 'deepface.modules.modeling' has no attribute 'build_model'\n",
      "24-09-19 21:09:12 - Found 726 newly added image(s), 0 removed image(s), 0 replaced image(s).\n"
     ]
    },
    {
     "name": "stderr",
     "output_type": "stream",
     "text": [
      "Finding representations:   0%|          | 0/726 [00:00<?, ?it/s]\n"
     ]
    },
    {
     "name": "stdout",
     "output_type": "stream",
     "text": [
      "Error in DeepFace: module 'deepface.modules.modeling' has no attribute 'build_model'\n",
      "24-09-19 21:09:12 - Found 726 newly added image(s), 0 removed image(s), 0 replaced image(s).\n"
     ]
    },
    {
     "name": "stderr",
     "output_type": "stream",
     "text": [
      "Finding representations:   0%|          | 0/726 [00:00<?, ?it/s]\n"
     ]
    },
    {
     "name": "stdout",
     "output_type": "stream",
     "text": [
      "Error in DeepFace: module 'deepface.modules.modeling' has no attribute 'build_model'\n",
      "24-09-19 21:09:12 - Found 726 newly added image(s), 0 removed image(s), 0 replaced image(s).\n"
     ]
    },
    {
     "name": "stderr",
     "output_type": "stream",
     "text": [
      "Finding representations:   0%|          | 0/726 [00:00<?, ?it/s]\n"
     ]
    },
    {
     "name": "stdout",
     "output_type": "stream",
     "text": [
      "Error in DeepFace: module 'deepface.modules.modeling' has no attribute 'build_model'\n",
      "24-09-19 21:09:12 - Found 726 newly added image(s), 0 removed image(s), 0 replaced image(s).\n"
     ]
    },
    {
     "name": "stderr",
     "output_type": "stream",
     "text": [
      "Finding representations:   0%|          | 0/726 [00:00<?, ?it/s]\n"
     ]
    },
    {
     "name": "stdout",
     "output_type": "stream",
     "text": [
      "Error in DeepFace: module 'deepface.modules.modeling' has no attribute 'build_model'\n",
      "24-09-19 21:09:12 - Found 726 newly added image(s), 0 removed image(s), 0 replaced image(s).\n"
     ]
    },
    {
     "name": "stderr",
     "output_type": "stream",
     "text": [
      "Finding representations:   0%|          | 0/726 [00:00<?, ?it/s]\n"
     ]
    },
    {
     "name": "stdout",
     "output_type": "stream",
     "text": [
      "Error in DeepFace: module 'deepface.modules.modeling' has no attribute 'build_model'\n",
      "24-09-19 21:09:12 - Found 726 newly added image(s), 0 removed image(s), 0 replaced image(s).\n"
     ]
    },
    {
     "name": "stderr",
     "output_type": "stream",
     "text": [
      "Finding representations:   0%|          | 0/726 [00:00<?, ?it/s]\n"
     ]
    },
    {
     "name": "stdout",
     "output_type": "stream",
     "text": [
      "Error in DeepFace: module 'deepface.modules.modeling' has no attribute 'build_model'\n",
      "24-09-19 21:09:12 - Found 726 newly added image(s), 0 removed image(s), 0 replaced image(s).\n"
     ]
    },
    {
     "name": "stderr",
     "output_type": "stream",
     "text": [
      "Finding representations:   0%|          | 0/726 [00:00<?, ?it/s]\n"
     ]
    },
    {
     "name": "stdout",
     "output_type": "stream",
     "text": [
      "Error in DeepFace: module 'deepface.modules.modeling' has no attribute 'build_model'\n",
      "24-09-19 21:09:12 - Found 726 newly added image(s), 0 removed image(s), 0 replaced image(s).\n"
     ]
    },
    {
     "name": "stderr",
     "output_type": "stream",
     "text": [
      "Finding representations:   0%|          | 0/726 [00:00<?, ?it/s]\n"
     ]
    },
    {
     "name": "stdout",
     "output_type": "stream",
     "text": [
      "Error in DeepFace: module 'deepface.modules.modeling' has no attribute 'build_model'\n",
      "24-09-19 21:09:13 - Found 726 newly added image(s), 0 removed image(s), 0 replaced image(s).\n"
     ]
    },
    {
     "name": "stderr",
     "output_type": "stream",
     "text": [
      "Finding representations:   0%|          | 0/726 [00:00<?, ?it/s]\n"
     ]
    },
    {
     "name": "stdout",
     "output_type": "stream",
     "text": [
      "Error in DeepFace: module 'deepface.modules.modeling' has no attribute 'build_model'\n",
      "24-09-19 21:09:13 - Found 726 newly added image(s), 0 removed image(s), 0 replaced image(s).\n"
     ]
    },
    {
     "name": "stderr",
     "output_type": "stream",
     "text": [
      "Finding representations:   0%|          | 0/726 [00:00<?, ?it/s]\n"
     ]
    },
    {
     "name": "stdout",
     "output_type": "stream",
     "text": [
      "Error in DeepFace: module 'deepface.modules.modeling' has no attribute 'build_model'\n",
      "24-09-19 21:09:13 - Found 726 newly added image(s), 0 removed image(s), 0 replaced image(s).\n"
     ]
    },
    {
     "name": "stderr",
     "output_type": "stream",
     "text": [
      "Finding representations:   0%|          | 0/726 [00:00<?, ?it/s]\n"
     ]
    },
    {
     "name": "stdout",
     "output_type": "stream",
     "text": [
      "Error in DeepFace: module 'deepface.modules.modeling' has no attribute 'build_model'\n",
      "24-09-19 21:09:13 - Found 726 newly added image(s), 0 removed image(s), 0 replaced image(s).\n"
     ]
    },
    {
     "name": "stderr",
     "output_type": "stream",
     "text": [
      "Finding representations:   0%|          | 0/726 [00:00<?, ?it/s]\n"
     ]
    },
    {
     "name": "stdout",
     "output_type": "stream",
     "text": [
      "Error in DeepFace: module 'deepface.modules.modeling' has no attribute 'build_model'\n",
      "24-09-19 21:09:13 - Found 726 newly added image(s), 0 removed image(s), 0 replaced image(s).\n"
     ]
    },
    {
     "name": "stderr",
     "output_type": "stream",
     "text": [
      "Finding representations:   0%|          | 0/726 [00:00<?, ?it/s]\n"
     ]
    },
    {
     "name": "stdout",
     "output_type": "stream",
     "text": [
      "Error in DeepFace: module 'deepface.modules.modeling' has no attribute 'build_model'\n",
      "24-09-19 21:09:13 - Found 726 newly added image(s), 0 removed image(s), 0 replaced image(s).\n"
     ]
    },
    {
     "name": "stderr",
     "output_type": "stream",
     "text": [
      "Finding representations:   0%|          | 0/726 [00:00<?, ?it/s]\n"
     ]
    },
    {
     "name": "stdout",
     "output_type": "stream",
     "text": [
      "Error in DeepFace: module 'deepface.modules.modeling' has no attribute 'build_model'\n",
      "24-09-19 21:09:13 - Found 726 newly added image(s), 0 removed image(s), 0 replaced image(s).\n"
     ]
    },
    {
     "name": "stderr",
     "output_type": "stream",
     "text": [
      "Finding representations:   0%|          | 0/726 [00:00<?, ?it/s]\n"
     ]
    },
    {
     "name": "stdout",
     "output_type": "stream",
     "text": [
      "Error in DeepFace: module 'deepface.modules.modeling' has no attribute 'build_model'\n",
      "24-09-19 21:09:13 - Found 726 newly added image(s), 0 removed image(s), 0 replaced image(s).\n"
     ]
    },
    {
     "name": "stderr",
     "output_type": "stream",
     "text": [
      "Finding representations:   0%|          | 0/726 [00:00<?, ?it/s]\n"
     ]
    },
    {
     "name": "stdout",
     "output_type": "stream",
     "text": [
      "Error in DeepFace: module 'deepface.modules.modeling' has no attribute 'build_model'\n",
      "24-09-19 21:09:13 - Found 726 newly added image(s), 0 removed image(s), 0 replaced image(s).\n"
     ]
    },
    {
     "name": "stderr",
     "output_type": "stream",
     "text": [
      "Finding representations:   0%|          | 0/726 [00:00<?, ?it/s]"
     ]
    },
    {
     "name": "stdout",
     "output_type": "stream",
     "text": [
      "Error in DeepFace: module 'deepface.modules.modeling' has no attribute 'build_model'\n"
     ]
    },
    {
     "name": "stderr",
     "output_type": "stream",
     "text": [
      "\n"
     ]
    },
    {
     "name": "stdout",
     "output_type": "stream",
     "text": [
      "24-09-19 21:09:13 - Found 726 newly added image(s), 0 removed image(s), 0 replaced image(s).\n"
     ]
    },
    {
     "name": "stderr",
     "output_type": "stream",
     "text": [
      "Finding representations:   0%|          | 0/726 [00:00<?, ?it/s]\n"
     ]
    },
    {
     "name": "stdout",
     "output_type": "stream",
     "text": [
      "Error in DeepFace: module 'deepface.modules.modeling' has no attribute 'build_model'\n",
      "24-09-19 21:09:13 - Found 726 newly added image(s), 0 removed image(s), 0 replaced image(s).\n"
     ]
    },
    {
     "name": "stderr",
     "output_type": "stream",
     "text": [
      "Finding representations:   0%|          | 0/726 [00:00<?, ?it/s]\n"
     ]
    },
    {
     "name": "stdout",
     "output_type": "stream",
     "text": [
      "Error in DeepFace: module 'deepface.modules.modeling' has no attribute 'build_model'\n",
      "24-09-19 21:09:13 - Found 726 newly added image(s), 0 removed image(s), 0 replaced image(s).\n"
     ]
    },
    {
     "name": "stderr",
     "output_type": "stream",
     "text": [
      "Finding representations:   0%|          | 0/726 [00:00<?, ?it/s]\n"
     ]
    },
    {
     "name": "stdout",
     "output_type": "stream",
     "text": [
      "Error in DeepFace: module 'deepface.modules.modeling' has no attribute 'build_model'\n",
      "24-09-19 21:09:13 - Found 726 newly added image(s), 0 removed image(s), 0 replaced image(s).\n"
     ]
    },
    {
     "name": "stderr",
     "output_type": "stream",
     "text": [
      "Finding representations:   0%|          | 0/726 [00:00<?, ?it/s]\n"
     ]
    },
    {
     "name": "stdout",
     "output_type": "stream",
     "text": [
      "Error in DeepFace: module 'deepface.modules.modeling' has no attribute 'build_model'\n",
      "24-09-19 21:09:13 - Found 726 newly added image(s), 0 removed image(s), 0 replaced image(s).\n"
     ]
    },
    {
     "name": "stderr",
     "output_type": "stream",
     "text": [
      "Finding representations:   0%|          | 0/726 [00:00<?, ?it/s]\n"
     ]
    },
    {
     "name": "stdout",
     "output_type": "stream",
     "text": [
      "Error in DeepFace: module 'deepface.modules.modeling' has no attribute 'build_model'\n",
      "24-09-19 21:09:13 - Found 726 newly added image(s), 0 removed image(s), 0 replaced image(s).\n"
     ]
    },
    {
     "name": "stderr",
     "output_type": "stream",
     "text": [
      "Finding representations:   0%|          | 0/726 [00:00<?, ?it/s]\n"
     ]
    },
    {
     "name": "stdout",
     "output_type": "stream",
     "text": [
      "Error in DeepFace: module 'deepface.modules.modeling' has no attribute 'build_model'\n",
      "24-09-19 21:09:13 - Found 726 newly added image(s), 0 removed image(s), 0 replaced image(s).\n"
     ]
    },
    {
     "name": "stderr",
     "output_type": "stream",
     "text": [
      "Finding representations:   0%|          | 0/726 [00:00<?, ?it/s]\n"
     ]
    },
    {
     "name": "stdout",
     "output_type": "stream",
     "text": [
      "Error in DeepFace: module 'deepface.modules.modeling' has no attribute 'build_model'\n",
      "24-09-19 21:09:14 - Found 726 newly added image(s), 0 removed image(s), 0 replaced image(s).\n"
     ]
    },
    {
     "name": "stderr",
     "output_type": "stream",
     "text": [
      "Finding representations:   0%|          | 0/726 [00:00<?, ?it/s]\n"
     ]
    },
    {
     "name": "stdout",
     "output_type": "stream",
     "text": [
      "Error in DeepFace: module 'deepface.modules.modeling' has no attribute 'build_model'\n",
      "24-09-19 21:09:14 - Found 726 newly added image(s), 0 removed image(s), 0 replaced image(s).\n"
     ]
    },
    {
     "name": "stderr",
     "output_type": "stream",
     "text": [
      "Finding representations:   0%|          | 0/726 [00:00<?, ?it/s]\n"
     ]
    },
    {
     "name": "stdout",
     "output_type": "stream",
     "text": [
      "Error in DeepFace: module 'deepface.modules.modeling' has no attribute 'build_model'\n",
      "24-09-19 21:09:14 - Found 726 newly added image(s), 0 removed image(s), 0 replaced image(s).\n"
     ]
    },
    {
     "name": "stderr",
     "output_type": "stream",
     "text": [
      "Finding representations:   0%|          | 0/726 [00:00<?, ?it/s]\n"
     ]
    },
    {
     "name": "stdout",
     "output_type": "stream",
     "text": [
      "Error in DeepFace: module 'deepface.modules.modeling' has no attribute 'build_model'\n",
      "24-09-19 21:09:14 - Found 726 newly added image(s), 0 removed image(s), 0 replaced image(s).\n"
     ]
    },
    {
     "name": "stderr",
     "output_type": "stream",
     "text": [
      "Finding representations:   0%|          | 0/726 [00:00<?, ?it/s]\n"
     ]
    },
    {
     "name": "stdout",
     "output_type": "stream",
     "text": [
      "Error in DeepFace: module 'deepface.modules.modeling' has no attribute 'build_model'\n",
      "24-09-19 21:09:14 - Found 726 newly added image(s), 0 removed image(s), 0 replaced image(s).\n"
     ]
    },
    {
     "name": "stderr",
     "output_type": "stream",
     "text": [
      "Finding representations:   0%|          | 0/726 [00:00<?, ?it/s]\n"
     ]
    },
    {
     "name": "stdout",
     "output_type": "stream",
     "text": [
      "Error in DeepFace: module 'deepface.modules.modeling' has no attribute 'build_model'\n",
      "24-09-19 21:09:14 - Found 726 newly added image(s), 0 removed image(s), 0 replaced image(s).\n"
     ]
    },
    {
     "name": "stderr",
     "output_type": "stream",
     "text": [
      "Finding representations:   0%|          | 0/726 [00:00<?, ?it/s]"
     ]
    },
    {
     "name": "stdout",
     "output_type": "stream",
     "text": [
      "Error in DeepFace: module 'deepface.modules.modeling' has no attribute 'build_model'\n"
     ]
    },
    {
     "name": "stderr",
     "output_type": "stream",
     "text": [
      "\n"
     ]
    },
    {
     "name": "stdout",
     "output_type": "stream",
     "text": [
      "24-09-19 21:09:14 - Found 726 newly added image(s), 0 removed image(s), 0 replaced image(s).\n"
     ]
    },
    {
     "name": "stderr",
     "output_type": "stream",
     "text": [
      "Finding representations:   0%|          | 0/726 [00:00<?, ?it/s]\n"
     ]
    },
    {
     "name": "stdout",
     "output_type": "stream",
     "text": [
      "Error in DeepFace: module 'deepface.modules.modeling' has no attribute 'build_model'\n",
      "24-09-19 21:09:14 - Found 726 newly added image(s), 0 removed image(s), 0 replaced image(s).\n"
     ]
    },
    {
     "name": "stderr",
     "output_type": "stream",
     "text": [
      "Finding representations:   0%|          | 0/726 [00:00<?, ?it/s]"
     ]
    },
    {
     "name": "stdout",
     "output_type": "stream",
     "text": [
      "Error in DeepFace: module 'deepface.modules.modeling' has no attribute 'build_model'\n"
     ]
    },
    {
     "name": "stderr",
     "output_type": "stream",
     "text": [
      "\n"
     ]
    },
    {
     "name": "stdout",
     "output_type": "stream",
     "text": [
      "24-09-19 21:09:14 - Found 726 newly added image(s), 0 removed image(s), 0 replaced image(s).\n"
     ]
    },
    {
     "name": "stderr",
     "output_type": "stream",
     "text": [
      "Finding representations:   0%|          | 0/726 [00:00<?, ?it/s]\n"
     ]
    },
    {
     "name": "stdout",
     "output_type": "stream",
     "text": [
      "Error in DeepFace: module 'deepface.modules.modeling' has no attribute 'build_model'\n",
      "24-09-19 21:09:14 - Found 726 newly added image(s), 0 removed image(s), 0 replaced image(s).\n"
     ]
    },
    {
     "name": "stderr",
     "output_type": "stream",
     "text": [
      "Finding representations:   0%|          | 0/726 [00:00<?, ?it/s]\n"
     ]
    },
    {
     "name": "stdout",
     "output_type": "stream",
     "text": [
      "Error in DeepFace: module 'deepface.modules.modeling' has no attribute 'build_model'\n",
      "24-09-19 21:09:14 - Found 726 newly added image(s), 0 removed image(s), 0 replaced image(s).\n"
     ]
    },
    {
     "name": "stderr",
     "output_type": "stream",
     "text": [
      "Finding representations:   0%|          | 0/726 [00:00<?, ?it/s]\n"
     ]
    },
    {
     "name": "stdout",
     "output_type": "stream",
     "text": [
      "Error in DeepFace: module 'deepface.modules.modeling' has no attribute 'build_model'\n",
      "24-09-19 21:09:14 - Found 726 newly added image(s), 0 removed image(s), 0 replaced image(s).\n"
     ]
    },
    {
     "name": "stderr",
     "output_type": "stream",
     "text": [
      "Finding representations:   0%|          | 0/726 [00:00<?, ?it/s]\n"
     ]
    },
    {
     "name": "stdout",
     "output_type": "stream",
     "text": [
      "Error in DeepFace: module 'deepface.modules.modeling' has no attribute 'build_model'\n",
      "24-09-19 21:09:14 - Found 726 newly added image(s), 0 removed image(s), 0 replaced image(s).\n"
     ]
    },
    {
     "name": "stderr",
     "output_type": "stream",
     "text": [
      "Finding representations:   0%|          | 0/726 [00:00<?, ?it/s]\n"
     ]
    },
    {
     "name": "stdout",
     "output_type": "stream",
     "text": [
      "Error in DeepFace: module 'deepface.modules.modeling' has no attribute 'build_model'\n",
      "24-09-19 21:09:14 - Found 726 newly added image(s), 0 removed image(s), 0 replaced image(s).\n"
     ]
    },
    {
     "name": "stderr",
     "output_type": "stream",
     "text": [
      "Finding representations:   0%|          | 0/726 [00:00<?, ?it/s]\n"
     ]
    },
    {
     "name": "stdout",
     "output_type": "stream",
     "text": [
      "Error in DeepFace: module 'deepface.modules.modeling' has no attribute 'build_model'\n",
      "24-09-19 21:09:15 - Found 726 newly added image(s), 0 removed image(s), 0 replaced image(s).\n"
     ]
    },
    {
     "name": "stderr",
     "output_type": "stream",
     "text": [
      "Finding representations:   0%|          | 0/726 [00:00<?, ?it/s]\n"
     ]
    },
    {
     "name": "stdout",
     "output_type": "stream",
     "text": [
      "Error in DeepFace: module 'deepface.modules.modeling' has no attribute 'build_model'\n",
      "24-09-19 21:09:15 - Found 726 newly added image(s), 0 removed image(s), 0 replaced image(s).\n"
     ]
    },
    {
     "name": "stderr",
     "output_type": "stream",
     "text": [
      "Finding representations:   0%|          | 0/726 [00:00<?, ?it/s]\n"
     ]
    },
    {
     "name": "stdout",
     "output_type": "stream",
     "text": [
      "Error in DeepFace: module 'deepface.modules.modeling' has no attribute 'build_model'\n",
      "24-09-19 21:09:15 - Found 726 newly added image(s), 0 removed image(s), 0 replaced image(s).\n"
     ]
    },
    {
     "name": "stderr",
     "output_type": "stream",
     "text": [
      "Finding representations:   0%|          | 0/726 [00:00<?, ?it/s]\n"
     ]
    },
    {
     "name": "stdout",
     "output_type": "stream",
     "text": [
      "Error in DeepFace: module 'deepface.modules.modeling' has no attribute 'build_model'\n",
      "24-09-19 21:09:15 - Found 726 newly added image(s), 0 removed image(s), 0 replaced image(s).\n"
     ]
    },
    {
     "name": "stderr",
     "output_type": "stream",
     "text": [
      "Finding representations:   0%|          | 0/726 [00:00<?, ?it/s]\n"
     ]
    },
    {
     "name": "stdout",
     "output_type": "stream",
     "text": [
      "Error in DeepFace: module 'deepface.modules.modeling' has no attribute 'build_model'\n",
      "24-09-19 21:09:15 - Found 726 newly added image(s), 0 removed image(s), 0 replaced image(s).\n"
     ]
    },
    {
     "name": "stderr",
     "output_type": "stream",
     "text": [
      "Finding representations:   0%|          | 0/726 [00:00<?, ?it/s]"
     ]
    },
    {
     "name": "stdout",
     "output_type": "stream",
     "text": [
      "Error in DeepFace: module 'deepface.modules.modeling' has no attribute 'build_model'\n"
     ]
    },
    {
     "name": "stderr",
     "output_type": "stream",
     "text": [
      "\n"
     ]
    },
    {
     "name": "stdout",
     "output_type": "stream",
     "text": [
      "24-09-19 21:09:15 - Found 726 newly added image(s), 0 removed image(s), 0 replaced image(s).\n"
     ]
    },
    {
     "name": "stderr",
     "output_type": "stream",
     "text": [
      "Finding representations:   0%|          | 0/726 [00:00<?, ?it/s]\n"
     ]
    },
    {
     "name": "stdout",
     "output_type": "stream",
     "text": [
      "Error in DeepFace: module 'deepface.modules.modeling' has no attribute 'build_model'\n",
      "24-09-19 21:09:15 - Found 726 newly added image(s), 0 removed image(s), 0 replaced image(s).\n"
     ]
    },
    {
     "name": "stderr",
     "output_type": "stream",
     "text": [
      "Finding representations:   0%|          | 0/726 [00:00<?, ?it/s]"
     ]
    },
    {
     "name": "stdout",
     "output_type": "stream",
     "text": [
      "Error in DeepFace: module 'deepface.modules.modeling' has no attribute 'build_model'\n"
     ]
    },
    {
     "name": "stderr",
     "output_type": "stream",
     "text": [
      "\n"
     ]
    },
    {
     "name": "stdout",
     "output_type": "stream",
     "text": [
      "24-09-19 21:09:15 - Found 726 newly added image(s), 0 removed image(s), 0 replaced image(s).\n"
     ]
    },
    {
     "name": "stderr",
     "output_type": "stream",
     "text": [
      "Finding representations:   0%|          | 0/726 [00:00<?, ?it/s]\n"
     ]
    },
    {
     "name": "stdout",
     "output_type": "stream",
     "text": [
      "Error in DeepFace: module 'deepface.modules.modeling' has no attribute 'build_model'\n",
      "24-09-19 21:09:15 - Found 726 newly added image(s), 0 removed image(s), 0 replaced image(s).\n"
     ]
    },
    {
     "name": "stderr",
     "output_type": "stream",
     "text": [
      "Finding representations:   0%|          | 0/726 [00:00<?, ?it/s]\n"
     ]
    },
    {
     "name": "stdout",
     "output_type": "stream",
     "text": [
      "Error in DeepFace: module 'deepface.modules.modeling' has no attribute 'build_model'\n",
      "24-09-19 21:09:15 - Found 726 newly added image(s), 0 removed image(s), 0 replaced image(s).\n"
     ]
    },
    {
     "name": "stderr",
     "output_type": "stream",
     "text": [
      "Finding representations:   0%|          | 0/726 [00:00<?, ?it/s]\n"
     ]
    },
    {
     "name": "stdout",
     "output_type": "stream",
     "text": [
      "Error in DeepFace: module 'deepface.modules.modeling' has no attribute 'build_model'\n",
      "24-09-19 21:09:15 - Found 726 newly added image(s), 0 removed image(s), 0 replaced image(s).\n"
     ]
    },
    {
     "name": "stderr",
     "output_type": "stream",
     "text": [
      "Finding representations:   0%|          | 0/726 [00:00<?, ?it/s]"
     ]
    },
    {
     "name": "stdout",
     "output_type": "stream",
     "text": [
      "Error in DeepFace: module 'deepface.modules.modeling' has no attribute 'build_model'\n"
     ]
    },
    {
     "name": "stderr",
     "output_type": "stream",
     "text": [
      "\n"
     ]
    },
    {
     "name": "stdout",
     "output_type": "stream",
     "text": [
      "24-09-19 21:09:15 - Found 726 newly added image(s), 0 removed image(s), 0 replaced image(s).\n"
     ]
    },
    {
     "name": "stderr",
     "output_type": "stream",
     "text": [
      "Finding representations:   0%|          | 0/726 [00:00<?, ?it/s]\n"
     ]
    },
    {
     "name": "stdout",
     "output_type": "stream",
     "text": [
      "Error in DeepFace: module 'deepface.modules.modeling' has no attribute 'build_model'\n",
      "24-09-19 21:09:15 - Found 726 newly added image(s), 0 removed image(s), 0 replaced image(s).\n"
     ]
    },
    {
     "name": "stderr",
     "output_type": "stream",
     "text": [
      "Finding representations:   0%|          | 0/726 [00:00<?, ?it/s]\n"
     ]
    },
    {
     "name": "stdout",
     "output_type": "stream",
     "text": [
      "Error in DeepFace: module 'deepface.modules.modeling' has no attribute 'build_model'\n",
      "24-09-19 21:09:15 - Found 726 newly added image(s), 0 removed image(s), 0 replaced image(s).\n"
     ]
    },
    {
     "name": "stderr",
     "output_type": "stream",
     "text": [
      "Finding representations:   0%|          | 0/726 [00:00<?, ?it/s]\n"
     ]
    },
    {
     "name": "stdout",
     "output_type": "stream",
     "text": [
      "Error in DeepFace: module 'deepface.modules.modeling' has no attribute 'build_model'\n",
      "24-09-19 21:09:15 - Found 726 newly added image(s), 0 removed image(s), 0 replaced image(s).\n"
     ]
    },
    {
     "name": "stderr",
     "output_type": "stream",
     "text": [
      "Finding representations:   0%|          | 0/726 [00:00<?, ?it/s]"
     ]
    },
    {
     "name": "stdout",
     "output_type": "stream",
     "text": [
      "Error in DeepFace: module 'deepface.modules.modeling' has no attribute 'build_model'\n"
     ]
    },
    {
     "name": "stderr",
     "output_type": "stream",
     "text": [
      "\n"
     ]
    },
    {
     "name": "stdout",
     "output_type": "stream",
     "text": [
      "24-09-19 21:09:16 - Found 726 newly added image(s), 0 removed image(s), 0 replaced image(s).\n"
     ]
    },
    {
     "name": "stderr",
     "output_type": "stream",
     "text": [
      "Finding representations:   0%|          | 0/726 [00:00<?, ?it/s]\n"
     ]
    },
    {
     "name": "stdout",
     "output_type": "stream",
     "text": [
      "Error in DeepFace: module 'deepface.modules.modeling' has no attribute 'build_model'\n",
      "24-09-19 21:09:16 - Found 726 newly added image(s), 0 removed image(s), 0 replaced image(s).\n"
     ]
    },
    {
     "name": "stderr",
     "output_type": "stream",
     "text": [
      "Finding representations:   0%|          | 0/726 [00:00<?, ?it/s]\n"
     ]
    },
    {
     "name": "stdout",
     "output_type": "stream",
     "text": [
      "Error in DeepFace: module 'deepface.modules.modeling' has no attribute 'build_model'\n",
      "24-09-19 21:09:16 - Found 726 newly added image(s), 0 removed image(s), 0 replaced image(s).\n"
     ]
    },
    {
     "name": "stderr",
     "output_type": "stream",
     "text": [
      "Finding representations:   0%|          | 0/726 [00:00<?, ?it/s]\n"
     ]
    },
    {
     "name": "stdout",
     "output_type": "stream",
     "text": [
      "Error in DeepFace: module 'deepface.modules.modeling' has no attribute 'build_model'\n",
      "24-09-19 21:09:16 - Found 726 newly added image(s), 0 removed image(s), 0 replaced image(s).\n"
     ]
    },
    {
     "name": "stderr",
     "output_type": "stream",
     "text": [
      "Finding representations:   0%|          | 0/726 [00:00<?, ?it/s]\n"
     ]
    },
    {
     "name": "stdout",
     "output_type": "stream",
     "text": [
      "Error in DeepFace: module 'deepface.modules.modeling' has no attribute 'build_model'\n",
      "24-09-19 21:09:16 - Found 726 newly added image(s), 0 removed image(s), 0 replaced image(s).\n"
     ]
    },
    {
     "name": "stderr",
     "output_type": "stream",
     "text": [
      "Finding representations:   0%|          | 0/726 [00:00<?, ?it/s]\n"
     ]
    },
    {
     "name": "stdout",
     "output_type": "stream",
     "text": [
      "Error in DeepFace: module 'deepface.modules.modeling' has no attribute 'build_model'\n",
      "24-09-19 21:09:16 - Found 726 newly added image(s), 0 removed image(s), 0 replaced image(s).\n"
     ]
    },
    {
     "name": "stderr",
     "output_type": "stream",
     "text": [
      "Finding representations:   0%|          | 0/726 [00:00<?, ?it/s]\n"
     ]
    },
    {
     "name": "stdout",
     "output_type": "stream",
     "text": [
      "Error in DeepFace: module 'deepface.modules.modeling' has no attribute 'build_model'\n",
      "24-09-19 21:09:16 - Found 726 newly added image(s), 0 removed image(s), 0 replaced image(s).\n"
     ]
    },
    {
     "name": "stderr",
     "output_type": "stream",
     "text": [
      "Finding representations:   0%|          | 0/726 [00:00<?, ?it/s]\n"
     ]
    },
    {
     "name": "stdout",
     "output_type": "stream",
     "text": [
      "Error in DeepFace: module 'deepface.modules.modeling' has no attribute 'build_model'\n",
      "24-09-19 21:09:16 - Found 726 newly added image(s), 0 removed image(s), 0 replaced image(s).\n"
     ]
    },
    {
     "name": "stderr",
     "output_type": "stream",
     "text": [
      "Finding representations:   0%|          | 0/726 [00:00<?, ?it/s]\n"
     ]
    },
    {
     "name": "stdout",
     "output_type": "stream",
     "text": [
      "Error in DeepFace: module 'deepface.modules.modeling' has no attribute 'build_model'\n",
      "24-09-19 21:09:16 - Found 726 newly added image(s), 0 removed image(s), 0 replaced image(s).\n"
     ]
    },
    {
     "name": "stderr",
     "output_type": "stream",
     "text": [
      "Finding representations:   0%|          | 0/726 [00:00<?, ?it/s]\n"
     ]
    },
    {
     "name": "stdout",
     "output_type": "stream",
     "text": [
      "Error in DeepFace: module 'deepface.modules.modeling' has no attribute 'build_model'\n",
      "24-09-19 21:09:16 - Found 726 newly added image(s), 0 removed image(s), 0 replaced image(s).\n"
     ]
    },
    {
     "name": "stderr",
     "output_type": "stream",
     "text": [
      "Finding representations:   0%|          | 0/726 [00:00<?, ?it/s]\n"
     ]
    },
    {
     "name": "stdout",
     "output_type": "stream",
     "text": [
      "Error in DeepFace: module 'deepface.modules.modeling' has no attribute 'build_model'\n",
      "24-09-19 21:09:16 - Found 726 newly added image(s), 0 removed image(s), 0 replaced image(s).\n"
     ]
    },
    {
     "name": "stderr",
     "output_type": "stream",
     "text": [
      "Finding representations:   0%|          | 0/726 [00:00<?, ?it/s]\n"
     ]
    },
    {
     "name": "stdout",
     "output_type": "stream",
     "text": [
      "Error in DeepFace: module 'deepface.modules.modeling' has no attribute 'build_model'\n",
      "24-09-19 21:09:16 - Found 726 newly added image(s), 0 removed image(s), 0 replaced image(s).\n"
     ]
    },
    {
     "name": "stderr",
     "output_type": "stream",
     "text": [
      "Finding representations:   0%|          | 0/726 [00:00<?, ?it/s]\n"
     ]
    },
    {
     "name": "stdout",
     "output_type": "stream",
     "text": [
      "Error in DeepFace: module 'deepface.modules.modeling' has no attribute 'build_model'\n",
      "24-09-19 21:09:16 - Found 726 newly added image(s), 0 removed image(s), 0 replaced image(s).\n"
     ]
    },
    {
     "name": "stderr",
     "output_type": "stream",
     "text": [
      "Finding representations:   0%|          | 0/726 [00:00<?, ?it/s]\n"
     ]
    },
    {
     "name": "stdout",
     "output_type": "stream",
     "text": [
      "Error in DeepFace: module 'deepface.modules.modeling' has no attribute 'build_model'\n",
      "24-09-19 21:09:16 - Found 726 newly added image(s), 0 removed image(s), 0 replaced image(s).\n"
     ]
    },
    {
     "name": "stderr",
     "output_type": "stream",
     "text": [
      "Finding representations:   0%|          | 0/726 [00:00<?, ?it/s]"
     ]
    },
    {
     "name": "stdout",
     "output_type": "stream",
     "text": [
      "Error in DeepFace: module 'deepface.modules.modeling' has no attribute 'build_model'\n"
     ]
    },
    {
     "name": "stderr",
     "output_type": "stream",
     "text": [
      "\n"
     ]
    },
    {
     "name": "stdout",
     "output_type": "stream",
     "text": [
      "24-09-19 21:09:16 - Found 726 newly added image(s), 0 removed image(s), 0 replaced image(s).\n"
     ]
    },
    {
     "name": "stderr",
     "output_type": "stream",
     "text": [
      "Finding representations:   0%|          | 0/726 [00:00<?, ?it/s]\n"
     ]
    },
    {
     "name": "stdout",
     "output_type": "stream",
     "text": [
      "Error in DeepFace: module 'deepface.modules.modeling' has no attribute 'build_model'\n",
      "24-09-19 21:09:16 - Found 726 newly added image(s), 0 removed image(s), 0 replaced image(s).\n"
     ]
    },
    {
     "name": "stderr",
     "output_type": "stream",
     "text": [
      "Finding representations:   0%|          | 0/726 [00:00<?, ?it/s]\n"
     ]
    },
    {
     "name": "stdout",
     "output_type": "stream",
     "text": [
      "Error in DeepFace: module 'deepface.modules.modeling' has no attribute 'build_model'\n",
      "24-09-19 21:09:17 - Found 726 newly added image(s), 0 removed image(s), 0 replaced image(s).\n"
     ]
    },
    {
     "name": "stderr",
     "output_type": "stream",
     "text": [
      "Finding representations:   0%|          | 0/726 [00:00<?, ?it/s]\n"
     ]
    },
    {
     "name": "stdout",
     "output_type": "stream",
     "text": [
      "Error in DeepFace: module 'deepface.modules.modeling' has no attribute 'build_model'\n",
      "24-09-19 21:09:17 - Found 726 newly added image(s), 0 removed image(s), 0 replaced image(s).\n"
     ]
    },
    {
     "name": "stderr",
     "output_type": "stream",
     "text": [
      "Finding representations:   0%|          | 0/726 [00:00<?, ?it/s]\n"
     ]
    },
    {
     "name": "stdout",
     "output_type": "stream",
     "text": [
      "Error in DeepFace: module 'deepface.modules.modeling' has no attribute 'build_model'\n",
      "24-09-19 21:09:17 - Found 726 newly added image(s), 0 removed image(s), 0 replaced image(s).\n"
     ]
    },
    {
     "name": "stderr",
     "output_type": "stream",
     "text": [
      "Finding representations:   0%|          | 0/726 [00:00<?, ?it/s]\n"
     ]
    },
    {
     "name": "stdout",
     "output_type": "stream",
     "text": [
      "Error in DeepFace: module 'deepface.modules.modeling' has no attribute 'build_model'\n",
      "24-09-19 21:09:17 - Found 726 newly added image(s), 0 removed image(s), 0 replaced image(s).\n"
     ]
    },
    {
     "name": "stderr",
     "output_type": "stream",
     "text": [
      "Finding representations:   0%|          | 0/726 [00:00<?, ?it/s]"
     ]
    },
    {
     "name": "stdout",
     "output_type": "stream",
     "text": [
      "Error in DeepFace: module 'deepface.modules.modeling' has no attribute 'build_model'\n"
     ]
    },
    {
     "name": "stderr",
     "output_type": "stream",
     "text": [
      "\n"
     ]
    },
    {
     "name": "stdout",
     "output_type": "stream",
     "text": [
      "24-09-19 21:09:17 - Found 726 newly added image(s), 0 removed image(s), 0 replaced image(s).\n"
     ]
    },
    {
     "name": "stderr",
     "output_type": "stream",
     "text": [
      "Finding representations:   0%|          | 0/726 [00:00<?, ?it/s]\n"
     ]
    },
    {
     "name": "stdout",
     "output_type": "stream",
     "text": [
      "Error in DeepFace: module 'deepface.modules.modeling' has no attribute 'build_model'\n",
      "24-09-19 21:09:17 - Found 726 newly added image(s), 0 removed image(s), 0 replaced image(s).\n"
     ]
    },
    {
     "name": "stderr",
     "output_type": "stream",
     "text": [
      "Finding representations:   0%|          | 0/726 [00:00<?, ?it/s]\n"
     ]
    },
    {
     "name": "stdout",
     "output_type": "stream",
     "text": [
      "Error in DeepFace: module 'deepface.modules.modeling' has no attribute 'build_model'\n",
      "24-09-19 21:09:17 - Found 726 newly added image(s), 0 removed image(s), 0 replaced image(s).\n"
     ]
    },
    {
     "name": "stderr",
     "output_type": "stream",
     "text": [
      "Finding representations:   0%|          | 0/726 [00:00<?, ?it/s]\n"
     ]
    },
    {
     "name": "stdout",
     "output_type": "stream",
     "text": [
      "Error in DeepFace: module 'deepface.modules.modeling' has no attribute 'build_model'\n",
      "24-09-19 21:09:17 - Found 726 newly added image(s), 0 removed image(s), 0 replaced image(s).\n"
     ]
    },
    {
     "name": "stderr",
     "output_type": "stream",
     "text": [
      "Finding representations:   0%|          | 0/726 [00:00<?, ?it/s]\n"
     ]
    },
    {
     "name": "stdout",
     "output_type": "stream",
     "text": [
      "Error in DeepFace: module 'deepface.modules.modeling' has no attribute 'build_model'\n",
      "24-09-19 21:09:17 - Found 726 newly added image(s), 0 removed image(s), 0 replaced image(s).\n"
     ]
    },
    {
     "name": "stderr",
     "output_type": "stream",
     "text": [
      "Finding representations:   0%|          | 0/726 [00:00<?, ?it/s]\n"
     ]
    },
    {
     "name": "stdout",
     "output_type": "stream",
     "text": [
      "Error in DeepFace: module 'deepface.modules.modeling' has no attribute 'build_model'\n",
      "24-09-19 21:09:17 - Found 726 newly added image(s), 0 removed image(s), 0 replaced image(s).\n"
     ]
    },
    {
     "name": "stderr",
     "output_type": "stream",
     "text": [
      "Finding representations:   0%|          | 0/726 [00:00<?, ?it/s]\n"
     ]
    },
    {
     "name": "stdout",
     "output_type": "stream",
     "text": [
      "Error in DeepFace: module 'deepface.modules.modeling' has no attribute 'build_model'\n",
      "24-09-19 21:09:18 - Found 726 newly added image(s), 0 removed image(s), 0 replaced image(s).\n"
     ]
    },
    {
     "name": "stderr",
     "output_type": "stream",
     "text": [
      "Finding representations:   0%|          | 0/726 [00:00<?, ?it/s]\n"
     ]
    },
    {
     "name": "stdout",
     "output_type": "stream",
     "text": [
      "Error in DeepFace: module 'deepface.modules.modeling' has no attribute 'build_model'\n",
      "24-09-19 21:09:18 - Found 726 newly added image(s), 0 removed image(s), 0 replaced image(s).\n"
     ]
    },
    {
     "name": "stderr",
     "output_type": "stream",
     "text": [
      "Finding representations:   0%|          | 0/726 [00:00<?, ?it/s]\n"
     ]
    },
    {
     "name": "stdout",
     "output_type": "stream",
     "text": [
      "Error in DeepFace: module 'deepface.modules.modeling' has no attribute 'build_model'\n",
      "24-09-19 21:09:18 - Found 726 newly added image(s), 0 removed image(s), 0 replaced image(s).\n"
     ]
    },
    {
     "name": "stderr",
     "output_type": "stream",
     "text": [
      "Finding representations:   0%|          | 0/726 [00:00<?, ?it/s]"
     ]
    },
    {
     "name": "stdout",
     "output_type": "stream",
     "text": [
      "Error in DeepFace: module 'deepface.modules.modeling' has no attribute 'build_model'\n"
     ]
    },
    {
     "name": "stderr",
     "output_type": "stream",
     "text": [
      "\n"
     ]
    },
    {
     "name": "stdout",
     "output_type": "stream",
     "text": [
      "24-09-19 21:09:18 - Found 726 newly added image(s), 0 removed image(s), 0 replaced image(s).\n"
     ]
    },
    {
     "name": "stderr",
     "output_type": "stream",
     "text": [
      "Finding representations:   0%|          | 0/726 [00:00<?, ?it/s]\n"
     ]
    },
    {
     "name": "stdout",
     "output_type": "stream",
     "text": [
      "Error in DeepFace: module 'deepface.modules.modeling' has no attribute 'build_model'\n",
      "24-09-19 21:09:18 - Found 726 newly added image(s), 0 removed image(s), 0 replaced image(s).\n"
     ]
    },
    {
     "name": "stderr",
     "output_type": "stream",
     "text": [
      "Finding representations:   0%|          | 0/726 [00:00<?, ?it/s]\n"
     ]
    },
    {
     "name": "stdout",
     "output_type": "stream",
     "text": [
      "Error in DeepFace: module 'deepface.modules.modeling' has no attribute 'build_model'\n",
      "24-09-19 21:09:18 - Found 726 newly added image(s), 0 removed image(s), 0 replaced image(s).\n"
     ]
    },
    {
     "name": "stderr",
     "output_type": "stream",
     "text": [
      "Finding representations:   0%|          | 0/726 [00:00<?, ?it/s]\n"
     ]
    },
    {
     "name": "stdout",
     "output_type": "stream",
     "text": [
      "Error in DeepFace: module 'deepface.modules.modeling' has no attribute 'build_model'\n",
      "24-09-19 21:09:18 - Found 726 newly added image(s), 0 removed image(s), 0 replaced image(s).\n"
     ]
    },
    {
     "name": "stderr",
     "output_type": "stream",
     "text": [
      "Finding representations:   0%|          | 0/726 [00:00<?, ?it/s]"
     ]
    },
    {
     "name": "stdout",
     "output_type": "stream",
     "text": [
      "Error in DeepFace: module 'deepface.modules.modeling' has no attribute 'build_model'\n"
     ]
    },
    {
     "name": "stderr",
     "output_type": "stream",
     "text": [
      "\n"
     ]
    },
    {
     "name": "stdout",
     "output_type": "stream",
     "text": [
      "24-09-19 21:09:18 - Found 726 newly added image(s), 0 removed image(s), 0 replaced image(s).\n"
     ]
    },
    {
     "name": "stderr",
     "output_type": "stream",
     "text": [
      "Finding representations:   0%|          | 0/726 [00:00<?, ?it/s]\n"
     ]
    },
    {
     "name": "stdout",
     "output_type": "stream",
     "text": [
      "Error in DeepFace: module 'deepface.modules.modeling' has no attribute 'build_model'\n",
      "24-09-19 21:09:18 - Found 726 newly added image(s), 0 removed image(s), 0 replaced image(s).\n"
     ]
    },
    {
     "name": "stderr",
     "output_type": "stream",
     "text": [
      "Finding representations:   0%|          | 0/726 [00:00<?, ?it/s]"
     ]
    },
    {
     "name": "stdout",
     "output_type": "stream",
     "text": [
      "Error in DeepFace: module 'deepface.modules.modeling' has no attribute 'build_model'\n"
     ]
    },
    {
     "name": "stderr",
     "output_type": "stream",
     "text": [
      "\n"
     ]
    },
    {
     "name": "stdout",
     "output_type": "stream",
     "text": [
      "24-09-19 21:09:18 - Found 726 newly added image(s), 0 removed image(s), 0 replaced image(s).\n"
     ]
    },
    {
     "name": "stderr",
     "output_type": "stream",
     "text": [
      "Finding representations:   0%|          | 0/726 [00:00<?, ?it/s]"
     ]
    },
    {
     "name": "stdout",
     "output_type": "stream",
     "text": [
      "Error in DeepFace: module 'deepface.modules.modeling' has no attribute 'build_model'\n"
     ]
    },
    {
     "name": "stderr",
     "output_type": "stream",
     "text": [
      "\n"
     ]
    },
    {
     "name": "stdout",
     "output_type": "stream",
     "text": [
      "24-09-19 21:09:18 - Found 726 newly added image(s), 0 removed image(s), 0 replaced image(s).\n"
     ]
    },
    {
     "name": "stderr",
     "output_type": "stream",
     "text": [
      "Finding representations:   0%|          | 0/726 [00:00<?, ?it/s]\n"
     ]
    },
    {
     "name": "stdout",
     "output_type": "stream",
     "text": [
      "Error in DeepFace: module 'deepface.modules.modeling' has no attribute 'build_model'\n",
      "24-09-19 21:09:18 - Found 726 newly added image(s), 0 removed image(s), 0 replaced image(s).\n"
     ]
    },
    {
     "name": "stderr",
     "output_type": "stream",
     "text": [
      "Finding representations:   0%|          | 0/726 [00:00<?, ?it/s]\n"
     ]
    },
    {
     "name": "stdout",
     "output_type": "stream",
     "text": [
      "Error in DeepFace: module 'deepface.modules.modeling' has no attribute 'build_model'\n",
      "24-09-19 21:09:18 - Found 726 newly added image(s), 0 removed image(s), 0 replaced image(s).\n"
     ]
    },
    {
     "name": "stderr",
     "output_type": "stream",
     "text": [
      "Finding representations:   0%|          | 0/726 [00:00<?, ?it/s]\n"
     ]
    },
    {
     "name": "stdout",
     "output_type": "stream",
     "text": [
      "Error in DeepFace: module 'deepface.modules.modeling' has no attribute 'build_model'\n",
      "24-09-19 21:09:19 - Found 726 newly added image(s), 0 removed image(s), 0 replaced image(s).\n"
     ]
    },
    {
     "name": "stderr",
     "output_type": "stream",
     "text": [
      "Finding representations:   0%|          | 0/726 [00:00<?, ?it/s]\n"
     ]
    },
    {
     "name": "stdout",
     "output_type": "stream",
     "text": [
      "Error in DeepFace: module 'deepface.modules.modeling' has no attribute 'build_model'\n",
      "24-09-19 21:09:19 - Found 726 newly added image(s), 0 removed image(s), 0 replaced image(s).\n"
     ]
    },
    {
     "name": "stderr",
     "output_type": "stream",
     "text": [
      "Finding representations:   0%|          | 0/726 [00:00<?, ?it/s]\n"
     ]
    },
    {
     "name": "stdout",
     "output_type": "stream",
     "text": [
      "Error in DeepFace: module 'deepface.modules.modeling' has no attribute 'build_model'\n",
      "24-09-19 21:09:19 - Found 726 newly added image(s), 0 removed image(s), 0 replaced image(s).\n"
     ]
    },
    {
     "name": "stderr",
     "output_type": "stream",
     "text": [
      "Finding representations:   0%|          | 0/726 [00:00<?, ?it/s]\n"
     ]
    },
    {
     "name": "stdout",
     "output_type": "stream",
     "text": [
      "Error in DeepFace: module 'deepface.modules.modeling' has no attribute 'build_model'\n",
      "24-09-19 21:09:19 - Found 726 newly added image(s), 0 removed image(s), 0 replaced image(s).\n"
     ]
    },
    {
     "name": "stderr",
     "output_type": "stream",
     "text": [
      "Finding representations:   0%|          | 0/726 [00:00<?, ?it/s]\n"
     ]
    },
    {
     "name": "stdout",
     "output_type": "stream",
     "text": [
      "Error in DeepFace: module 'deepface.modules.modeling' has no attribute 'build_model'\n",
      "24-09-19 21:09:19 - Found 726 newly added image(s), 0 removed image(s), 0 replaced image(s).\n"
     ]
    },
    {
     "name": "stderr",
     "output_type": "stream",
     "text": [
      "Finding representations:   0%|          | 0/726 [00:00<?, ?it/s]\n"
     ]
    },
    {
     "name": "stdout",
     "output_type": "stream",
     "text": [
      "Error in DeepFace: module 'deepface.modules.modeling' has no attribute 'build_model'\n",
      "24-09-19 21:09:19 - Found 726 newly added image(s), 0 removed image(s), 0 replaced image(s).\n"
     ]
    },
    {
     "name": "stderr",
     "output_type": "stream",
     "text": [
      "Finding representations:   0%|          | 0/726 [00:00<?, ?it/s]"
     ]
    },
    {
     "name": "stdout",
     "output_type": "stream",
     "text": [
      "Error in DeepFace: module 'deepface.modules.modeling' has no attribute 'build_model'\n"
     ]
    },
    {
     "name": "stderr",
     "output_type": "stream",
     "text": [
      "\n"
     ]
    },
    {
     "name": "stdout",
     "output_type": "stream",
     "text": [
      "24-09-19 21:09:19 - Found 726 newly added image(s), 0 removed image(s), 0 replaced image(s).\n"
     ]
    },
    {
     "name": "stderr",
     "output_type": "stream",
     "text": [
      "Finding representations:   0%|          | 0/726 [00:00<?, ?it/s]\n"
     ]
    },
    {
     "name": "stdout",
     "output_type": "stream",
     "text": [
      "Error in DeepFace: module 'deepface.modules.modeling' has no attribute 'build_model'\n",
      "24-09-19 21:09:19 - Found 726 newly added image(s), 0 removed image(s), 0 replaced image(s).\n"
     ]
    },
    {
     "name": "stderr",
     "output_type": "stream",
     "text": [
      "Finding representations:   0%|          | 0/726 [00:00<?, ?it/s]\n"
     ]
    },
    {
     "name": "stdout",
     "output_type": "stream",
     "text": [
      "Error in DeepFace: module 'deepface.modules.modeling' has no attribute 'build_model'\n",
      "24-09-19 21:09:19 - Found 726 newly added image(s), 0 removed image(s), 0 replaced image(s).\n"
     ]
    },
    {
     "name": "stderr",
     "output_type": "stream",
     "text": [
      "Finding representations:   0%|          | 0/726 [00:00<?, ?it/s]"
     ]
    },
    {
     "name": "stdout",
     "output_type": "stream",
     "text": [
      "Error in DeepFace: module 'deepface.modules.modeling' has no attribute 'build_model'\n"
     ]
    },
    {
     "name": "stderr",
     "output_type": "stream",
     "text": [
      "\n"
     ]
    },
    {
     "name": "stdout",
     "output_type": "stream",
     "text": [
      "24-09-19 21:09:19 - Found 726 newly added image(s), 0 removed image(s), 0 replaced image(s).\n"
     ]
    },
    {
     "name": "stderr",
     "output_type": "stream",
     "text": [
      "Finding representations:   0%|          | 0/726 [00:00<?, ?it/s]\n"
     ]
    },
    {
     "name": "stdout",
     "output_type": "stream",
     "text": [
      "Error in DeepFace: module 'deepface.modules.modeling' has no attribute 'build_model'\n",
      "24-09-19 21:09:19 - Found 726 newly added image(s), 0 removed image(s), 0 replaced image(s).\n"
     ]
    },
    {
     "name": "stderr",
     "output_type": "stream",
     "text": [
      "Finding representations:   0%|          | 0/726 [00:00<?, ?it/s]\n"
     ]
    },
    {
     "name": "stdout",
     "output_type": "stream",
     "text": [
      "Error in DeepFace: module 'deepface.modules.modeling' has no attribute 'build_model'\n",
      "24-09-19 21:09:19 - Found 726 newly added image(s), 0 removed image(s), 0 replaced image(s).\n"
     ]
    },
    {
     "name": "stderr",
     "output_type": "stream",
     "text": [
      "Finding representations:   0%|          | 0/726 [00:00<?, ?it/s]"
     ]
    },
    {
     "name": "stdout",
     "output_type": "stream",
     "text": [
      "Error in DeepFace: module 'deepface.modules.modeling' has no attribute 'build_model'\n"
     ]
    },
    {
     "name": "stderr",
     "output_type": "stream",
     "text": [
      "\n"
     ]
    },
    {
     "name": "stdout",
     "output_type": "stream",
     "text": [
      "24-09-19 21:09:19 - Found 726 newly added image(s), 0 removed image(s), 0 replaced image(s).\n"
     ]
    },
    {
     "name": "stderr",
     "output_type": "stream",
     "text": [
      "Finding representations:   0%|          | 0/726 [00:00<?, ?it/s]"
     ]
    },
    {
     "name": "stdout",
     "output_type": "stream",
     "text": [
      "Error in DeepFace: module 'deepface.modules.modeling' has no attribute 'build_model'\n"
     ]
    },
    {
     "name": "stderr",
     "output_type": "stream",
     "text": [
      "\n"
     ]
    },
    {
     "name": "stdout",
     "output_type": "stream",
     "text": [
      "24-09-19 21:09:19 - Found 726 newly added image(s), 0 removed image(s), 0 replaced image(s).\n"
     ]
    },
    {
     "name": "stderr",
     "output_type": "stream",
     "text": [
      "Finding representations:   0%|          | 0/726 [00:00<?, ?it/s]\n"
     ]
    },
    {
     "name": "stdout",
     "output_type": "stream",
     "text": [
      "Error in DeepFace: module 'deepface.modules.modeling' has no attribute 'build_model'\n",
      "24-09-19 21:09:20 - Found 726 newly added image(s), 0 removed image(s), 0 replaced image(s).\n"
     ]
    },
    {
     "name": "stderr",
     "output_type": "stream",
     "text": [
      "Finding representations:   0%|          | 0/726 [00:00<?, ?it/s]\n"
     ]
    },
    {
     "name": "stdout",
     "output_type": "stream",
     "text": [
      "Error in DeepFace: module 'deepface.modules.modeling' has no attribute 'build_model'\n",
      "24-09-19 21:09:20 - Found 726 newly added image(s), 0 removed image(s), 0 replaced image(s).\n"
     ]
    },
    {
     "name": "stderr",
     "output_type": "stream",
     "text": [
      "Finding representations:   0%|          | 0/726 [00:00<?, ?it/s]\n"
     ]
    },
    {
     "name": "stdout",
     "output_type": "stream",
     "text": [
      "Error in DeepFace: module 'deepface.modules.modeling' has no attribute 'build_model'\n",
      "24-09-19 21:09:20 - Found 726 newly added image(s), 0 removed image(s), 0 replaced image(s).\n"
     ]
    },
    {
     "name": "stderr",
     "output_type": "stream",
     "text": [
      "Finding representations:   0%|          | 0/726 [00:00<?, ?it/s]\n"
     ]
    },
    {
     "name": "stdout",
     "output_type": "stream",
     "text": [
      "Error in DeepFace: module 'deepface.modules.modeling' has no attribute 'build_model'\n",
      "24-09-19 21:09:20 - Found 726 newly added image(s), 0 removed image(s), 0 replaced image(s).\n"
     ]
    },
    {
     "name": "stderr",
     "output_type": "stream",
     "text": [
      "Finding representations:   0%|          | 0/726 [00:00<?, ?it/s]\n"
     ]
    },
    {
     "name": "stdout",
     "output_type": "stream",
     "text": [
      "Error in DeepFace: module 'deepface.modules.modeling' has no attribute 'build_model'\n",
      "24-09-19 21:09:20 - Found 726 newly added image(s), 0 removed image(s), 0 replaced image(s).\n"
     ]
    },
    {
     "name": "stderr",
     "output_type": "stream",
     "text": [
      "Finding representations:   0%|          | 0/726 [00:00<?, ?it/s]\n"
     ]
    },
    {
     "name": "stdout",
     "output_type": "stream",
     "text": [
      "Error in DeepFace: module 'deepface.modules.modeling' has no attribute 'build_model'\n",
      "24-09-19 21:09:20 - Found 726 newly added image(s), 0 removed image(s), 0 replaced image(s).\n"
     ]
    },
    {
     "name": "stderr",
     "output_type": "stream",
     "text": [
      "Finding representations:   0%|          | 0/726 [00:00<?, ?it/s]\n"
     ]
    },
    {
     "name": "stdout",
     "output_type": "stream",
     "text": [
      "Error in DeepFace: module 'deepface.modules.modeling' has no attribute 'build_model'\n",
      "24-09-19 21:09:20 - Found 726 newly added image(s), 0 removed image(s), 0 replaced image(s).\n"
     ]
    },
    {
     "name": "stderr",
     "output_type": "stream",
     "text": [
      "Finding representations:   0%|          | 0/726 [00:00<?, ?it/s]\n"
     ]
    },
    {
     "name": "stdout",
     "output_type": "stream",
     "text": [
      "Error in DeepFace: module 'deepface.modules.modeling' has no attribute 'build_model'\n",
      "24-09-19 21:09:20 - Found 726 newly added image(s), 0 removed image(s), 0 replaced image(s).\n"
     ]
    },
    {
     "name": "stderr",
     "output_type": "stream",
     "text": [
      "Finding representations:   0%|          | 0/726 [00:00<?, ?it/s]\n"
     ]
    },
    {
     "name": "stdout",
     "output_type": "stream",
     "text": [
      "Error in DeepFace: module 'deepface.modules.modeling' has no attribute 'build_model'\n",
      "24-09-19 21:09:20 - Found 726 newly added image(s), 0 removed image(s), 0 replaced image(s).\n"
     ]
    },
    {
     "name": "stderr",
     "output_type": "stream",
     "text": [
      "Finding representations:   0%|          | 0/726 [00:00<?, ?it/s]\n"
     ]
    },
    {
     "name": "stdout",
     "output_type": "stream",
     "text": [
      "Error in DeepFace: module 'deepface.modules.modeling' has no attribute 'build_model'\n",
      "24-09-19 21:09:20 - Found 726 newly added image(s), 0 removed image(s), 0 replaced image(s).\n"
     ]
    },
    {
     "name": "stderr",
     "output_type": "stream",
     "text": [
      "Finding representations:   0%|          | 0/726 [00:00<?, ?it/s]\n"
     ]
    },
    {
     "name": "stdout",
     "output_type": "stream",
     "text": [
      "Error in DeepFace: module 'deepface.modules.modeling' has no attribute 'build_model'\n",
      "24-09-19 21:09:20 - Found 726 newly added image(s), 0 removed image(s), 0 replaced image(s).\n"
     ]
    },
    {
     "name": "stderr",
     "output_type": "stream",
     "text": [
      "Finding representations:   0%|          | 0/726 [00:00<?, ?it/s]\n"
     ]
    },
    {
     "name": "stdout",
     "output_type": "stream",
     "text": [
      "Error in DeepFace: module 'deepface.modules.modeling' has no attribute 'build_model'\n",
      "24-09-19 21:09:20 - Found 726 newly added image(s), 0 removed image(s), 0 replaced image(s).\n"
     ]
    },
    {
     "name": "stderr",
     "output_type": "stream",
     "text": [
      "Finding representations:   0%|          | 0/726 [00:00<?, ?it/s]\n"
     ]
    },
    {
     "name": "stdout",
     "output_type": "stream",
     "text": [
      "Error in DeepFace: module 'deepface.modules.modeling' has no attribute 'build_model'\n",
      "24-09-19 21:09:20 - Found 726 newly added image(s), 0 removed image(s), 0 replaced image(s).\n"
     ]
    },
    {
     "name": "stderr",
     "output_type": "stream",
     "text": [
      "Finding representations:   0%|          | 0/726 [00:00<?, ?it/s]\n"
     ]
    },
    {
     "name": "stdout",
     "output_type": "stream",
     "text": [
      "Error in DeepFace: module 'deepface.modules.modeling' has no attribute 'build_model'\n",
      "24-09-19 21:09:20 - Found 726 newly added image(s), 0 removed image(s), 0 replaced image(s).\n"
     ]
    },
    {
     "name": "stderr",
     "output_type": "stream",
     "text": [
      "Finding representations:   0%|          | 0/726 [00:00<?, ?it/s]\n"
     ]
    },
    {
     "name": "stdout",
     "output_type": "stream",
     "text": [
      "Error in DeepFace: module 'deepface.modules.modeling' has no attribute 'build_model'\n",
      "24-09-19 21:09:20 - Found 726 newly added image(s), 0 removed image(s), 0 replaced image(s).\n"
     ]
    },
    {
     "name": "stderr",
     "output_type": "stream",
     "text": [
      "Finding representations:   0%|          | 0/726 [00:00<?, ?it/s]\n"
     ]
    },
    {
     "name": "stdout",
     "output_type": "stream",
     "text": [
      "Error in DeepFace: module 'deepface.modules.modeling' has no attribute 'build_model'\n",
      "24-09-19 21:09:20 - Found 726 newly added image(s), 0 removed image(s), 0 replaced image(s).\n"
     ]
    },
    {
     "name": "stderr",
     "output_type": "stream",
     "text": [
      "Finding representations:   0%|          | 0/726 [00:00<?, ?it/s]\n"
     ]
    },
    {
     "name": "stdout",
     "output_type": "stream",
     "text": [
      "Error in DeepFace: module 'deepface.modules.modeling' has no attribute 'build_model'\n",
      "24-09-19 21:09:21 - Found 726 newly added image(s), 0 removed image(s), 0 replaced image(s).\n"
     ]
    },
    {
     "name": "stderr",
     "output_type": "stream",
     "text": [
      "Finding representations:   0%|          | 0/726 [00:00<?, ?it/s]\n"
     ]
    },
    {
     "name": "stdout",
     "output_type": "stream",
     "text": [
      "Error in DeepFace: module 'deepface.modules.modeling' has no attribute 'build_model'\n",
      "24-09-19 21:09:21 - Found 726 newly added image(s), 0 removed image(s), 0 replaced image(s).\n"
     ]
    },
    {
     "name": "stderr",
     "output_type": "stream",
     "text": [
      "Finding representations:   0%|          | 0/726 [00:00<?, ?it/s]\n"
     ]
    },
    {
     "name": "stdout",
     "output_type": "stream",
     "text": [
      "Error in DeepFace: module 'deepface.modules.modeling' has no attribute 'build_model'\n",
      "24-09-19 21:09:21 - Found 726 newly added image(s), 0 removed image(s), 0 replaced image(s).\n"
     ]
    },
    {
     "name": "stderr",
     "output_type": "stream",
     "text": [
      "Finding representations:   0%|          | 0/726 [00:00<?, ?it/s]\n"
     ]
    },
    {
     "name": "stdout",
     "output_type": "stream",
     "text": [
      "Error in DeepFace: module 'deepface.modules.modeling' has no attribute 'build_model'\n",
      "24-09-19 21:09:21 - Found 726 newly added image(s), 0 removed image(s), 0 replaced image(s).\n"
     ]
    },
    {
     "name": "stderr",
     "output_type": "stream",
     "text": [
      "Finding representations:   0%|          | 0/726 [00:00<?, ?it/s]"
     ]
    },
    {
     "name": "stdout",
     "output_type": "stream",
     "text": [
      "Error in DeepFace: module 'deepface.modules.modeling' has no attribute 'build_model'\n"
     ]
    },
    {
     "name": "stderr",
     "output_type": "stream",
     "text": [
      "\n"
     ]
    },
    {
     "name": "stdout",
     "output_type": "stream",
     "text": [
      "24-09-19 21:09:21 - Found 726 newly added image(s), 0 removed image(s), 0 replaced image(s).\n"
     ]
    },
    {
     "name": "stderr",
     "output_type": "stream",
     "text": [
      "Finding representations:   0%|          | 0/726 [00:00<?, ?it/s]\n"
     ]
    },
    {
     "name": "stdout",
     "output_type": "stream",
     "text": [
      "Error in DeepFace: module 'deepface.modules.modeling' has no attribute 'build_model'\n",
      "24-09-19 21:09:21 - Found 726 newly added image(s), 0 removed image(s), 0 replaced image(s).\n"
     ]
    },
    {
     "name": "stderr",
     "output_type": "stream",
     "text": [
      "Finding representations:   0%|          | 0/726 [00:00<?, ?it/s]\n"
     ]
    },
    {
     "name": "stdout",
     "output_type": "stream",
     "text": [
      "Error in DeepFace: module 'deepface.modules.modeling' has no attribute 'build_model'\n",
      "24-09-19 21:09:21 - Found 726 newly added image(s), 0 removed image(s), 0 replaced image(s).\n"
     ]
    },
    {
     "name": "stderr",
     "output_type": "stream",
     "text": [
      "Finding representations:   0%|          | 0/726 [00:00<?, ?it/s]\n"
     ]
    },
    {
     "name": "stdout",
     "output_type": "stream",
     "text": [
      "Error in DeepFace: module 'deepface.modules.modeling' has no attribute 'build_model'\n",
      "24-09-19 21:09:21 - Found 726 newly added image(s), 0 removed image(s), 0 replaced image(s).\n"
     ]
    },
    {
     "name": "stderr",
     "output_type": "stream",
     "text": [
      "Finding representations:   0%|          | 0/726 [00:00<?, ?it/s]\n"
     ]
    },
    {
     "name": "stdout",
     "output_type": "stream",
     "text": [
      "Error in DeepFace: module 'deepface.modules.modeling' has no attribute 'build_model'\n",
      "24-09-19 21:09:21 - Found 726 newly added image(s), 0 removed image(s), 0 replaced image(s).\n"
     ]
    },
    {
     "name": "stderr",
     "output_type": "stream",
     "text": [
      "Finding representations:   0%|          | 0/726 [00:00<?, ?it/s]\n"
     ]
    },
    {
     "name": "stdout",
     "output_type": "stream",
     "text": [
      "Error in DeepFace: module 'deepface.modules.modeling' has no attribute 'build_model'\n",
      "24-09-19 21:09:21 - Found 726 newly added image(s), 0 removed image(s), 0 replaced image(s).\n"
     ]
    },
    {
     "name": "stderr",
     "output_type": "stream",
     "text": [
      "Finding representations:   0%|          | 0/726 [00:00<?, ?it/s]\n"
     ]
    },
    {
     "name": "stdout",
     "output_type": "stream",
     "text": [
      "Error in DeepFace: module 'deepface.modules.modeling' has no attribute 'build_model'\n",
      "24-09-19 21:09:21 - Found 726 newly added image(s), 0 removed image(s), 0 replaced image(s).\n"
     ]
    },
    {
     "name": "stderr",
     "output_type": "stream",
     "text": [
      "Finding representations:   0%|          | 0/726 [00:00<?, ?it/s]\n"
     ]
    },
    {
     "name": "stdout",
     "output_type": "stream",
     "text": [
      "Error in DeepFace: module 'deepface.modules.modeling' has no attribute 'build_model'\n",
      "24-09-19 21:09:21 - Found 726 newly added image(s), 0 removed image(s), 0 replaced image(s).\n"
     ]
    },
    {
     "name": "stderr",
     "output_type": "stream",
     "text": [
      "Finding representations:   0%|          | 0/726 [00:00<?, ?it/s]\n"
     ]
    },
    {
     "name": "stdout",
     "output_type": "stream",
     "text": [
      "Error in DeepFace: module 'deepface.modules.modeling' has no attribute 'build_model'\n",
      "24-09-19 21:09:21 - Found 726 newly added image(s), 0 removed image(s), 0 replaced image(s).\n"
     ]
    },
    {
     "name": "stderr",
     "output_type": "stream",
     "text": [
      "Finding representations:   0%|          | 0/726 [00:00<?, ?it/s]\n"
     ]
    },
    {
     "name": "stdout",
     "output_type": "stream",
     "text": [
      "Error in DeepFace: module 'deepface.modules.modeling' has no attribute 'build_model'\n",
      "24-09-19 21:09:21 - Found 726 newly added image(s), 0 removed image(s), 0 replaced image(s).\n"
     ]
    },
    {
     "name": "stderr",
     "output_type": "stream",
     "text": [
      "Finding representations:   0%|          | 0/726 [00:00<?, ?it/s]\n"
     ]
    },
    {
     "name": "stdout",
     "output_type": "stream",
     "text": [
      "Error in DeepFace: module 'deepface.modules.modeling' has no attribute 'build_model'\n",
      "24-09-19 21:09:21 - Found 726 newly added image(s), 0 removed image(s), 0 replaced image(s).\n"
     ]
    },
    {
     "name": "stderr",
     "output_type": "stream",
     "text": [
      "Finding representations:   0%|          | 0/726 [00:00<?, ?it/s]"
     ]
    },
    {
     "name": "stdout",
     "output_type": "stream",
     "text": [
      "Error in DeepFace: module 'deepface.modules.modeling' has no attribute 'build_model'\n"
     ]
    },
    {
     "name": "stderr",
     "output_type": "stream",
     "text": [
      "\n"
     ]
    },
    {
     "name": "stdout",
     "output_type": "stream",
     "text": [
      "24-09-19 21:09:22 - Found 726 newly added image(s), 0 removed image(s), 0 replaced image(s).\n"
     ]
    },
    {
     "name": "stderr",
     "output_type": "stream",
     "text": [
      "Finding representations:   0%|          | 0/726 [00:00<?, ?it/s]"
     ]
    },
    {
     "name": "stdout",
     "output_type": "stream",
     "text": [
      "Error in DeepFace: module 'deepface.modules.modeling' has no attribute 'build_model'\n"
     ]
    },
    {
     "name": "stderr",
     "output_type": "stream",
     "text": [
      "\n"
     ]
    },
    {
     "name": "stdout",
     "output_type": "stream",
     "text": [
      "24-09-19 21:09:22 - Found 726 newly added image(s), 0 removed image(s), 0 replaced image(s).\n"
     ]
    },
    {
     "name": "stderr",
     "output_type": "stream",
     "text": [
      "Finding representations:   0%|          | 0/726 [00:00<?, ?it/s]\n"
     ]
    },
    {
     "name": "stdout",
     "output_type": "stream",
     "text": [
      "Error in DeepFace: module 'deepface.modules.modeling' has no attribute 'build_model'\n",
      "24-09-19 21:09:22 - Found 726 newly added image(s), 0 removed image(s), 0 replaced image(s).\n"
     ]
    },
    {
     "name": "stderr",
     "output_type": "stream",
     "text": [
      "Finding representations:   0%|          | 0/726 [00:00<?, ?it/s]"
     ]
    },
    {
     "name": "stdout",
     "output_type": "stream",
     "text": [
      "Error in DeepFace: module 'deepface.modules.modeling' has no attribute 'build_model'\n"
     ]
    },
    {
     "name": "stderr",
     "output_type": "stream",
     "text": [
      "\n"
     ]
    },
    {
     "name": "stdout",
     "output_type": "stream",
     "text": [
      "24-09-19 21:09:22 - Found 726 newly added image(s), 0 removed image(s), 0 replaced image(s).\n"
     ]
    },
    {
     "name": "stderr",
     "output_type": "stream",
     "text": [
      "Finding representations:   0%|          | 0/726 [00:00<?, ?it/s]"
     ]
    },
    {
     "name": "stdout",
     "output_type": "stream",
     "text": [
      "Error in DeepFace: module 'deepface.modules.modeling' has no attribute 'build_model'\n"
     ]
    },
    {
     "name": "stderr",
     "output_type": "stream",
     "text": [
      "\n"
     ]
    },
    {
     "name": "stdout",
     "output_type": "stream",
     "text": [
      "24-09-19 21:09:22 - Found 726 newly added image(s), 0 removed image(s), 0 replaced image(s).\n"
     ]
    },
    {
     "name": "stderr",
     "output_type": "stream",
     "text": [
      "Finding representations:   0%|          | 0/726 [00:00<?, ?it/s]\n"
     ]
    },
    {
     "name": "stdout",
     "output_type": "stream",
     "text": [
      "Error in DeepFace: module 'deepface.modules.modeling' has no attribute 'build_model'\n",
      "24-09-19 21:09:22 - Found 726 newly added image(s), 0 removed image(s), 0 replaced image(s).\n"
     ]
    },
    {
     "name": "stderr",
     "output_type": "stream",
     "text": [
      "Finding representations:   0%|          | 0/726 [00:00<?, ?it/s]\n"
     ]
    },
    {
     "name": "stdout",
     "output_type": "stream",
     "text": [
      "Error in DeepFace: module 'deepface.modules.modeling' has no attribute 'build_model'\n",
      "24-09-19 21:09:22 - Found 726 newly added image(s), 0 removed image(s), 0 replaced image(s).\n"
     ]
    },
    {
     "name": "stderr",
     "output_type": "stream",
     "text": [
      "Finding representations:   0%|          | 0/726 [00:00<?, ?it/s]"
     ]
    },
    {
     "name": "stdout",
     "output_type": "stream",
     "text": [
      "Error in DeepFace: module 'deepface.modules.modeling' has no attribute 'build_model'\n"
     ]
    },
    {
     "name": "stderr",
     "output_type": "stream",
     "text": [
      "\n"
     ]
    },
    {
     "name": "stdout",
     "output_type": "stream",
     "text": [
      "24-09-19 21:09:22 - Found 726 newly added image(s), 0 removed image(s), 0 replaced image(s).\n"
     ]
    },
    {
     "name": "stderr",
     "output_type": "stream",
     "text": [
      "Finding representations:   0%|          | 0/726 [00:00<?, ?it/s]\n"
     ]
    },
    {
     "name": "stdout",
     "output_type": "stream",
     "text": [
      "Error in DeepFace: module 'deepface.modules.modeling' has no attribute 'build_model'\n",
      "24-09-19 21:09:22 - Found 726 newly added image(s), 0 removed image(s), 0 replaced image(s).\n"
     ]
    },
    {
     "name": "stderr",
     "output_type": "stream",
     "text": [
      "Finding representations:   0%|          | 0/726 [00:00<?, ?it/s]\n"
     ]
    },
    {
     "name": "stdout",
     "output_type": "stream",
     "text": [
      "Error in DeepFace: module 'deepface.modules.modeling' has no attribute 'build_model'\n",
      "24-09-19 21:09:22 - Found 726 newly added image(s), 0 removed image(s), 0 replaced image(s).\n"
     ]
    },
    {
     "name": "stderr",
     "output_type": "stream",
     "text": [
      "Finding representations:   0%|          | 0/726 [00:00<?, ?it/s]\n"
     ]
    },
    {
     "name": "stdout",
     "output_type": "stream",
     "text": [
      "Error in DeepFace: module 'deepface.modules.modeling' has no attribute 'build_model'\n",
      "24-09-19 21:09:22 - Found 726 newly added image(s), 0 removed image(s), 0 replaced image(s).\n"
     ]
    },
    {
     "name": "stderr",
     "output_type": "stream",
     "text": [
      "Finding representations:   0%|          | 0/726 [00:00<?, ?it/s]"
     ]
    },
    {
     "name": "stdout",
     "output_type": "stream",
     "text": [
      "Error in DeepFace: module 'deepface.modules.modeling' has no attribute 'build_model'\n"
     ]
    },
    {
     "name": "stderr",
     "output_type": "stream",
     "text": [
      "\n"
     ]
    },
    {
     "name": "stdout",
     "output_type": "stream",
     "text": [
      "24-09-19 21:09:22 - Found 726 newly added image(s), 0 removed image(s), 0 replaced image(s).\n"
     ]
    },
    {
     "name": "stderr",
     "output_type": "stream",
     "text": [
      "Finding representations:   0%|          | 0/726 [00:00<?, ?it/s]\n"
     ]
    },
    {
     "name": "stdout",
     "output_type": "stream",
     "text": [
      "Error in DeepFace: module 'deepface.modules.modeling' has no attribute 'build_model'\n",
      "24-09-19 21:09:23 - Found 726 newly added image(s), 0 removed image(s), 0 replaced image(s).\n"
     ]
    },
    {
     "name": "stderr",
     "output_type": "stream",
     "text": [
      "Finding representations:   0%|          | 0/726 [00:00<?, ?it/s]"
     ]
    },
    {
     "name": "stdout",
     "output_type": "stream",
     "text": [
      "Error in DeepFace: module 'deepface.modules.modeling' has no attribute 'build_model'\n"
     ]
    },
    {
     "name": "stderr",
     "output_type": "stream",
     "text": [
      "\n"
     ]
    },
    {
     "name": "stdout",
     "output_type": "stream",
     "text": [
      "24-09-19 21:09:23 - Found 726 newly added image(s), 0 removed image(s), 0 replaced image(s).\n"
     ]
    },
    {
     "name": "stderr",
     "output_type": "stream",
     "text": [
      "Finding representations:   0%|          | 0/726 [00:00<?, ?it/s]\n"
     ]
    },
    {
     "name": "stdout",
     "output_type": "stream",
     "text": [
      "Error in DeepFace: module 'deepface.modules.modeling' has no attribute 'build_model'\n",
      "24-09-19 21:09:23 - Found 726 newly added image(s), 0 removed image(s), 0 replaced image(s).\n"
     ]
    },
    {
     "name": "stderr",
     "output_type": "stream",
     "text": [
      "Finding representations:   0%|          | 0/726 [00:00<?, ?it/s]\n"
     ]
    },
    {
     "name": "stdout",
     "output_type": "stream",
     "text": [
      "Error in DeepFace: module 'deepface.modules.modeling' has no attribute 'build_model'\n",
      "24-09-19 21:09:23 - Found 726 newly added image(s), 0 removed image(s), 0 replaced image(s).\n"
     ]
    },
    {
     "name": "stderr",
     "output_type": "stream",
     "text": [
      "Finding representations:   0%|          | 0/726 [00:00<?, ?it/s]\n"
     ]
    },
    {
     "name": "stdout",
     "output_type": "stream",
     "text": [
      "Error in DeepFace: module 'deepface.modules.modeling' has no attribute 'build_model'\n",
      "24-09-19 21:09:23 - Found 726 newly added image(s), 0 removed image(s), 0 replaced image(s).\n"
     ]
    },
    {
     "name": "stderr",
     "output_type": "stream",
     "text": [
      "Finding representations:   0%|          | 0/726 [00:00<?, ?it/s]\n"
     ]
    },
    {
     "name": "stdout",
     "output_type": "stream",
     "text": [
      "Error in DeepFace: module 'deepface.modules.modeling' has no attribute 'build_model'\n",
      "24-09-19 21:09:23 - Found 726 newly added image(s), 0 removed image(s), 0 replaced image(s).\n"
     ]
    },
    {
     "name": "stderr",
     "output_type": "stream",
     "text": [
      "Finding representations:   0%|          | 0/726 [00:00<?, ?it/s]"
     ]
    },
    {
     "name": "stdout",
     "output_type": "stream",
     "text": [
      "Error in DeepFace: module 'deepface.modules.modeling' has no attribute 'build_model'\n"
     ]
    },
    {
     "name": "stderr",
     "output_type": "stream",
     "text": [
      "\n"
     ]
    },
    {
     "name": "stdout",
     "output_type": "stream",
     "text": [
      "24-09-19 21:09:23 - Found 726 newly added image(s), 0 removed image(s), 0 replaced image(s).\n"
     ]
    },
    {
     "name": "stderr",
     "output_type": "stream",
     "text": [
      "Finding representations:   0%|          | 0/726 [00:00<?, ?it/s]\n"
     ]
    },
    {
     "name": "stdout",
     "output_type": "stream",
     "text": [
      "Error in DeepFace: module 'deepface.modules.modeling' has no attribute 'build_model'\n",
      "24-09-19 21:09:23 - Found 726 newly added image(s), 0 removed image(s), 0 replaced image(s).\n"
     ]
    },
    {
     "name": "stderr",
     "output_type": "stream",
     "text": [
      "Finding representations:   0%|          | 0/726 [00:00<?, ?it/s]"
     ]
    },
    {
     "name": "stdout",
     "output_type": "stream",
     "text": [
      "Error in DeepFace: module 'deepface.modules.modeling' has no attribute 'build_model'\n"
     ]
    },
    {
     "name": "stderr",
     "output_type": "stream",
     "text": [
      "\n"
     ]
    },
    {
     "name": "stdout",
     "output_type": "stream",
     "text": [
      "24-09-19 21:09:23 - Found 726 newly added image(s), 0 removed image(s), 0 replaced image(s).\n"
     ]
    },
    {
     "name": "stderr",
     "output_type": "stream",
     "text": [
      "Finding representations:   0%|          | 0/726 [00:00<?, ?it/s]\n"
     ]
    },
    {
     "name": "stdout",
     "output_type": "stream",
     "text": [
      "Error in DeepFace: module 'deepface.modules.modeling' has no attribute 'build_model'\n",
      "24-09-19 21:09:23 - Found 726 newly added image(s), 0 removed image(s), 0 replaced image(s).\n"
     ]
    },
    {
     "name": "stderr",
     "output_type": "stream",
     "text": [
      "Finding representations:   0%|          | 0/726 [00:00<?, ?it/s]\n"
     ]
    },
    {
     "name": "stdout",
     "output_type": "stream",
     "text": [
      "Error in DeepFace: module 'deepface.modules.modeling' has no attribute 'build_model'\n",
      "24-09-19 21:09:23 - Found 726 newly added image(s), 0 removed image(s), 0 replaced image(s).\n"
     ]
    },
    {
     "name": "stderr",
     "output_type": "stream",
     "text": [
      "Finding representations:   0%|          | 0/726 [00:00<?, ?it/s]\n"
     ]
    },
    {
     "name": "stdout",
     "output_type": "stream",
     "text": [
      "Error in DeepFace: module 'deepface.modules.modeling' has no attribute 'build_model'\n",
      "24-09-19 21:09:23 - Found 726 newly added image(s), 0 removed image(s), 0 replaced image(s).\n"
     ]
    },
    {
     "name": "stderr",
     "output_type": "stream",
     "text": [
      "Finding representations:   0%|          | 0/726 [00:00<?, ?it/s]\n"
     ]
    },
    {
     "name": "stdout",
     "output_type": "stream",
     "text": [
      "Error in DeepFace: module 'deepface.modules.modeling' has no attribute 'build_model'\n",
      "24-09-19 21:09:23 - Found 726 newly added image(s), 0 removed image(s), 0 replaced image(s).\n"
     ]
    },
    {
     "name": "stderr",
     "output_type": "stream",
     "text": [
      "Finding representations:   0%|          | 0/726 [00:00<?, ?it/s]\n"
     ]
    },
    {
     "name": "stdout",
     "output_type": "stream",
     "text": [
      "Error in DeepFace: module 'deepface.modules.modeling' has no attribute 'build_model'\n",
      "24-09-19 21:09:23 - Found 726 newly added image(s), 0 removed image(s), 0 replaced image(s).\n"
     ]
    },
    {
     "name": "stderr",
     "output_type": "stream",
     "text": [
      "Finding representations:   0%|          | 0/726 [00:00<?, ?it/s]\n"
     ]
    },
    {
     "name": "stdout",
     "output_type": "stream",
     "text": [
      "Error in DeepFace: module 'deepface.modules.modeling' has no attribute 'build_model'\n",
      "24-09-19 21:09:24 - Found 726 newly added image(s), 0 removed image(s), 0 replaced image(s).\n"
     ]
    },
    {
     "name": "stderr",
     "output_type": "stream",
     "text": [
      "Finding representations:   0%|          | 0/726 [00:00<?, ?it/s]"
     ]
    },
    {
     "name": "stdout",
     "output_type": "stream",
     "text": [
      "Error in DeepFace: module 'deepface.modules.modeling' has no attribute 'build_model'\n"
     ]
    },
    {
     "name": "stderr",
     "output_type": "stream",
     "text": [
      "\n"
     ]
    },
    {
     "name": "stdout",
     "output_type": "stream",
     "text": [
      "24-09-19 21:09:24 - Found 726 newly added image(s), 0 removed image(s), 0 replaced image(s).\n"
     ]
    },
    {
     "name": "stderr",
     "output_type": "stream",
     "text": [
      "Finding representations:   0%|          | 0/726 [00:00<?, ?it/s]"
     ]
    },
    {
     "name": "stdout",
     "output_type": "stream",
     "text": [
      "Error in DeepFace: module 'deepface.modules.modeling' has no attribute 'build_model'\n"
     ]
    },
    {
     "name": "stderr",
     "output_type": "stream",
     "text": [
      "\n"
     ]
    },
    {
     "name": "stdout",
     "output_type": "stream",
     "text": [
      "24-09-19 21:09:24 - Found 726 newly added image(s), 0 removed image(s), 0 replaced image(s).\n"
     ]
    },
    {
     "name": "stderr",
     "output_type": "stream",
     "text": [
      "Finding representations:   0%|          | 0/726 [00:00<?, ?it/s]\n"
     ]
    },
    {
     "name": "stdout",
     "output_type": "stream",
     "text": [
      "Error in DeepFace: module 'deepface.modules.modeling' has no attribute 'build_model'\n",
      "24-09-19 21:09:24 - Found 726 newly added image(s), 0 removed image(s), 0 replaced image(s).\n"
     ]
    },
    {
     "name": "stderr",
     "output_type": "stream",
     "text": [
      "Finding representations:   0%|          | 0/726 [00:00<?, ?it/s]\n"
     ]
    },
    {
     "name": "stdout",
     "output_type": "stream",
     "text": [
      "Error in DeepFace: module 'deepface.modules.modeling' has no attribute 'build_model'\n",
      "24-09-19 21:09:24 - Found 726 newly added image(s), 0 removed image(s), 0 replaced image(s).\n"
     ]
    },
    {
     "name": "stderr",
     "output_type": "stream",
     "text": [
      "Finding representations:   0%|          | 0/726 [00:00<?, ?it/s]"
     ]
    },
    {
     "name": "stdout",
     "output_type": "stream",
     "text": [
      "Error in DeepFace: module 'deepface.modules.modeling' has no attribute 'build_model'\n"
     ]
    },
    {
     "name": "stderr",
     "output_type": "stream",
     "text": [
      "\n"
     ]
    },
    {
     "name": "stdout",
     "output_type": "stream",
     "text": [
      "24-09-19 21:09:24 - Found 726 newly added image(s), 0 removed image(s), 0 replaced image(s).\n"
     ]
    },
    {
     "name": "stderr",
     "output_type": "stream",
     "text": [
      "Finding representations:   0%|          | 0/726 [00:00<?, ?it/s]\n"
     ]
    },
    {
     "name": "stdout",
     "output_type": "stream",
     "text": [
      "Error in DeepFace: module 'deepface.modules.modeling' has no attribute 'build_model'\n",
      "24-09-19 21:09:24 - Found 726 newly added image(s), 0 removed image(s), 0 replaced image(s).\n"
     ]
    },
    {
     "name": "stderr",
     "output_type": "stream",
     "text": [
      "Finding representations:   0%|          | 0/726 [00:00<?, ?it/s]\n"
     ]
    },
    {
     "name": "stdout",
     "output_type": "stream",
     "text": [
      "Error in DeepFace: module 'deepface.modules.modeling' has no attribute 'build_model'\n",
      "24-09-19 21:09:24 - Found 726 newly added image(s), 0 removed image(s), 0 replaced image(s).\n"
     ]
    },
    {
     "name": "stderr",
     "output_type": "stream",
     "text": [
      "Finding representations:   0%|          | 0/726 [00:00<?, ?it/s]\n"
     ]
    },
    {
     "name": "stdout",
     "output_type": "stream",
     "text": [
      "Error in DeepFace: module 'deepface.modules.modeling' has no attribute 'build_model'\n",
      "24-09-19 21:09:24 - Found 726 newly added image(s), 0 removed image(s), 0 replaced image(s).\n"
     ]
    },
    {
     "name": "stderr",
     "output_type": "stream",
     "text": [
      "Finding representations:   0%|          | 0/726 [00:00<?, ?it/s]\n"
     ]
    },
    {
     "name": "stdout",
     "output_type": "stream",
     "text": [
      "Error in DeepFace: module 'deepface.modules.modeling' has no attribute 'build_model'\n",
      "24-09-19 21:09:24 - Found 726 newly added image(s), 0 removed image(s), 0 replaced image(s).\n"
     ]
    },
    {
     "name": "stderr",
     "output_type": "stream",
     "text": [
      "Finding representations:   0%|          | 0/726 [00:00<?, ?it/s]\n"
     ]
    },
    {
     "name": "stdout",
     "output_type": "stream",
     "text": [
      "Error in DeepFace: module 'deepface.modules.modeling' has no attribute 'build_model'\n",
      "24-09-19 21:09:24 - Found 726 newly added image(s), 0 removed image(s), 0 replaced image(s).\n"
     ]
    },
    {
     "name": "stderr",
     "output_type": "stream",
     "text": [
      "Finding representations:   0%|          | 0/726 [00:00<?, ?it/s]\n"
     ]
    },
    {
     "name": "stdout",
     "output_type": "stream",
     "text": [
      "Error in DeepFace: module 'deepface.modules.modeling' has no attribute 'build_model'\n",
      "24-09-19 21:09:24 - Found 726 newly added image(s), 0 removed image(s), 0 replaced image(s).\n"
     ]
    },
    {
     "name": "stderr",
     "output_type": "stream",
     "text": [
      "Finding representations:   0%|          | 0/726 [00:00<?, ?it/s]\n"
     ]
    },
    {
     "name": "stdout",
     "output_type": "stream",
     "text": [
      "Error in DeepFace: module 'deepface.modules.modeling' has no attribute 'build_model'\n",
      "24-09-19 21:09:24 - Found 726 newly added image(s), 0 removed image(s), 0 replaced image(s).\n"
     ]
    },
    {
     "name": "stderr",
     "output_type": "stream",
     "text": [
      "Finding representations:   0%|          | 0/726 [00:00<?, ?it/s]\n"
     ]
    },
    {
     "name": "stdout",
     "output_type": "stream",
     "text": [
      "Error in DeepFace: module 'deepface.modules.modeling' has no attribute 'build_model'\n",
      "24-09-19 21:09:24 - Found 726 newly added image(s), 0 removed image(s), 0 replaced image(s).\n"
     ]
    },
    {
     "name": "stderr",
     "output_type": "stream",
     "text": [
      "Finding representations:   0%|          | 0/726 [00:00<?, ?it/s]\n"
     ]
    },
    {
     "name": "stdout",
     "output_type": "stream",
     "text": [
      "Error in DeepFace: module 'deepface.modules.modeling' has no attribute 'build_model'\n",
      "24-09-19 21:09:24 - Found 726 newly added image(s), 0 removed image(s), 0 replaced image(s).\n"
     ]
    },
    {
     "name": "stderr",
     "output_type": "stream",
     "text": [
      "Finding representations:   0%|          | 0/726 [00:00<?, ?it/s]\n"
     ]
    },
    {
     "name": "stdout",
     "output_type": "stream",
     "text": [
      "Error in DeepFace: module 'deepface.modules.modeling' has no attribute 'build_model'\n",
      "24-09-19 21:09:25 - Found 726 newly added image(s), 0 removed image(s), 0 replaced image(s).\n"
     ]
    },
    {
     "name": "stderr",
     "output_type": "stream",
     "text": [
      "Finding representations:   0%|          | 0/726 [00:00<?, ?it/s]\n"
     ]
    },
    {
     "name": "stdout",
     "output_type": "stream",
     "text": [
      "Error in DeepFace: module 'deepface.modules.modeling' has no attribute 'build_model'\n",
      "24-09-19 21:09:25 - Found 726 newly added image(s), 0 removed image(s), 0 replaced image(s).\n"
     ]
    },
    {
     "name": "stderr",
     "output_type": "stream",
     "text": [
      "Finding representations:   0%|          | 0/726 [00:00<?, ?it/s]\n"
     ]
    },
    {
     "name": "stdout",
     "output_type": "stream",
     "text": [
      "Error in DeepFace: module 'deepface.modules.modeling' has no attribute 'build_model'\n",
      "24-09-19 21:09:25 - Found 726 newly added image(s), 0 removed image(s), 0 replaced image(s).\n"
     ]
    },
    {
     "name": "stderr",
     "output_type": "stream",
     "text": [
      "Finding representations:   0%|          | 0/726 [00:00<?, ?it/s]\n"
     ]
    },
    {
     "name": "stdout",
     "output_type": "stream",
     "text": [
      "Error in DeepFace: module 'deepface.modules.modeling' has no attribute 'build_model'\n",
      "24-09-19 21:09:25 - Found 726 newly added image(s), 0 removed image(s), 0 replaced image(s).\n"
     ]
    },
    {
     "name": "stderr",
     "output_type": "stream",
     "text": [
      "Finding representations:   0%|          | 0/726 [00:00<?, ?it/s]\n"
     ]
    },
    {
     "name": "stdout",
     "output_type": "stream",
     "text": [
      "Error in DeepFace: module 'deepface.modules.modeling' has no attribute 'build_model'\n",
      "24-09-19 21:09:25 - Found 726 newly added image(s), 0 removed image(s), 0 replaced image(s).\n"
     ]
    },
    {
     "name": "stderr",
     "output_type": "stream",
     "text": [
      "Finding representations:   0%|          | 0/726 [00:00<?, ?it/s]\n"
     ]
    },
    {
     "name": "stdout",
     "output_type": "stream",
     "text": [
      "Error in DeepFace: module 'deepface.modules.modeling' has no attribute 'build_model'\n",
      "24-09-19 21:09:25 - Found 726 newly added image(s), 0 removed image(s), 0 replaced image(s).\n"
     ]
    },
    {
     "name": "stderr",
     "output_type": "stream",
     "text": [
      "Finding representations:   0%|          | 0/726 [00:00<?, ?it/s]\n"
     ]
    },
    {
     "name": "stdout",
     "output_type": "stream",
     "text": [
      "Error in DeepFace: module 'deepface.modules.modeling' has no attribute 'build_model'\n",
      "24-09-19 21:09:25 - Found 726 newly added image(s), 0 removed image(s), 0 replaced image(s).\n"
     ]
    },
    {
     "name": "stderr",
     "output_type": "stream",
     "text": [
      "Finding representations:   0%|          | 0/726 [00:00<?, ?it/s]"
     ]
    },
    {
     "name": "stdout",
     "output_type": "stream",
     "text": [
      "Error in DeepFace: module 'deepface.modules.modeling' has no attribute 'build_model'\n"
     ]
    },
    {
     "name": "stderr",
     "output_type": "stream",
     "text": [
      "\n"
     ]
    },
    {
     "name": "stdout",
     "output_type": "stream",
     "text": [
      "24-09-19 21:09:25 - Found 726 newly added image(s), 0 removed image(s), 0 replaced image(s).\n"
     ]
    },
    {
     "name": "stderr",
     "output_type": "stream",
     "text": [
      "Finding representations:   0%|          | 0/726 [00:00<?, ?it/s]\n"
     ]
    },
    {
     "name": "stdout",
     "output_type": "stream",
     "text": [
      "Error in DeepFace: module 'deepface.modules.modeling' has no attribute 'build_model'\n",
      "24-09-19 21:09:25 - Found 726 newly added image(s), 0 removed image(s), 0 replaced image(s).\n"
     ]
    },
    {
     "name": "stderr",
     "output_type": "stream",
     "text": [
      "Finding representations:   0%|          | 0/726 [00:00<?, ?it/s]\n"
     ]
    },
    {
     "name": "stdout",
     "output_type": "stream",
     "text": [
      "Error in DeepFace: module 'deepface.modules.modeling' has no attribute 'build_model'\n",
      "24-09-19 21:09:25 - Found 726 newly added image(s), 0 removed image(s), 0 replaced image(s).\n"
     ]
    },
    {
     "name": "stderr",
     "output_type": "stream",
     "text": [
      "Finding representations:   0%|          | 0/726 [00:00<?, ?it/s]\n"
     ]
    },
    {
     "name": "stdout",
     "output_type": "stream",
     "text": [
      "Error in DeepFace: module 'deepface.modules.modeling' has no attribute 'build_model'\n",
      "24-09-19 21:09:25 - Found 726 newly added image(s), 0 removed image(s), 0 replaced image(s).\n"
     ]
    },
    {
     "name": "stderr",
     "output_type": "stream",
     "text": [
      "Finding representations:   0%|          | 0/726 [00:00<?, ?it/s]"
     ]
    },
    {
     "name": "stdout",
     "output_type": "stream",
     "text": [
      "Error in DeepFace: module 'deepface.modules.modeling' has no attribute 'build_model'\n"
     ]
    },
    {
     "name": "stderr",
     "output_type": "stream",
     "text": [
      "\n"
     ]
    },
    {
     "name": "stdout",
     "output_type": "stream",
     "text": [
      "24-09-19 21:09:25 - Found 726 newly added image(s), 0 removed image(s), 0 replaced image(s).\n"
     ]
    },
    {
     "name": "stderr",
     "output_type": "stream",
     "text": [
      "Finding representations:   0%|          | 0/726 [00:00<?, ?it/s]\n"
     ]
    },
    {
     "name": "stdout",
     "output_type": "stream",
     "text": [
      "Error in DeepFace: module 'deepface.modules.modeling' has no attribute 'build_model'\n",
      "24-09-19 21:09:25 - Found 726 newly added image(s), 0 removed image(s), 0 replaced image(s).\n"
     ]
    },
    {
     "name": "stderr",
     "output_type": "stream",
     "text": [
      "Finding representations:   0%|          | 0/726 [00:00<?, ?it/s]\n"
     ]
    },
    {
     "name": "stdout",
     "output_type": "stream",
     "text": [
      "Error in DeepFace: module 'deepface.modules.modeling' has no attribute 'build_model'\n",
      "24-09-19 21:09:25 - Found 726 newly added image(s), 0 removed image(s), 0 replaced image(s).\n"
     ]
    },
    {
     "name": "stderr",
     "output_type": "stream",
     "text": [
      "Finding representations:   0%|          | 0/726 [00:00<?, ?it/s]\n"
     ]
    },
    {
     "name": "stdout",
     "output_type": "stream",
     "text": [
      "Error in DeepFace: module 'deepface.modules.modeling' has no attribute 'build_model'\n",
      "24-09-19 21:09:25 - Found 726 newly added image(s), 0 removed image(s), 0 replaced image(s).\n"
     ]
    },
    {
     "name": "stderr",
     "output_type": "stream",
     "text": [
      "Finding representations:   0%|          | 0/726 [00:00<?, ?it/s]\n"
     ]
    },
    {
     "name": "stdout",
     "output_type": "stream",
     "text": [
      "Error in DeepFace: module 'deepface.modules.modeling' has no attribute 'build_model'\n",
      "24-09-19 21:09:26 - Found 726 newly added image(s), 0 removed image(s), 0 replaced image(s).\n"
     ]
    },
    {
     "name": "stderr",
     "output_type": "stream",
     "text": [
      "Finding representations:   0%|          | 0/726 [00:00<?, ?it/s]\n"
     ]
    },
    {
     "name": "stdout",
     "output_type": "stream",
     "text": [
      "Error in DeepFace: module 'deepface.modules.modeling' has no attribute 'build_model'\n",
      "24-09-19 21:09:26 - Found 726 newly added image(s), 0 removed image(s), 0 replaced image(s).\n"
     ]
    },
    {
     "name": "stderr",
     "output_type": "stream",
     "text": [
      "Finding representations:   0%|          | 0/726 [00:00<?, ?it/s]\n"
     ]
    },
    {
     "name": "stdout",
     "output_type": "stream",
     "text": [
      "Error in DeepFace: module 'deepface.modules.modeling' has no attribute 'build_model'\n",
      "24-09-19 21:09:26 - Found 726 newly added image(s), 0 removed image(s), 0 replaced image(s).\n"
     ]
    },
    {
     "name": "stderr",
     "output_type": "stream",
     "text": [
      "Finding representations:   0%|          | 0/726 [00:00<?, ?it/s]\n"
     ]
    },
    {
     "name": "stdout",
     "output_type": "stream",
     "text": [
      "Error in DeepFace: module 'deepface.modules.modeling' has no attribute 'build_model'\n",
      "24-09-19 21:09:26 - Found 726 newly added image(s), 0 removed image(s), 0 replaced image(s).\n"
     ]
    },
    {
     "name": "stderr",
     "output_type": "stream",
     "text": [
      "Finding representations:   0%|          | 0/726 [00:00<?, ?it/s]\n"
     ]
    },
    {
     "name": "stdout",
     "output_type": "stream",
     "text": [
      "Error in DeepFace: module 'deepface.modules.modeling' has no attribute 'build_model'\n",
      "24-09-19 21:09:26 - Found 726 newly added image(s), 0 removed image(s), 0 replaced image(s).\n"
     ]
    },
    {
     "name": "stderr",
     "output_type": "stream",
     "text": [
      "Finding representations:   0%|          | 0/726 [00:00<?, ?it/s]\n"
     ]
    },
    {
     "name": "stdout",
     "output_type": "stream",
     "text": [
      "Error in DeepFace: module 'deepface.modules.modeling' has no attribute 'build_model'\n",
      "24-09-19 21:09:26 - Found 726 newly added image(s), 0 removed image(s), 0 replaced image(s).\n"
     ]
    },
    {
     "name": "stderr",
     "output_type": "stream",
     "text": [
      "Finding representations:   0%|          | 0/726 [00:00<?, ?it/s]\n"
     ]
    },
    {
     "name": "stdout",
     "output_type": "stream",
     "text": [
      "Error in DeepFace: module 'deepface.modules.modeling' has no attribute 'build_model'\n",
      "24-09-19 21:09:26 - Found 726 newly added image(s), 0 removed image(s), 0 replaced image(s).\n"
     ]
    },
    {
     "name": "stderr",
     "output_type": "stream",
     "text": [
      "Finding representations:   0%|          | 0/726 [00:00<?, ?it/s]\n"
     ]
    },
    {
     "name": "stdout",
     "output_type": "stream",
     "text": [
      "Error in DeepFace: module 'deepface.modules.modeling' has no attribute 'build_model'\n",
      "24-09-19 21:09:26 - Found 726 newly added image(s), 0 removed image(s), 0 replaced image(s).\n"
     ]
    },
    {
     "name": "stderr",
     "output_type": "stream",
     "text": [
      "Finding representations:   0%|          | 0/726 [00:00<?, ?it/s]\n"
     ]
    },
    {
     "name": "stdout",
     "output_type": "stream",
     "text": [
      "Error in DeepFace: module 'deepface.modules.modeling' has no attribute 'build_model'\n",
      "24-09-19 21:09:26 - Found 726 newly added image(s), 0 removed image(s), 0 replaced image(s).\n"
     ]
    },
    {
     "name": "stderr",
     "output_type": "stream",
     "text": [
      "Finding representations:   0%|          | 0/726 [00:00<?, ?it/s]\n"
     ]
    },
    {
     "name": "stdout",
     "output_type": "stream",
     "text": [
      "Error in DeepFace: module 'deepface.modules.modeling' has no attribute 'build_model'\n",
      "24-09-19 21:09:26 - Found 726 newly added image(s), 0 removed image(s), 0 replaced image(s).\n"
     ]
    },
    {
     "name": "stderr",
     "output_type": "stream",
     "text": [
      "Finding representations:   0%|          | 0/726 [00:00<?, ?it/s]\n"
     ]
    },
    {
     "name": "stdout",
     "output_type": "stream",
     "text": [
      "Error in DeepFace: module 'deepface.modules.modeling' has no attribute 'build_model'\n",
      "24-09-19 21:09:26 - Found 726 newly added image(s), 0 removed image(s), 0 replaced image(s).\n"
     ]
    },
    {
     "name": "stderr",
     "output_type": "stream",
     "text": [
      "Finding representations:   0%|          | 0/726 [00:00<?, ?it/s]\n"
     ]
    },
    {
     "name": "stdout",
     "output_type": "stream",
     "text": [
      "Error in DeepFace: module 'deepface.modules.modeling' has no attribute 'build_model'\n",
      "24-09-19 21:09:26 - Found 726 newly added image(s), 0 removed image(s), 0 replaced image(s).\n"
     ]
    },
    {
     "name": "stderr",
     "output_type": "stream",
     "text": [
      "Finding representations:   0%|          | 0/726 [00:00<?, ?it/s]\n"
     ]
    },
    {
     "name": "stdout",
     "output_type": "stream",
     "text": [
      "Error in DeepFace: module 'deepface.modules.modeling' has no attribute 'build_model'\n",
      "24-09-19 21:09:26 - Found 726 newly added image(s), 0 removed image(s), 0 replaced image(s).\n"
     ]
    },
    {
     "name": "stderr",
     "output_type": "stream",
     "text": [
      "Finding representations:   0%|          | 0/726 [00:00<?, ?it/s]\n"
     ]
    },
    {
     "name": "stdout",
     "output_type": "stream",
     "text": [
      "Error in DeepFace: module 'deepface.modules.modeling' has no attribute 'build_model'\n",
      "24-09-19 21:09:26 - Found 726 newly added image(s), 0 removed image(s), 0 replaced image(s).\n"
     ]
    },
    {
     "name": "stderr",
     "output_type": "stream",
     "text": [
      "Finding representations:   0%|          | 0/726 [00:00<?, ?it/s]\n"
     ]
    },
    {
     "name": "stdout",
     "output_type": "stream",
     "text": [
      "Error in DeepFace: module 'deepface.modules.modeling' has no attribute 'build_model'\n",
      "24-09-19 21:09:26 - Found 726 newly added image(s), 0 removed image(s), 0 replaced image(s).\n"
     ]
    },
    {
     "name": "stderr",
     "output_type": "stream",
     "text": [
      "Finding representations:   0%|          | 0/726 [00:00<?, ?it/s]\n"
     ]
    },
    {
     "name": "stdout",
     "output_type": "stream",
     "text": [
      "Error in DeepFace: module 'deepface.modules.modeling' has no attribute 'build_model'\n",
      "24-09-19 21:09:26 - Found 726 newly added image(s), 0 removed image(s), 0 replaced image(s).\n"
     ]
    },
    {
     "name": "stderr",
     "output_type": "stream",
     "text": [
      "Finding representations:   0%|          | 0/726 [00:00<?, ?it/s]\n"
     ]
    },
    {
     "name": "stdout",
     "output_type": "stream",
     "text": [
      "Error in DeepFace: module 'deepface.modules.modeling' has no attribute 'build_model'\n",
      "24-09-19 21:09:27 - Found 726 newly added image(s), 0 removed image(s), 0 replaced image(s).\n"
     ]
    },
    {
     "name": "stderr",
     "output_type": "stream",
     "text": [
      "Finding representations:   0%|          | 0/726 [00:00<?, ?it/s]\n"
     ]
    },
    {
     "name": "stdout",
     "output_type": "stream",
     "text": [
      "Error in DeepFace: module 'deepface.modules.modeling' has no attribute 'build_model'\n",
      "24-09-19 21:09:27 - Found 726 newly added image(s), 0 removed image(s), 0 replaced image(s).\n"
     ]
    },
    {
     "name": "stderr",
     "output_type": "stream",
     "text": [
      "Finding representations:   0%|          | 0/726 [00:00<?, ?it/s]\n"
     ]
    },
    {
     "name": "stdout",
     "output_type": "stream",
     "text": [
      "Error in DeepFace: module 'deepface.modules.modeling' has no attribute 'build_model'\n",
      "24-09-19 21:09:27 - Found 726 newly added image(s), 0 removed image(s), 0 replaced image(s).\n"
     ]
    },
    {
     "name": "stderr",
     "output_type": "stream",
     "text": [
      "Finding representations:   0%|          | 0/726 [00:00<?, ?it/s]\n"
     ]
    },
    {
     "name": "stdout",
     "output_type": "stream",
     "text": [
      "Error in DeepFace: module 'deepface.modules.modeling' has no attribute 'build_model'\n",
      "24-09-19 21:09:27 - Found 726 newly added image(s), 0 removed image(s), 0 replaced image(s).\n"
     ]
    },
    {
     "name": "stderr",
     "output_type": "stream",
     "text": [
      "Finding representations:   0%|          | 0/726 [00:00<?, ?it/s]\n"
     ]
    },
    {
     "name": "stdout",
     "output_type": "stream",
     "text": [
      "Error in DeepFace: module 'deepface.modules.modeling' has no attribute 'build_model'\n",
      "24-09-19 21:09:27 - Found 726 newly added image(s), 0 removed image(s), 0 replaced image(s).\n"
     ]
    },
    {
     "name": "stderr",
     "output_type": "stream",
     "text": [
      "Finding representations:   0%|          | 0/726 [00:00<?, ?it/s]\n"
     ]
    },
    {
     "name": "stdout",
     "output_type": "stream",
     "text": [
      "Error in DeepFace: module 'deepface.modules.modeling' has no attribute 'build_model'\n",
      "24-09-19 21:09:27 - Found 726 newly added image(s), 0 removed image(s), 0 replaced image(s).\n"
     ]
    },
    {
     "name": "stderr",
     "output_type": "stream",
     "text": [
      "Finding representations:   0%|          | 0/726 [00:00<?, ?it/s]\n"
     ]
    },
    {
     "name": "stdout",
     "output_type": "stream",
     "text": [
      "Error in DeepFace: module 'deepface.modules.modeling' has no attribute 'build_model'\n",
      "24-09-19 21:09:27 - Found 726 newly added image(s), 0 removed image(s), 0 replaced image(s).\n"
     ]
    },
    {
     "name": "stderr",
     "output_type": "stream",
     "text": [
      "Finding representations:   0%|          | 0/726 [00:00<?, ?it/s]\n"
     ]
    },
    {
     "name": "stdout",
     "output_type": "stream",
     "text": [
      "Error in DeepFace: module 'deepface.modules.modeling' has no attribute 'build_model'\n",
      "24-09-19 21:09:27 - Found 726 newly added image(s), 0 removed image(s), 0 replaced image(s).\n"
     ]
    },
    {
     "name": "stderr",
     "output_type": "stream",
     "text": [
      "Finding representations:   0%|          | 0/726 [00:00<?, ?it/s]\n"
     ]
    },
    {
     "name": "stdout",
     "output_type": "stream",
     "text": [
      "Error in DeepFace: module 'deepface.modules.modeling' has no attribute 'build_model'\n",
      "24-09-19 21:09:27 - Found 726 newly added image(s), 0 removed image(s), 0 replaced image(s).\n"
     ]
    },
    {
     "name": "stderr",
     "output_type": "stream",
     "text": [
      "Finding representations:   0%|          | 0/726 [00:00<?, ?it/s]"
     ]
    },
    {
     "name": "stdout",
     "output_type": "stream",
     "text": [
      "Error in DeepFace: module 'deepface.modules.modeling' has no attribute 'build_model'\n"
     ]
    },
    {
     "name": "stderr",
     "output_type": "stream",
     "text": [
      "\n"
     ]
    },
    {
     "name": "stdout",
     "output_type": "stream",
     "text": [
      "24-09-19 21:09:27 - Found 726 newly added image(s), 0 removed image(s), 0 replaced image(s).\n"
     ]
    },
    {
     "name": "stderr",
     "output_type": "stream",
     "text": [
      "Finding representations:   0%|          | 0/726 [00:00<?, ?it/s]\n"
     ]
    },
    {
     "name": "stdout",
     "output_type": "stream",
     "text": [
      "Error in DeepFace: module 'deepface.modules.modeling' has no attribute 'build_model'\n",
      "24-09-19 21:09:27 - Found 726 newly added image(s), 0 removed image(s), 0 replaced image(s).\n"
     ]
    },
    {
     "name": "stderr",
     "output_type": "stream",
     "text": [
      "Finding representations:   0%|          | 0/726 [00:00<?, ?it/s]\n"
     ]
    },
    {
     "name": "stdout",
     "output_type": "stream",
     "text": [
      "Error in DeepFace: module 'deepface.modules.modeling' has no attribute 'build_model'\n",
      "24-09-19 21:09:27 - Found 726 newly added image(s), 0 removed image(s), 0 replaced image(s).\n"
     ]
    },
    {
     "name": "stderr",
     "output_type": "stream",
     "text": [
      "Finding representations:   0%|          | 0/726 [00:00<?, ?it/s]\n"
     ]
    },
    {
     "name": "stdout",
     "output_type": "stream",
     "text": [
      "Error in DeepFace: module 'deepface.modules.modeling' has no attribute 'build_model'\n",
      "24-09-19 21:09:27 - Found 726 newly added image(s), 0 removed image(s), 0 replaced image(s).\n"
     ]
    },
    {
     "name": "stderr",
     "output_type": "stream",
     "text": [
      "Finding representations:   0%|          | 0/726 [00:00<?, ?it/s]\n"
     ]
    },
    {
     "name": "stdout",
     "output_type": "stream",
     "text": [
      "Error in DeepFace: module 'deepface.modules.modeling' has no attribute 'build_model'\n",
      "24-09-19 21:09:27 - Found 726 newly added image(s), 0 removed image(s), 0 replaced image(s).\n"
     ]
    },
    {
     "name": "stderr",
     "output_type": "stream",
     "text": [
      "Finding representations:   0%|          | 0/726 [00:00<?, ?it/s]\n"
     ]
    },
    {
     "name": "stdout",
     "output_type": "stream",
     "text": [
      "Error in DeepFace: module 'deepface.modules.modeling' has no attribute 'build_model'\n",
      "24-09-19 21:09:28 - Found 726 newly added image(s), 0 removed image(s), 0 replaced image(s).\n"
     ]
    },
    {
     "name": "stderr",
     "output_type": "stream",
     "text": [
      "Finding representations:   0%|          | 0/726 [00:00<?, ?it/s]\n"
     ]
    },
    {
     "name": "stdout",
     "output_type": "stream",
     "text": [
      "Error in DeepFace: module 'deepface.modules.modeling' has no attribute 'build_model'\n",
      "24-09-19 21:09:28 - Found 726 newly added image(s), 0 removed image(s), 0 replaced image(s).\n"
     ]
    },
    {
     "name": "stderr",
     "output_type": "stream",
     "text": [
      "Finding representations:   0%|          | 0/726 [00:00<?, ?it/s]"
     ]
    },
    {
     "name": "stdout",
     "output_type": "stream",
     "text": [
      "Error in DeepFace: module 'deepface.modules.modeling' has no attribute 'build_model'\n"
     ]
    },
    {
     "name": "stderr",
     "output_type": "stream",
     "text": [
      "\n"
     ]
    },
    {
     "name": "stdout",
     "output_type": "stream",
     "text": [
      "24-09-19 21:09:28 - Found 726 newly added image(s), 0 removed image(s), 0 replaced image(s).\n"
     ]
    },
    {
     "name": "stderr",
     "output_type": "stream",
     "text": [
      "Finding representations:   0%|          | 0/726 [00:00<?, ?it/s]"
     ]
    },
    {
     "name": "stdout",
     "output_type": "stream",
     "text": [
      "Error in DeepFace: module 'deepface.modules.modeling' has no attribute 'build_model'\n"
     ]
    },
    {
     "name": "stderr",
     "output_type": "stream",
     "text": [
      "\n"
     ]
    },
    {
     "name": "stdout",
     "output_type": "stream",
     "text": [
      "24-09-19 21:09:28 - Found 726 newly added image(s), 0 removed image(s), 0 replaced image(s).\n"
     ]
    },
    {
     "name": "stderr",
     "output_type": "stream",
     "text": [
      "Finding representations:   0%|          | 0/726 [00:00<?, ?it/s]\n"
     ]
    },
    {
     "name": "stdout",
     "output_type": "stream",
     "text": [
      "Error in DeepFace: module 'deepface.modules.modeling' has no attribute 'build_model'\n",
      "24-09-19 21:09:28 - Found 726 newly added image(s), 0 removed image(s), 0 replaced image(s).\n"
     ]
    },
    {
     "name": "stderr",
     "output_type": "stream",
     "text": [
      "Finding representations:   0%|          | 0/726 [00:00<?, ?it/s]"
     ]
    },
    {
     "name": "stdout",
     "output_type": "stream",
     "text": [
      "Error in DeepFace: module 'deepface.modules.modeling' has no attribute 'build_model'\n"
     ]
    },
    {
     "name": "stderr",
     "output_type": "stream",
     "text": [
      "\n"
     ]
    },
    {
     "name": "stdout",
     "output_type": "stream",
     "text": [
      "24-09-19 21:09:28 - Found 726 newly added image(s), 0 removed image(s), 0 replaced image(s).\n"
     ]
    },
    {
     "name": "stderr",
     "output_type": "stream",
     "text": [
      "Finding representations:   0%|          | 0/726 [00:00<?, ?it/s]"
     ]
    },
    {
     "name": "stdout",
     "output_type": "stream",
     "text": [
      "Error in DeepFace: module 'deepface.modules.modeling' has no attribute 'build_model'\n"
     ]
    },
    {
     "name": "stderr",
     "output_type": "stream",
     "text": [
      "\n"
     ]
    },
    {
     "name": "stdout",
     "output_type": "stream",
     "text": [
      "24-09-19 21:09:28 - Found 726 newly added image(s), 0 removed image(s), 0 replaced image(s).\n"
     ]
    },
    {
     "name": "stderr",
     "output_type": "stream",
     "text": [
      "Finding representations:   0%|          | 0/726 [00:00<?, ?it/s]\n"
     ]
    },
    {
     "name": "stdout",
     "output_type": "stream",
     "text": [
      "Error in DeepFace: module 'deepface.modules.modeling' has no attribute 'build_model'\n",
      "24-09-19 21:09:28 - Found 726 newly added image(s), 0 removed image(s), 0 replaced image(s).\n"
     ]
    },
    {
     "name": "stderr",
     "output_type": "stream",
     "text": [
      "Finding representations:   0%|          | 0/726 [00:00<?, ?it/s]\n"
     ]
    },
    {
     "name": "stdout",
     "output_type": "stream",
     "text": [
      "Error in DeepFace: module 'deepface.modules.modeling' has no attribute 'build_model'\n",
      "24-09-19 21:09:28 - Found 726 newly added image(s), 0 removed image(s), 0 replaced image(s).\n"
     ]
    },
    {
     "name": "stderr",
     "output_type": "stream",
     "text": [
      "Finding representations:   0%|          | 0/726 [00:00<?, ?it/s]"
     ]
    },
    {
     "name": "stdout",
     "output_type": "stream",
     "text": [
      "Error in DeepFace: module 'deepface.modules.modeling' has no attribute 'build_model'\n"
     ]
    },
    {
     "name": "stderr",
     "output_type": "stream",
     "text": [
      "\n"
     ]
    },
    {
     "name": "stdout",
     "output_type": "stream",
     "text": [
      "24-09-19 21:09:28 - Found 726 newly added image(s), 0 removed image(s), 0 replaced image(s).\n"
     ]
    },
    {
     "name": "stderr",
     "output_type": "stream",
     "text": [
      "Finding representations:   0%|          | 0/726 [00:00<?, ?it/s]\n"
     ]
    },
    {
     "name": "stdout",
     "output_type": "stream",
     "text": [
      "Error in DeepFace: module 'deepface.modules.modeling' has no attribute 'build_model'\n",
      "24-09-19 21:09:28 - Found 726 newly added image(s), 0 removed image(s), 0 replaced image(s).\n"
     ]
    },
    {
     "name": "stderr",
     "output_type": "stream",
     "text": [
      "Finding representations:   0%|          | 0/726 [00:00<?, ?it/s]\n"
     ]
    },
    {
     "name": "stdout",
     "output_type": "stream",
     "text": [
      "Error in DeepFace: module 'deepface.modules.modeling' has no attribute 'build_model'\n",
      "24-09-19 21:09:28 - Found 726 newly added image(s), 0 removed image(s), 0 replaced image(s).\n"
     ]
    },
    {
     "name": "stderr",
     "output_type": "stream",
     "text": [
      "Finding representations:   0%|          | 0/726 [00:00<?, ?it/s]\n"
     ]
    },
    {
     "name": "stdout",
     "output_type": "stream",
     "text": [
      "Error in DeepFace: module 'deepface.modules.modeling' has no attribute 'build_model'\n",
      "24-09-19 21:09:28 - Found 726 newly added image(s), 0 removed image(s), 0 replaced image(s).\n"
     ]
    },
    {
     "name": "stderr",
     "output_type": "stream",
     "text": [
      "Finding representations:   0%|          | 0/726 [00:00<?, ?it/s]\n"
     ]
    },
    {
     "name": "stdout",
     "output_type": "stream",
     "text": [
      "Error in DeepFace: module 'deepface.modules.modeling' has no attribute 'build_model'\n",
      "24-09-19 21:09:29 - Found 726 newly added image(s), 0 removed image(s), 0 replaced image(s).\n"
     ]
    },
    {
     "name": "stderr",
     "output_type": "stream",
     "text": [
      "Finding representations:   0%|          | 0/726 [00:00<?, ?it/s]\n"
     ]
    },
    {
     "name": "stdout",
     "output_type": "stream",
     "text": [
      "Error in DeepFace: module 'deepface.modules.modeling' has no attribute 'build_model'\n",
      "24-09-19 21:09:29 - Found 726 newly added image(s), 0 removed image(s), 0 replaced image(s).\n"
     ]
    },
    {
     "name": "stderr",
     "output_type": "stream",
     "text": [
      "Finding representations:   0%|          | 0/726 [00:00<?, ?it/s]"
     ]
    },
    {
     "name": "stdout",
     "output_type": "stream",
     "text": [
      "Error in DeepFace: module 'deepface.modules.modeling' has no attribute 'build_model'\n"
     ]
    },
    {
     "name": "stderr",
     "output_type": "stream",
     "text": [
      "\n"
     ]
    },
    {
     "name": "stdout",
     "output_type": "stream",
     "text": [
      "24-09-19 21:09:29 - Found 726 newly added image(s), 0 removed image(s), 0 replaced image(s).\n"
     ]
    },
    {
     "name": "stderr",
     "output_type": "stream",
     "text": [
      "Finding representations:   0%|          | 0/726 [00:00<?, ?it/s]\n"
     ]
    },
    {
     "name": "stdout",
     "output_type": "stream",
     "text": [
      "Error in DeepFace: module 'deepface.modules.modeling' has no attribute 'build_model'\n",
      "24-09-19 21:09:29 - Found 726 newly added image(s), 0 removed image(s), 0 replaced image(s).\n"
     ]
    },
    {
     "name": "stderr",
     "output_type": "stream",
     "text": [
      "Finding representations:   0%|          | 0/726 [00:00<?, ?it/s]\n"
     ]
    },
    {
     "name": "stdout",
     "output_type": "stream",
     "text": [
      "Error in DeepFace: module 'deepface.modules.modeling' has no attribute 'build_model'\n",
      "24-09-19 21:09:29 - Found 726 newly added image(s), 0 removed image(s), 0 replaced image(s).\n"
     ]
    },
    {
     "name": "stderr",
     "output_type": "stream",
     "text": [
      "Finding representations:   0%|          | 0/726 [00:00<?, ?it/s]\n"
     ]
    },
    {
     "name": "stdout",
     "output_type": "stream",
     "text": [
      "Error in DeepFace: module 'deepface.modules.modeling' has no attribute 'build_model'\n",
      "24-09-19 21:09:29 - Found 726 newly added image(s), 0 removed image(s), 0 replaced image(s).\n"
     ]
    },
    {
     "name": "stderr",
     "output_type": "stream",
     "text": [
      "Finding representations:   0%|          | 0/726 [00:00<?, ?it/s]\n"
     ]
    },
    {
     "name": "stdout",
     "output_type": "stream",
     "text": [
      "Error in DeepFace: module 'deepface.modules.modeling' has no attribute 'build_model'\n",
      "24-09-19 21:09:29 - Found 726 newly added image(s), 0 removed image(s), 0 replaced image(s).\n"
     ]
    },
    {
     "name": "stderr",
     "output_type": "stream",
     "text": [
      "Finding representations:   0%|          | 0/726 [00:00<?, ?it/s]"
     ]
    },
    {
     "name": "stdout",
     "output_type": "stream",
     "text": [
      "Error in DeepFace: module 'deepface.modules.modeling' has no attribute 'build_model'\n"
     ]
    },
    {
     "name": "stderr",
     "output_type": "stream",
     "text": [
      "\n"
     ]
    },
    {
     "name": "stdout",
     "output_type": "stream",
     "text": [
      "24-09-19 21:09:29 - Found 726 newly added image(s), 0 removed image(s), 0 replaced image(s).\n"
     ]
    },
    {
     "name": "stderr",
     "output_type": "stream",
     "text": [
      "Finding representations:   0%|          | 0/726 [00:00<?, ?it/s]"
     ]
    },
    {
     "name": "stdout",
     "output_type": "stream",
     "text": [
      "Error in DeepFace: module 'deepface.modules.modeling' has no attribute 'build_model'\n"
     ]
    },
    {
     "name": "stderr",
     "output_type": "stream",
     "text": [
      "\n"
     ]
    },
    {
     "name": "stdout",
     "output_type": "stream",
     "text": [
      "24-09-19 21:09:29 - Found 726 newly added image(s), 0 removed image(s), 0 replaced image(s).\n"
     ]
    },
    {
     "name": "stderr",
     "output_type": "stream",
     "text": [
      "Finding representations:   0%|          | 0/726 [00:00<?, ?it/s]\n"
     ]
    },
    {
     "name": "stdout",
     "output_type": "stream",
     "text": [
      "Error in DeepFace: module 'deepface.modules.modeling' has no attribute 'build_model'\n",
      "24-09-19 21:09:29 - Found 726 newly added image(s), 0 removed image(s), 0 replaced image(s).\n"
     ]
    },
    {
     "name": "stderr",
     "output_type": "stream",
     "text": [
      "Finding representations:   0%|          | 0/726 [00:00<?, ?it/s]\n"
     ]
    },
    {
     "name": "stdout",
     "output_type": "stream",
     "text": [
      "Error in DeepFace: module 'deepface.modules.modeling' has no attribute 'build_model'\n",
      "24-09-19 21:09:29 - Found 726 newly added image(s), 0 removed image(s), 0 replaced image(s).\n"
     ]
    },
    {
     "name": "stderr",
     "output_type": "stream",
     "text": [
      "Finding representations:   0%|          | 0/726 [00:00<?, ?it/s]\n"
     ]
    },
    {
     "name": "stdout",
     "output_type": "stream",
     "text": [
      "Error in DeepFace: module 'deepface.modules.modeling' has no attribute 'build_model'\n",
      "24-09-19 21:09:29 - Found 726 newly added image(s), 0 removed image(s), 0 replaced image(s).\n"
     ]
    },
    {
     "name": "stderr",
     "output_type": "stream",
     "text": [
      "Finding representations:   0%|          | 0/726 [00:00<?, ?it/s]\n"
     ]
    },
    {
     "name": "stdout",
     "output_type": "stream",
     "text": [
      "Error in DeepFace: module 'deepface.modules.modeling' has no attribute 'build_model'\n",
      "24-09-19 21:09:29 - Found 726 newly added image(s), 0 removed image(s), 0 replaced image(s).\n"
     ]
    },
    {
     "name": "stderr",
     "output_type": "stream",
     "text": [
      "Finding representations:   0%|          | 0/726 [00:00<?, ?it/s]\n"
     ]
    },
    {
     "name": "stdout",
     "output_type": "stream",
     "text": [
      "Error in DeepFace: module 'deepface.modules.modeling' has no attribute 'build_model'\n"
     ]
    }
   ],
   "source": [
    "import cv2\n",
    "from deepface import DeepFace\n",
    "import os\n",
    "\n",
    "def recognize_faces():\n",
    "    # Directory where face images are stored\n",
    "    face_database_path = 'face_database'\n",
    "    \n",
    "    cap = cv2.VideoCapture(0)\n",
    "\n",
    "    while True:\n",
    "        ret, frame = cap.read()\n",
    "        if not ret:\n",
    "            break\n",
    "\n",
    "        rgb_frame = cv2.cvtColor(frame, cv2.COLOR_BGR2RGB)\n",
    "        # Save the current frame as a temporary file\n",
    "        temp_frame_path = 'temp_frame.jpg'\n",
    "        cv2.imwrite(temp_frame_path, rgb_frame)\n",
    "\n",
    "        try:\n",
    "            # Perform face recognition with a specified model\n",
    "            result = DeepFace.find(temp_frame_path, db_path=face_database_path, model_name='Facenet')\n",
    "\n",
    "            if len(result) > 0:\n",
    "                name = result[0]['identity']\n",
    "            else:\n",
    "                name = \"Unknown\"\n",
    "        except Exception as e:\n",
    "            print(f\"Error in DeepFace: {e}\")\n",
    "            name = \"Unknown\"\n",
    "\n",
    "        # Display the recognized name on the frame\n",
    "        cv2.putText(frame, name, (50, 50), cv2.FONT_HERSHEY_SIMPLEX, 1, (0, 255, 0), 2)\n",
    "        cv2.imshow('Face Recognition', frame)\n",
    "\n",
    "        if cv2.waitKey(1) & 0xFF == ord('q'):\n",
    "            break\n",
    "\n",
    "    cap.release()\n",
    "    cv2.destroyAllWindows()\n",
    "    \n",
    "    # Remove temporary frame\n",
    "    os.remove(temp_frame_path)\n",
    "\n",
    "# Start face recognition\n",
    "recognize_faces()\n"
   ]
  },
  {
   "cell_type": "code",
   "execution_count": 37,
   "metadata": {},
   "outputs": [
    {
     "name": "stdout",
     "output_type": "stream",
     "text": [
      "Capturing images for . Press ESC to stop.\n"
     ]
    }
   ],
   "source": [
    "import cv2\n",
    "import os\n",
    "\n",
    "# Create a folder for the user's dataset\n",
    "def create_dataset_dir(name):\n",
    "    path = f\"dataset/{name}\"\n",
    "    if not os.path.exists(path):\n",
    "        os.makedirs(path)\n",
    "    return path\n",
    "\n",
    "# Capture face images for the given name and save them in the dataset folder\n",
    "def capture_images(name):\n",
    "    cap = cv2.VideoCapture(0)\n",
    "    face_cascade = cv2.CascadeClassifier(cv2.data.haarcascades + 'haarcascade_frontalface_default.xml')\n",
    "    dataset_path = create_dataset_dir(name)\n",
    "    img_id = 0\n",
    "\n",
    "    print(f\"Capturing images for {name}. Press ESC to stop.\")\n",
    "\n",
    "    while True:\n",
    "        ret, frame = cap.read()\n",
    "        if not ret:\n",
    "            break\n",
    "\n",
    "        gray = cv2.cvtColor(frame, cv2.COLOR_BGR2GRAY)\n",
    "        faces = face_cascade.detectMultiScale(gray, scaleFactor=1.3, minNeighbors=5)\n",
    "\n",
    "        for (x, y, w, h) in faces:\n",
    "            img_id += 1\n",
    "            face = gray[y:y+h, x:x+w]\n",
    "            file_name_path = os.path.join(dataset_path, f\"{img_id}.jpg\")\n",
    "            cv2.imwrite(file_name_path, face)\n",
    "\n",
    "            # Display the face and ID in the live camera feed\n",
    "            cv2.putText(frame, str(img_id), (x, y - 10), cv2.FONT_HERSHEY_SIMPLEX, 0.9, (0, 255, 0), 2)\n",
    "            cv2.rectangle(frame, (x, y), (x + w, y + h), (0, 255, 0), 2)\n",
    "\n",
    "        cv2.imshow(\"Face Capture\", frame)\n",
    "\n",
    "        if cv2.waitKey(1) == 27 or img_id >= 100:  # ESC to stop or after 100 images\n",
    "            break\n",
    "\n",
    "    cap.release()\n",
    "    cv2.destroyAllWindows()\n",
    "\n",
    "# Main function to capture images\n",
    "name = input(\"Enter the name of the person: \")\n",
    "capture_images(name)\n"
   ]
  },
  {
   "cell_type": "code",
   "execution_count": 35,
   "metadata": {},
   "outputs": [
    {
     "name": "stdout",
     "output_type": "stream",
     "text": [
      "Training for Siddhartha...\n",
      "Processing images in: dataset\\Siddhartha\n",
      "No faces detected in image: dataset\\Siddhartha\\1.jpg\n",
      "No faces detected in image: dataset\\Siddhartha\\10.jpg\n",
      "No faces detected in image: dataset\\Siddhartha\\100.jpg\n",
      "No faces detected in image: dataset\\Siddhartha\\11.jpg\n",
      "No faces detected in image: dataset\\Siddhartha\\12.jpg\n",
      "No faces detected in image: dataset\\Siddhartha\\13.jpg\n",
      "No faces detected in image: dataset\\Siddhartha\\14.jpg\n",
      "No faces detected in image: dataset\\Siddhartha\\15.jpg\n",
      "No faces detected in image: dataset\\Siddhartha\\16.jpg\n",
      "No faces detected in image: dataset\\Siddhartha\\17.jpg\n",
      "No faces detected in image: dataset\\Siddhartha\\18.jpg\n",
      "No faces detected in image: dataset\\Siddhartha\\19.jpg\n",
      "No faces detected in image: dataset\\Siddhartha\\20.jpg\n",
      "No faces detected in image: dataset\\Siddhartha\\21.jpg\n",
      "No faces detected in image: dataset\\Siddhartha\\26.jpg\n",
      "No faces detected in image: dataset\\Siddhartha\\27.jpg\n",
      "No faces detected in image: dataset\\Siddhartha\\30.jpg\n",
      "No faces detected in image: dataset\\Siddhartha\\31.jpg\n",
      "No faces detected in image: dataset\\Siddhartha\\32.jpg\n",
      "No faces detected in image: dataset\\Siddhartha\\33.jpg\n",
      "No faces detected in image: dataset\\Siddhartha\\34.jpg\n",
      "No faces detected in image: dataset\\Siddhartha\\35.jpg\n",
      "No faces detected in image: dataset\\Siddhartha\\36.jpg\n",
      "No faces detected in image: dataset\\Siddhartha\\37.jpg\n",
      "No faces detected in image: dataset\\Siddhartha\\38.jpg\n",
      "No faces detected in image: dataset\\Siddhartha\\39.jpg\n",
      "No faces detected in image: dataset\\Siddhartha\\4.jpg\n",
      "No faces detected in image: dataset\\Siddhartha\\40.jpg\n",
      "No faces detected in image: dataset\\Siddhartha\\41.jpg\n",
      "No faces detected in image: dataset\\Siddhartha\\42.jpg\n",
      "No faces detected in image: dataset\\Siddhartha\\43.jpg\n",
      "No faces detected in image: dataset\\Siddhartha\\44.jpg\n",
      "No faces detected in image: dataset\\Siddhartha\\45.jpg\n",
      "No faces detected in image: dataset\\Siddhartha\\46.jpg\n",
      "No faces detected in image: dataset\\Siddhartha\\47.jpg\n",
      "No faces detected in image: dataset\\Siddhartha\\5.jpg\n",
      "No faces detected in image: dataset\\Siddhartha\\50.jpg\n",
      "No faces detected in image: dataset\\Siddhartha\\51.jpg\n",
      "No faces detected in image: dataset\\Siddhartha\\52.jpg\n",
      "No faces detected in image: dataset\\Siddhartha\\53.jpg\n",
      "No faces detected in image: dataset\\Siddhartha\\54.jpg\n",
      "No faces detected in image: dataset\\Siddhartha\\55.jpg\n",
      "No faces detected in image: dataset\\Siddhartha\\56.jpg\n",
      "No faces detected in image: dataset\\Siddhartha\\57.jpg\n",
      "No faces detected in image: dataset\\Siddhartha\\58.jpg\n",
      "No faces detected in image: dataset\\Siddhartha\\59.jpg\n",
      "No faces detected in image: dataset\\Siddhartha\\6.jpg\n",
      "No faces detected in image: dataset\\Siddhartha\\60.jpg\n",
      "No faces detected in image: dataset\\Siddhartha\\61.jpg\n",
      "No faces detected in image: dataset\\Siddhartha\\62.jpg\n",
      "No faces detected in image: dataset\\Siddhartha\\63.jpg\n",
      "No faces detected in image: dataset\\Siddhartha\\64.jpg\n",
      "No faces detected in image: dataset\\Siddhartha\\65.jpg\n",
      "No faces detected in image: dataset\\Siddhartha\\66.jpg\n",
      "No faces detected in image: dataset\\Siddhartha\\67.jpg\n",
      "No faces detected in image: dataset\\Siddhartha\\68.jpg\n",
      "No faces detected in image: dataset\\Siddhartha\\69.jpg\n",
      "No faces detected in image: dataset\\Siddhartha\\7.jpg\n",
      "No faces detected in image: dataset\\Siddhartha\\70.jpg\n",
      "No faces detected in image: dataset\\Siddhartha\\71.jpg\n",
      "No faces detected in image: dataset\\Siddhartha\\72.jpg\n",
      "No faces detected in image: dataset\\Siddhartha\\73.jpg\n",
      "No faces detected in image: dataset\\Siddhartha\\74.jpg\n",
      "No faces detected in image: dataset\\Siddhartha\\75.jpg\n",
      "No faces detected in image: dataset\\Siddhartha\\76.jpg\n",
      "No faces detected in image: dataset\\Siddhartha\\77.jpg\n",
      "No faces detected in image: dataset\\Siddhartha\\78.jpg\n",
      "No faces detected in image: dataset\\Siddhartha\\79.jpg\n",
      "No faces detected in image: dataset\\Siddhartha\\80.jpg\n",
      "No faces detected in image: dataset\\Siddhartha\\81.jpg\n",
      "No faces detected in image: dataset\\Siddhartha\\82.jpg\n",
      "No faces detected in image: dataset\\Siddhartha\\83.jpg\n",
      "No faces detected in image: dataset\\Siddhartha\\84.jpg\n",
      "No faces detected in image: dataset\\Siddhartha\\85.jpg\n",
      "No faces detected in image: dataset\\Siddhartha\\86.jpg\n",
      "No faces detected in image: dataset\\Siddhartha\\87.jpg\n",
      "No faces detected in image: dataset\\Siddhartha\\88.jpg\n",
      "No faces detected in image: dataset\\Siddhartha\\89.jpg\n",
      "No faces detected in image: dataset\\Siddhartha\\90.jpg\n",
      "No faces detected in image: dataset\\Siddhartha\\91.jpg\n",
      "No faces detected in image: dataset\\Siddhartha\\92.jpg\n",
      "No faces detected in image: dataset\\Siddhartha\\93.jpg\n",
      "No faces detected in image: dataset\\Siddhartha\\94.jpg\n",
      "No faces detected in image: dataset\\Siddhartha\\95.jpg\n",
      "No faces detected in image: dataset\\Siddhartha\\96.jpg\n",
      "No faces detected in image: dataset\\Siddhartha\\97.jpg\n",
      "No faces detected in image: dataset\\Siddhartha\\98.jpg\n",
      "No faces detected in image: dataset\\Siddhartha\\99.jpg\n",
      "Number of face samples: 12\n",
      "IDs: [2, 22, 23, 24, 25, 28, 29, 3, 48, 49, 8, 9]\n",
      "Model for Siddhartha saved.\n",
      "Model training completed.\n"
     ]
    }
   ],
   "source": [
    "import cv2\n",
    "import numpy as np\n",
    "import os\n",
    "\n",
    "# Function to get face images and labels for training\n",
    "def get_images_and_labels(dataset_path):\n",
    "    face_cascade = cv2.CascadeClassifier(cv2.data.haarcascades + 'haarcascade_frontalface_default.xml')\n",
    "    face_samples = []\n",
    "    ids = []\n",
    "\n",
    "    # Loop over each person's folder in the dataset\n",
    "    for person_name in os.listdir(dataset_path):\n",
    "        person_path = os.path.join(dataset_path, person_name)\n",
    "        if os.path.isdir(person_path):\n",
    "            for image_file in os.listdir(person_path):\n",
    "                if image_file.endswith('.jpg'):\n",
    "                    image_path = os.path.join(person_path, image_file)\n",
    "                    img = cv2.imread(image_path, cv2.IMREAD_GRAYSCALE)\n",
    "                    faces = face_cascade.detectMultiScale(img, scaleFactor=1.3, minNeighbors=5)\n",
    "\n",
    "                    for (x, y, w, h) in faces:\n",
    "                        face_samples.append(img[y:y+h, x:x+w])\n",
    "                        ids.append(int(os.path.split(image_file)[-1].split('.')[0]))\n",
    "\n",
    "    return face_samples, ids\n",
    "\n",
    "# Train the face recognition model on captured images\n",
    "def train_model():\n",
    "    dataset_path = 'dataset'\n",
    "    if not os.path.exists('trainer'):\n",
    "        os.makedirs('trainer')\n",
    "\n",
    "    recognizer = cv2.face.LBPHFaceRecognizer_create()\n",
    "    \n",
    "    faces, ids = get_images_and_labels(dataset_path)\n",
    "    \n",
    "    if len(faces) > 0 and len(ids) > 0:\n",
    "        recognizer.train(faces, np.array(ids))\n",
    "        recognizer.save('trainer/face_model.yml')\n",
    "        print(\"Model training completed.\")\n",
    "    else:\n",
    "        print(\"No valid images to train on.\")\n",
    "\n",
    "# Main function to train the model\n",
    "train_model()\n"
   ]
  },
  {
   "cell_type": "code",
   "execution_count": 36,
   "metadata": {},
   "outputs": [
    {
     "name": "stdout",
     "output_type": "stream",
     "text": [
      "Loaded names: {0: 'Siddhartha'}\n",
      "22\n",
      "Predicted ID: 22, Confidence: 46.967718266565235\n",
      "2\n",
      "Predicted ID: 2, Confidence: 45.56411594710832\n",
      "2\n",
      "Predicted ID: 2, Confidence: 45.56411594710832\n",
      "2\n",
      "Predicted ID: 2, Confidence: 44.46232325192829\n",
      "2\n",
      "Predicted ID: 2, Confidence: 44.46232325192829\n",
      "2\n",
      "Predicted ID: 2, Confidence: 44.714162721502106\n",
      "2\n",
      "Predicted ID: 2, Confidence: 44.714162721502106\n",
      "2\n",
      "Predicted ID: 2, Confidence: 45.175377951687715\n",
      "2\n",
      "Predicted ID: 2, Confidence: 45.175377951687715\n",
      "2\n",
      "Predicted ID: 2, Confidence: 42.5737482296393\n",
      "2\n",
      "Predicted ID: 2, Confidence: 42.5737482296393\n",
      "22\n",
      "Predicted ID: 22, Confidence: 44.84917020409013\n",
      "22\n",
      "Predicted ID: 22, Confidence: 44.84917020409013\n",
      "2\n",
      "Predicted ID: 2, Confidence: 45.19101316686221\n",
      "2\n",
      "Predicted ID: 2, Confidence: 45.19101316686221\n",
      "2\n",
      "Predicted ID: 2, Confidence: 46.10326784841669\n",
      "2\n",
      "Predicted ID: 2, Confidence: 46.10326784841669\n",
      "24\n",
      "Predicted ID: 24, Confidence: 47.08723994272097\n",
      "24\n",
      "Predicted ID: 24, Confidence: 47.08723994272097\n",
      "22\n",
      "Predicted ID: 22, Confidence: 45.92965421501427\n",
      "22\n",
      "Predicted ID: 22, Confidence: 45.92965421501427\n",
      "2\n",
      "Predicted ID: 2, Confidence: 46.729839769289924\n",
      "2\n",
      "Predicted ID: 2, Confidence: 46.729839769289924\n",
      "22\n",
      "Predicted ID: 22, Confidence: 45.57243025405842\n",
      "22\n",
      "Predicted ID: 22, Confidence: 45.57243025405842\n",
      "2\n",
      "Predicted ID: 2, Confidence: 50.74205112980153\n",
      "2\n",
      "Predicted ID: 2, Confidence: 50.74205112980153\n",
      "24\n",
      "Predicted ID: 24, Confidence: 43.56882197185384\n",
      "24\n",
      "Predicted ID: 24, Confidence: 43.56882197185384\n",
      "28\n",
      "Predicted ID: 28, Confidence: 44.159731649884655\n",
      "28\n",
      "Predicted ID: 28, Confidence: 44.159731649884655\n",
      "28\n",
      "Predicted ID: 28, Confidence: 45.318520744313986\n",
      "28\n",
      "Predicted ID: 28, Confidence: 45.318520744313986\n",
      "28\n",
      "Predicted ID: 28, Confidence: 43.520146594076365\n",
      "28\n",
      "Predicted ID: 28, Confidence: 43.520146594076365\n",
      "28\n",
      "Predicted ID: 28, Confidence: 45.40517728957736\n",
      "28\n",
      "Predicted ID: 28, Confidence: 45.40517728957736\n",
      "28\n",
      "Predicted ID: 28, Confidence: 43.62592940960047\n",
      "28\n",
      "Predicted ID: 28, Confidence: 43.62592940960047\n",
      "28\n",
      "Predicted ID: 28, Confidence: 45.38556214851625\n",
      "28\n",
      "Predicted ID: 28, Confidence: 45.38556214851625\n",
      "28\n",
      "Predicted ID: 28, Confidence: 46.50453188258195\n",
      "28\n",
      "Predicted ID: 28, Confidence: 46.50453188258195\n",
      "28\n",
      "Predicted ID: 28, Confidence: 44.9594328206365\n",
      "28\n",
      "Predicted ID: 28, Confidence: 44.9594328206365\n",
      "28\n",
      "Predicted ID: 28, Confidence: 47.900718781689484\n",
      "28\n",
      "Predicted ID: 28, Confidence: 47.900718781689484\n",
      "28\n",
      "Predicted ID: 28, Confidence: 46.19847812736894\n",
      "28\n",
      "Predicted ID: 28, Confidence: 46.19847812736894\n",
      "28\n",
      "Predicted ID: 28, Confidence: 45.81152527640106\n",
      "28\n",
      "Predicted ID: 28, Confidence: 45.81152527640106\n",
      "28\n",
      "Predicted ID: 28, Confidence: 47.523259846511095\n",
      "28\n",
      "Predicted ID: 28, Confidence: 47.523259846511095\n",
      "28\n",
      "Predicted ID: 28, Confidence: 49.983037800746686\n",
      "28\n",
      "Predicted ID: 28, Confidence: 49.983037800746686\n",
      "28\n",
      "Predicted ID: 28, Confidence: 50.86697791699483\n",
      "28\n",
      "Predicted ID: 28, Confidence: 50.86697791699483\n",
      "28\n",
      "Predicted ID: 28, Confidence: 56.991092826166955\n",
      "28\n",
      "Predicted ID: 28, Confidence: 56.991092826166955\n",
      "28\n",
      "Predicted ID: 28, Confidence: 61.01839642433065\n",
      "28\n",
      "Predicted ID: 28, Confidence: 61.01839642433065\n",
      "28\n",
      "Predicted ID: 28, Confidence: 64.29272357926803\n",
      "28\n",
      "Predicted ID: 28, Confidence: 64.29272357926803\n",
      "28\n",
      "Predicted ID: 28, Confidence: 64.2672653604404\n",
      "28\n",
      "Predicted ID: 28, Confidence: 64.2672653604404\n",
      "28\n",
      "Predicted ID: 28, Confidence: 67.10359408481645\n",
      "28\n",
      "Predicted ID: 28, Confidence: 67.10359408481645\n",
      "28\n",
      "Predicted ID: 28, Confidence: 69.20783270229991\n",
      "28\n",
      "Predicted ID: 28, Confidence: 69.20783270229991\n",
      "28\n",
      "Predicted ID: 28, Confidence: 68.78685028045484\n",
      "28\n",
      "Predicted ID: 28, Confidence: 68.78685028045484\n",
      "28\n",
      "Predicted ID: 28, Confidence: 67.5729653960962\n",
      "28\n",
      "Predicted ID: 28, Confidence: 67.5729653960962\n",
      "28\n",
      "Predicted ID: 28, Confidence: 65.67179675788934\n",
      "28\n",
      "Predicted ID: 28, Confidence: 65.67179675788934\n",
      "28\n",
      "Predicted ID: 28, Confidence: 61.807478356716196\n",
      "28\n",
      "Predicted ID: 28, Confidence: 61.807478356716196\n",
      "28\n",
      "Predicted ID: 28, Confidence: 57.95971685052515\n",
      "28\n",
      "Predicted ID: 28, Confidence: 57.95971685052515\n",
      "28\n",
      "Predicted ID: 28, Confidence: 54.04640040913811\n",
      "28\n",
      "Predicted ID: 28, Confidence: 54.04640040913811\n",
      "28\n",
      "Predicted ID: 28, Confidence: 49.88563654525032\n",
      "28\n",
      "Predicted ID: 28, Confidence: 49.88563654525032\n",
      "28\n",
      "Predicted ID: 28, Confidence: 50.155003727317904\n",
      "28\n",
      "Predicted ID: 28, Confidence: 50.155003727317904\n",
      "28\n",
      "Predicted ID: 28, Confidence: 47.50756784541843\n",
      "28\n",
      "Predicted ID: 28, Confidence: 47.50756784541843\n",
      "28\n",
      "Predicted ID: 28, Confidence: 44.54830567319824\n",
      "28\n",
      "Predicted ID: 28, Confidence: 44.54830567319824\n",
      "28\n",
      "Predicted ID: 28, Confidence: 50.67540579188936\n",
      "28\n",
      "Predicted ID: 28, Confidence: 50.67540579188936\n",
      "28\n",
      "Predicted ID: 28, Confidence: 50.609863522744945\n",
      "28\n",
      "Predicted ID: 28, Confidence: 50.609863522744945\n",
      "28\n",
      "Predicted ID: 28, Confidence: 47.21456854177505\n",
      "28\n",
      "Predicted ID: 28, Confidence: 47.21456854177505\n",
      "28\n",
      "Predicted ID: 28, Confidence: 45.50272211351291\n",
      "28\n",
      "Predicted ID: 28, Confidence: 45.50272211351291\n",
      "28\n",
      "Predicted ID: 28, Confidence: 48.260700892071256\n",
      "28\n",
      "Predicted ID: 28, Confidence: 48.260700892071256\n",
      "28\n",
      "Predicted ID: 28, Confidence: 47.20453213109522\n",
      "28\n",
      "Predicted ID: 28, Confidence: 47.20453213109522\n",
      "28\n",
      "Predicted ID: 28, Confidence: 48.254361837269236\n",
      "28\n",
      "Predicted ID: 28, Confidence: 48.254361837269236\n",
      "28\n",
      "Predicted ID: 28, Confidence: 43.95563734129238\n",
      "28\n",
      "Predicted ID: 28, Confidence: 43.95563734129238\n",
      "28\n",
      "Predicted ID: 28, Confidence: 48.695761293441045\n",
      "28\n",
      "Predicted ID: 28, Confidence: 48.695761293441045\n",
      "28\n",
      "Predicted ID: 28, Confidence: 44.751228081131536\n",
      "28\n",
      "Predicted ID: 28, Confidence: 44.751228081131536\n",
      "28\n",
      "Predicted ID: 28, Confidence: 49.293821239509924\n",
      "28\n",
      "Predicted ID: 28, Confidence: 49.293821239509924\n",
      "28\n",
      "Predicted ID: 28, Confidence: 49.516387376007735\n",
      "28\n",
      "Predicted ID: 28, Confidence: 49.516387376007735\n",
      "28\n",
      "Predicted ID: 28, Confidence: 45.017659636091345\n",
      "28\n",
      "Predicted ID: 28, Confidence: 45.017659636091345\n",
      "28\n",
      "Predicted ID: 28, Confidence: 46.087310419634754\n",
      "28\n",
      "Predicted ID: 28, Confidence: 46.087310419634754\n",
      "28\n",
      "Predicted ID: 28, Confidence: 47.38646144178207\n",
      "28\n",
      "Predicted ID: 28, Confidence: 47.38646144178207\n",
      "28\n",
      "Predicted ID: 28, Confidence: 46.28350495217841\n",
      "28\n",
      "Predicted ID: 28, Confidence: 46.28350495217841\n",
      "28\n",
      "Predicted ID: 28, Confidence: 46.548859052837074\n",
      "28\n",
      "Predicted ID: 28, Confidence: 46.548859052837074\n",
      "28\n",
      "Predicted ID: 28, Confidence: 50.43260022271382\n",
      "28\n",
      "Predicted ID: 28, Confidence: 50.43260022271382\n",
      "28\n",
      "Predicted ID: 28, Confidence: 47.754507353654375\n",
      "28\n",
      "Predicted ID: 28, Confidence: 47.754507353654375\n",
      "28\n",
      "Predicted ID: 28, Confidence: 48.263481645068964\n",
      "28\n",
      "Predicted ID: 28, Confidence: 48.263481645068964\n",
      "28\n",
      "Predicted ID: 28, Confidence: 49.76354313724617\n",
      "28\n",
      "Predicted ID: 28, Confidence: 49.76354313724617\n",
      "28\n",
      "Predicted ID: 28, Confidence: 48.21871821177332\n",
      "28\n",
      "Predicted ID: 28, Confidence: 48.21871821177332\n",
      "28\n",
      "Predicted ID: 28, Confidence: 48.716769060619804\n",
      "28\n",
      "Predicted ID: 28, Confidence: 48.716769060619804\n",
      "28\n",
      "Predicted ID: 28, Confidence: 49.31542201902448\n",
      "28\n",
      "Predicted ID: 28, Confidence: 49.31542201902448\n",
      "28\n",
      "Predicted ID: 28, Confidence: 46.91158182502682\n",
      "28\n",
      "Predicted ID: 28, Confidence: 46.91158182502682\n",
      "28\n",
      "Predicted ID: 28, Confidence: 49.50305489374506\n",
      "28\n",
      "Predicted ID: 28, Confidence: 49.50305489374506\n",
      "28\n",
      "Predicted ID: 28, Confidence: 47.29971848301379\n",
      "28\n",
      "Predicted ID: 28, Confidence: 47.29971848301379\n",
      "28\n",
      "Predicted ID: 28, Confidence: 44.33343554749954\n",
      "28\n",
      "Predicted ID: 28, Confidence: 44.33343554749954\n",
      "28\n",
      "Predicted ID: 28, Confidence: 47.10314344155163\n",
      "28\n",
      "Predicted ID: 28, Confidence: 47.10314344155163\n",
      "28\n",
      "Predicted ID: 28, Confidence: 48.524159897847106\n",
      "28\n",
      "Predicted ID: 28, Confidence: 48.524159897847106\n",
      "28\n",
      "Predicted ID: 28, Confidence: 50.150399378285755\n",
      "28\n",
      "Predicted ID: 28, Confidence: 50.150399378285755\n",
      "28\n",
      "Predicted ID: 28, Confidence: 44.909951275518154\n",
      "28\n",
      "Predicted ID: 28, Confidence: 44.909951275518154\n",
      "28\n",
      "Predicted ID: 28, Confidence: 47.44182356040158\n",
      "28\n",
      "Predicted ID: 28, Confidence: 47.44182356040158\n",
      "28\n",
      "Predicted ID: 28, Confidence: 46.65743196232346\n",
      "28\n",
      "Predicted ID: 28, Confidence: 46.65743196232346\n",
      "28\n",
      "Predicted ID: 28, Confidence: 49.11559281120632\n",
      "28\n",
      "Predicted ID: 28, Confidence: 49.11559281120632\n",
      "28\n",
      "Predicted ID: 28, Confidence: 49.288687370920314\n",
      "28\n",
      "Predicted ID: 28, Confidence: 49.288687370920314\n",
      "28\n",
      "Predicted ID: 28, Confidence: 52.43439111800326\n",
      "28\n",
      "Predicted ID: 28, Confidence: 52.43439111800326\n",
      "28\n",
      "Predicted ID: 28, Confidence: 49.164263479797576\n",
      "28\n",
      "Predicted ID: 28, Confidence: 49.164263479797576\n",
      "28\n",
      "Predicted ID: 28, Confidence: 49.52242282921099\n",
      "28\n",
      "Predicted ID: 28, Confidence: 49.52242282921099\n",
      "28\n",
      "Predicted ID: 28, Confidence: 46.93329981073503\n",
      "28\n",
      "Predicted ID: 28, Confidence: 46.93329981073503\n",
      "28\n",
      "Predicted ID: 28, Confidence: 46.93329981073503\n",
      "28\n",
      "Predicted ID: 28, Confidence: 50.34192635456869\n",
      "28\n",
      "Predicted ID: 28, Confidence: 49.63053884062714\n",
      "28\n",
      "Predicted ID: 28, Confidence: 49.63053884062714\n",
      "28\n",
      "Predicted ID: 28, Confidence: 54.20608191491583\n",
      "28\n",
      "Predicted ID: 28, Confidence: 54.20608191491583\n",
      "28\n",
      "Predicted ID: 28, Confidence: 53.02277109725812\n",
      "28\n",
      "Predicted ID: 28, Confidence: 53.02277109725812\n",
      "28\n",
      "Predicted ID: 28, Confidence: 55.124081988387324\n",
      "28\n",
      "Predicted ID: 28, Confidence: 55.124081988387324\n",
      "28\n",
      "Predicted ID: 28, Confidence: 49.579320718604826\n",
      "28\n",
      "Predicted ID: 28, Confidence: 49.579320718604826\n",
      "28\n",
      "Predicted ID: 28, Confidence: 49.579320718604826\n",
      "28\n",
      "Predicted ID: 28, Confidence: 53.34760362739327\n",
      "28\n",
      "Predicted ID: 28, Confidence: 54.99167023459193\n",
      "28\n",
      "Predicted ID: 28, Confidence: 54.99167023459193\n",
      "2\n",
      "Predicted ID: 2, Confidence: 49.402168684401865\n",
      "2\n",
      "Predicted ID: 2, Confidence: 49.402168684401865\n",
      "28\n",
      "Predicted ID: 28, Confidence: 49.577043973882326\n",
      "28\n",
      "Predicted ID: 28, Confidence: 49.577043973882326\n",
      "22\n",
      "Predicted ID: 22, Confidence: 48.90123092017021\n",
      "22\n",
      "Predicted ID: 22, Confidence: 48.90123092017021\n",
      "2\n",
      "Predicted ID: 2, Confidence: 48.88877458545332\n",
      "2\n",
      "Predicted ID: 2, Confidence: 48.88877458545332\n",
      "2\n",
      "Predicted ID: 2, Confidence: 48.88877458545332\n",
      "22\n",
      "Predicted ID: 22, Confidence: 52.06313655793276\n",
      "22\n",
      "Predicted ID: 22, Confidence: 51.39911262956557\n",
      "22\n",
      "Predicted ID: 22, Confidence: 51.39911262956557\n",
      "2\n",
      "Predicted ID: 2, Confidence: 52.0954420507672\n",
      "2\n",
      "Predicted ID: 2, Confidence: 52.0954420507672\n",
      "22\n",
      "Predicted ID: 22, Confidence: 52.683883252594754\n",
      "22\n",
      "Predicted ID: 22, Confidence: 52.683883252594754\n",
      "2\n",
      "Predicted ID: 2, Confidence: 51.47602039872603\n",
      "2\n",
      "Predicted ID: 2, Confidence: 51.47602039872603\n",
      "8\n",
      "Predicted ID: 8, Confidence: 53.09398540828266\n",
      "8\n",
      "Predicted ID: 8, Confidence: 53.09398540828266\n",
      "8\n",
      "Predicted ID: 8, Confidence: 53.09398540828266\n",
      "8\n",
      "Predicted ID: 8, Confidence: 52.34787557140785\n",
      "8\n",
      "Predicted ID: 8, Confidence: 51.91914037897063\n",
      "8\n",
      "Predicted ID: 8, Confidence: 51.91914037897063\n",
      "22\n",
      "Predicted ID: 22, Confidence: 52.435902657766384\n",
      "22\n",
      "Predicted ID: 22, Confidence: 52.435902657766384\n",
      "8\n",
      "Predicted ID: 8, Confidence: 53.07807367778417\n",
      "8\n",
      "Predicted ID: 8, Confidence: 53.07807367778417\n",
      "2\n",
      "Predicted ID: 2, Confidence: 53.90013719900773\n",
      "2\n",
      "Predicted ID: 2, Confidence: 53.90013719900773\n",
      "8\n",
      "Predicted ID: 8, Confidence: 53.62746188566552\n",
      "8\n",
      "Predicted ID: 8, Confidence: 53.62746188566552\n",
      "8\n",
      "Predicted ID: 8, Confidence: 53.62746188566552\n",
      "8\n",
      "Predicted ID: 8, Confidence: 50.3058689163263\n",
      "22\n",
      "Predicted ID: 22, Confidence: 52.76830553850898\n",
      "22\n",
      "Predicted ID: 22, Confidence: 52.76830553850898\n",
      "22\n",
      "Predicted ID: 22, Confidence: 51.51664980178075\n",
      "22\n",
      "Predicted ID: 22, Confidence: 51.51664980178075\n",
      "8\n",
      "Predicted ID: 8, Confidence: 50.205816800494354\n",
      "8\n",
      "Predicted ID: 8, Confidence: 50.205816800494354\n",
      "8\n",
      "Predicted ID: 8, Confidence: 50.02501814667901\n",
      "8\n",
      "Predicted ID: 8, Confidence: 50.02501814667901\n",
      "8\n",
      "Predicted ID: 8, Confidence: 50.02501814667901\n",
      "22\n",
      "Predicted ID: 22, Confidence: 52.15612653201574\n",
      "22\n",
      "Predicted ID: 22, Confidence: 52.15612653201574\n",
      "2\n",
      "Predicted ID: 2, Confidence: 50.451754510758825\n",
      "8\n",
      "Predicted ID: 8, Confidence: 53.1789129649138\n",
      "8\n",
      "Predicted ID: 8, Confidence: 53.1789129649138\n",
      "2\n",
      "Predicted ID: 2, Confidence: 49.653131868465465\n",
      "2\n",
      "Predicted ID: 2, Confidence: 49.653131868465465\n",
      "8\n",
      "Predicted ID: 8, Confidence: 50.64240907033432\n",
      "8\n",
      "Predicted ID: 8, Confidence: 50.64240907033432\n",
      "8\n",
      "Predicted ID: 8, Confidence: 53.1940826449039\n",
      "8\n",
      "Predicted ID: 8, Confidence: 53.1940826449039\n",
      "8\n",
      "Predicted ID: 8, Confidence: 53.1940826449039\n",
      "8\n",
      "Predicted ID: 8, Confidence: 52.14984804420822\n",
      "8\n",
      "Predicted ID: 8, Confidence: 52.14984804420822\n",
      "2\n",
      "Predicted ID: 2, Confidence: 51.70855158990575\n",
      "8\n",
      "Predicted ID: 8, Confidence: 54.10239608567974\n",
      "8\n",
      "Predicted ID: 8, Confidence: 54.10239608567974\n",
      "2\n",
      "Predicted ID: 2, Confidence: 54.927061118843184\n",
      "2\n",
      "Predicted ID: 2, Confidence: 54.927061118843184\n",
      "8\n",
      "Predicted ID: 8, Confidence: 55.005511974693455\n",
      "8\n",
      "Predicted ID: 8, Confidence: 55.005511974693455\n",
      "8\n",
      "Predicted ID: 8, Confidence: 57.409693585637946\n",
      "8\n",
      "Predicted ID: 8, Confidence: 57.409693585637946\n",
      "8\n",
      "Predicted ID: 8, Confidence: 57.409693585637946\n",
      "22\n",
      "Predicted ID: 22, Confidence: 59.04688490310168\n",
      "22\n",
      "Predicted ID: 22, Confidence: 59.04688490310168\n",
      "22\n",
      "Predicted ID: 22, Confidence: 56.88661609916684\n",
      "8\n",
      "Predicted ID: 8, Confidence: 55.902886381060185\n",
      "8\n",
      "Predicted ID: 8, Confidence: 55.902886381060185\n",
      "2\n",
      "Predicted ID: 2, Confidence: 56.81161720585598\n",
      "2\n",
      "Predicted ID: 2, Confidence: 56.81161720585598\n",
      "22\n",
      "Predicted ID: 22, Confidence: 59.022995812084766\n",
      "22\n",
      "Predicted ID: 22, Confidence: 59.022995812084766\n",
      "24\n",
      "Predicted ID: 24, Confidence: 56.89536435063843\n",
      "24\n",
      "Predicted ID: 24, Confidence: 56.89536435063843\n",
      "24\n",
      "Predicted ID: 24, Confidence: 56.89536435063843\n",
      "24\n",
      "Predicted ID: 24, Confidence: 56.69281175980815\n",
      "24\n",
      "Predicted ID: 24, Confidence: 56.69281175980815\n",
      "22\n",
      "Predicted ID: 22, Confidence: 55.914770105100715\n",
      "8\n",
      "Predicted ID: 8, Confidence: 55.846184400371705\n",
      "8\n",
      "Predicted ID: 8, Confidence: 55.846184400371705\n",
      "22\n",
      "Predicted ID: 22, Confidence: 57.10185783677148\n",
      "22\n",
      "Predicted ID: 22, Confidence: 57.10185783677148\n",
      "8\n",
      "Predicted ID: 8, Confidence: 59.264753758137125\n",
      "8\n",
      "Predicted ID: 8, Confidence: 59.264753758137125\n",
      "22\n",
      "Predicted ID: 22, Confidence: 54.71909656777627\n",
      "22\n",
      "Predicted ID: 22, Confidence: 54.71909656777627\n",
      "22\n",
      "Predicted ID: 22, Confidence: 54.71909656777627\n",
      "22\n",
      "Predicted ID: 22, Confidence: 54.805295629741764\n",
      "22\n",
      "Predicted ID: 22, Confidence: 54.805295629741764\n",
      "2\n",
      "Predicted ID: 2, Confidence: 55.03345474604415\n",
      "22\n",
      "Predicted ID: 22, Confidence: 54.34326782853138\n",
      "22\n",
      "Predicted ID: 22, Confidence: 54.34326782853138\n",
      "8\n",
      "Predicted ID: 8, Confidence: 53.185271785786554\n",
      "8\n",
      "Predicted ID: 8, Confidence: 53.185271785786554\n",
      "8\n",
      "Predicted ID: 8, Confidence: 54.32340883561822\n",
      "8\n",
      "Predicted ID: 8, Confidence: 54.32340883561822\n",
      "8\n",
      "Predicted ID: 8, Confidence: 54.32340883561822\n",
      "8\n",
      "Predicted ID: 8, Confidence: 50.45057637286304\n",
      "8\n",
      "Predicted ID: 8, Confidence: 50.45057637286304\n",
      "2\n",
      "Predicted ID: 2, Confidence: 49.27600388197456\n",
      "2\n",
      "Predicted ID: 2, Confidence: 49.27600388197456\n",
      "8\n",
      "Predicted ID: 8, Confidence: 54.252699606262176\n",
      "8\n",
      "Predicted ID: 8, Confidence: 52.747368894273784\n",
      "8\n",
      "Predicted ID: 8, Confidence: 52.747368894273784\n",
      "8\n",
      "Predicted ID: 8, Confidence: 53.73495572508919\n",
      "8\n",
      "Predicted ID: 8, Confidence: 53.73495572508919\n",
      "8\n",
      "Predicted ID: 8, Confidence: 54.267659540642356\n",
      "8\n",
      "Predicted ID: 8, Confidence: 54.267659540642356\n",
      "8\n",
      "Predicted ID: 8, Confidence: 54.267659540642356\n",
      "8\n",
      "Predicted ID: 8, Confidence: 52.35898925415455\n",
      "8\n",
      "Predicted ID: 8, Confidence: 52.35898925415455\n",
      "8\n",
      "Predicted ID: 8, Confidence: 53.76793170523407\n",
      "8\n",
      "Predicted ID: 8, Confidence: 53.76793170523407\n",
      "2\n",
      "Predicted ID: 2, Confidence: 53.359627132266525\n",
      "8\n",
      "Predicted ID: 8, Confidence: 53.07367842440217\n",
      "8\n",
      "Predicted ID: 8, Confidence: 53.07367842440217\n",
      "2\n",
      "Predicted ID: 2, Confidence: 51.800084311737415\n",
      "2\n",
      "Predicted ID: 2, Confidence: 51.800084311737415\n",
      "2\n",
      "Predicted ID: 2, Confidence: 52.290078607334\n",
      "2\n",
      "Predicted ID: 2, Confidence: 52.290078607334\n",
      "2\n",
      "Predicted ID: 2, Confidence: 52.290078607334\n",
      "2\n",
      "Predicted ID: 2, Confidence: 52.734160028822735\n",
      "2\n",
      "Predicted ID: 2, Confidence: 52.734160028822735\n",
      "8\n",
      "Predicted ID: 8, Confidence: 51.87703337195042\n",
      "8\n",
      "Predicted ID: 8, Confidence: 51.87703337195042\n",
      "8\n",
      "Predicted ID: 8, Confidence: 53.01921442249076\n",
      "2\n",
      "Predicted ID: 2, Confidence: 52.250492069483464\n",
      "2\n",
      "Predicted ID: 2, Confidence: 52.250492069483464\n",
      "8\n",
      "Predicted ID: 8, Confidence: 52.09041096000922\n",
      "8\n",
      "Predicted ID: 8, Confidence: 52.09041096000922\n",
      "2\n",
      "Predicted ID: 2, Confidence: 52.6223524294278\n",
      "2\n",
      "Predicted ID: 2, Confidence: 52.6223524294278\n",
      "2\n",
      "Predicted ID: 2, Confidence: 52.6223524294278\n",
      "2\n",
      "Predicted ID: 2, Confidence: 52.14770638092862\n",
      "2\n",
      "Predicted ID: 2, Confidence: 52.14770638092862\n",
      "22\n",
      "Predicted ID: 22, Confidence: 52.84778252229835\n",
      "22\n",
      "Predicted ID: 22, Confidence: 52.84778252229835\n",
      "2\n",
      "Predicted ID: 2, Confidence: 53.019074495262515\n",
      "8\n",
      "Predicted ID: 8, Confidence: 53.74536354462731\n",
      "8\n",
      "Predicted ID: 8, Confidence: 53.74536354462731\n",
      "8\n",
      "Predicted ID: 8, Confidence: 52.89893271902467\n",
      "8\n",
      "Predicted ID: 8, Confidence: 52.89893271902467\n",
      "2\n",
      "Predicted ID: 2, Confidence: 53.29582553231678\n",
      "2\n",
      "Predicted ID: 2, Confidence: 53.29582553231678\n",
      "2\n",
      "Predicted ID: 2, Confidence: 53.29582553231678\n",
      "8\n",
      "Predicted ID: 8, Confidence: 53.81048872972957\n",
      "8\n",
      "Predicted ID: 8, Confidence: 53.81048872972957\n",
      "2\n",
      "Predicted ID: 2, Confidence: 52.901573495825126\n",
      "2\n",
      "Predicted ID: 2, Confidence: 52.901573495825126\n",
      "8\n",
      "Predicted ID: 8, Confidence: 53.63757407011027\n",
      "8\n",
      "Predicted ID: 8, Confidence: 56.79795698803426\n",
      "8\n",
      "Predicted ID: 8, Confidence: 56.79795698803426\n",
      "8\n",
      "Predicted ID: 8, Confidence: 55.18220607799659\n",
      "8\n",
      "Predicted ID: 8, Confidence: 55.18220607799659\n",
      "8\n",
      "Predicted ID: 8, Confidence: 55.18220607799659\n",
      "22\n",
      "Predicted ID: 22, Confidence: 53.08633189621531\n",
      "22\n",
      "Predicted ID: 22, Confidence: 53.08633189621531\n",
      "22\n",
      "Predicted ID: 22, Confidence: 54.69644051714555\n",
      "22\n",
      "Predicted ID: 22, Confidence: 54.69644051714555\n",
      "22\n",
      "Predicted ID: 22, Confidence: 54.10699151242695\n",
      "22\n",
      "Predicted ID: 22, Confidence: 54.10699151242695\n",
      "8\n",
      "Predicted ID: 8, Confidence: 51.66951135181389\n",
      "22\n",
      "Predicted ID: 22, Confidence: 52.25362803479574\n",
      "22\n",
      "Predicted ID: 22, Confidence: 52.25362803479574\n",
      "8\n",
      "Predicted ID: 8, Confidence: 53.12898883098086\n",
      "8\n",
      "Predicted ID: 8, Confidence: 53.12898883098086\n",
      "8\n",
      "Predicted ID: 8, Confidence: 53.12898883098086\n",
      "8\n",
      "Predicted ID: 8, Confidence: 48.825987690977215\n",
      "8\n",
      "Predicted ID: 8, Confidence: 48.825987690977215\n",
      "2\n",
      "Predicted ID: 2, Confidence: 52.832977255155946\n",
      "2\n",
      "Predicted ID: 2, Confidence: 52.832977255155946\n",
      "8\n",
      "Predicted ID: 8, Confidence: 51.573125699816906\n",
      "8\n",
      "Predicted ID: 8, Confidence: 51.573125699816906\n",
      "8\n",
      "Predicted ID: 8, Confidence: 52.40380253450307\n",
      "2\n",
      "Predicted ID: 2, Confidence: 52.72187709599542\n",
      "2\n",
      "Predicted ID: 2, Confidence: 52.72187709599542\n",
      "2\n",
      "Predicted ID: 2, Confidence: 55.34560319782902\n",
      "2\n",
      "Predicted ID: 2, Confidence: 55.34560319782902\n",
      "2\n",
      "Predicted ID: 2, Confidence: 55.34560319782902\n",
      "8\n",
      "Predicted ID: 8, Confidence: 53.14520933717746\n",
      "8\n",
      "Predicted ID: 8, Confidence: 53.14520933717746\n",
      "2\n",
      "Predicted ID: 2, Confidence: 51.73982167800537\n",
      "2\n",
      "Predicted ID: 2, Confidence: 51.73982167800537\n",
      "8\n",
      "Predicted ID: 8, Confidence: 50.843694279103886\n",
      "8\n",
      "Predicted ID: 8, Confidence: 50.843694279103886\n",
      "22\n",
      "Predicted ID: 22, Confidence: 53.812056384530756\n",
      "22\n",
      "Predicted ID: 22, Confidence: 53.40445247072769\n",
      "22\n",
      "Predicted ID: 22, Confidence: 53.40445247072769\n",
      "22\n",
      "Predicted ID: 22, Confidence: 53.64887241060346\n",
      "22\n",
      "Predicted ID: 22, Confidence: 53.64887241060346\n",
      "22\n",
      "Predicted ID: 22, Confidence: 53.64887241060346\n",
      "8\n",
      "Predicted ID: 8, Confidence: 51.70370271413716\n",
      "8\n",
      "Predicted ID: 8, Confidence: 51.70370271413716\n",
      "8\n",
      "Predicted ID: 8, Confidence: 49.633959554328776\n",
      "8\n",
      "Predicted ID: 8, Confidence: 49.633959554328776\n",
      "8\n",
      "Predicted ID: 8, Confidence: 51.6764474423056\n",
      "8\n",
      "Predicted ID: 8, Confidence: 51.6764474423056\n",
      "22\n",
      "Predicted ID: 22, Confidence: 52.713014261163025\n",
      "8\n",
      "Predicted ID: 8, Confidence: 49.97533217850506\n",
      "8\n",
      "Predicted ID: 8, Confidence: 49.97533217850506\n",
      "8\n",
      "Predicted ID: 8, Confidence: 51.95195215201447\n",
      "8\n",
      "Predicted ID: 8, Confidence: 51.95195215201447\n",
      "8\n",
      "Predicted ID: 8, Confidence: 51.95195215201447\n",
      "8\n",
      "Predicted ID: 8, Confidence: 54.091781181818504\n",
      "8\n",
      "Predicted ID: 8, Confidence: 54.091781181818504\n",
      "2\n",
      "Predicted ID: 2, Confidence: 50.326197659393294\n",
      "2\n",
      "Predicted ID: 2, Confidence: 50.326197659393294\n",
      "22\n",
      "Predicted ID: 22, Confidence: 55.324010815621335\n",
      "22\n",
      "Predicted ID: 22, Confidence: 55.324010815621335\n",
      "8\n",
      "Predicted ID: 8, Confidence: 53.66908214329019\n",
      "22\n",
      "Predicted ID: 22, Confidence: 53.39668642826211\n",
      "22\n",
      "Predicted ID: 22, Confidence: 53.39668642826211\n",
      "22\n",
      "Predicted ID: 22, Confidence: 53.39668642826211\n",
      "2\n",
      "Predicted ID: 2, Confidence: 50.91762676894853\n",
      "2\n",
      "Predicted ID: 2, Confidence: 50.91762676894853\n",
      "22\n",
      "Predicted ID: 22, Confidence: 52.401864000226\n",
      "22\n",
      "Predicted ID: 22, Confidence: 52.401864000226\n",
      "22\n",
      "Predicted ID: 22, Confidence: 51.23271923773025\n",
      "22\n",
      "Predicted ID: 22, Confidence: 51.23271923773025\n",
      "22\n",
      "Predicted ID: 22, Confidence: 53.18356651086925\n",
      "22\n",
      "Predicted ID: 22, Confidence: 53.18356651086925\n",
      "8\n",
      "Predicted ID: 8, Confidence: 51.038290207334185\n",
      "22\n",
      "Predicted ID: 22, Confidence: 52.54112797637723\n",
      "22\n",
      "Predicted ID: 22, Confidence: 52.54112797637723\n",
      "22\n",
      "Predicted ID: 22, Confidence: 52.54112797637723\n",
      "8\n",
      "Predicted ID: 8, Confidence: 51.76304745441159\n",
      "8\n",
      "Predicted ID: 8, Confidence: 51.76304745441159\n",
      "22\n",
      "Predicted ID: 22, Confidence: 51.404607464391994\n",
      "22\n",
      "Predicted ID: 22, Confidence: 51.404607464391994\n",
      "22\n",
      "Predicted ID: 22, Confidence: 50.98639490953542\n",
      "22\n",
      "Predicted ID: 22, Confidence: 50.98639490953542\n",
      "22\n",
      "Predicted ID: 22, Confidence: 51.38418266277408\n",
      "22\n",
      "Predicted ID: 22, Confidence: 51.38418266277408\n",
      "22\n",
      "Predicted ID: 22, Confidence: 54.28397264472531\n",
      "8\n",
      "Predicted ID: 8, Confidence: 51.204768562839924\n",
      "8\n",
      "Predicted ID: 8, Confidence: 51.204768562839924\n",
      "8\n",
      "Predicted ID: 8, Confidence: 51.204768562839924\n",
      "8\n",
      "Predicted ID: 8, Confidence: 51.9366317510688\n",
      "8\n",
      "Predicted ID: 8, Confidence: 51.9366317510688\n",
      "8\n",
      "Predicted ID: 8, Confidence: 51.89329093955709\n",
      "8\n",
      "Predicted ID: 8, Confidence: 51.89329093955709\n",
      "8\n",
      "Predicted ID: 8, Confidence: 54.92462107088232\n",
      "8\n",
      "Predicted ID: 8, Confidence: 54.92462107088232\n",
      "2\n",
      "Predicted ID: 2, Confidence: 52.78866976740702\n",
      "2\n",
      "Predicted ID: 2, Confidence: 52.78866976740702\n",
      "22\n",
      "Predicted ID: 22, Confidence: 51.66393579051631\n",
      "22\n",
      "Predicted ID: 22, Confidence: 51.730459851497606\n",
      "22\n",
      "Predicted ID: 22, Confidence: 51.730459851497606\n",
      "22\n",
      "Predicted ID: 22, Confidence: 51.730459851497606\n",
      "22\n",
      "Predicted ID: 22, Confidence: 52.13751116460835\n",
      "22\n",
      "Predicted ID: 22, Confidence: 52.13751116460835\n",
      "8\n",
      "Predicted ID: 8, Confidence: 52.514510056145404\n",
      "8\n",
      "Predicted ID: 8, Confidence: 52.514510056145404\n",
      "22\n",
      "Predicted ID: 22, Confidence: 54.33325707162602\n",
      "22\n",
      "Predicted ID: 22, Confidence: 54.33325707162602\n",
      "2\n",
      "Predicted ID: 2, Confidence: 52.23508015503686\n",
      "2\n",
      "Predicted ID: 2, Confidence: 52.23508015503686\n",
      "2\n",
      "Predicted ID: 2, Confidence: 52.059777971475214\n",
      "22\n",
      "Predicted ID: 22, Confidence: 52.100674450020435\n",
      "22\n",
      "Predicted ID: 22, Confidence: 52.100674450020435\n",
      "22\n",
      "Predicted ID: 22, Confidence: 52.100674450020435\n",
      "22\n",
      "Predicted ID: 22, Confidence: 52.55951960310544\n",
      "22\n",
      "Predicted ID: 22, Confidence: 52.55951960310544\n",
      "22\n",
      "Predicted ID: 22, Confidence: 53.17388741290824\n",
      "22\n",
      "Predicted ID: 22, Confidence: 53.17388741290824\n",
      "22\n",
      "Predicted ID: 22, Confidence: 52.42766443485331\n",
      "22\n",
      "Predicted ID: 22, Confidence: 52.42766443485331\n",
      "22\n",
      "Predicted ID: 22, Confidence: 52.349555025415206\n",
      "22\n",
      "Predicted ID: 22, Confidence: 52.349555025415206\n",
      "22\n",
      "Predicted ID: 22, Confidence: 51.57475879439512\n",
      "22\n",
      "Predicted ID: 22, Confidence: 51.57475879439512\n",
      "22\n",
      "Predicted ID: 22, Confidence: 52.46567201596182\n",
      "22\n",
      "Predicted ID: 22, Confidence: 52.46567201596182\n",
      "8\n",
      "Predicted ID: 8, Confidence: 52.38611907736757\n",
      "8\n",
      "Predicted ID: 8, Confidence: 52.38611907736757\n",
      "22\n",
      "Predicted ID: 22, Confidence: 54.15027158385102\n",
      "22\n",
      "Predicted ID: 22, Confidence: 54.15027158385102\n",
      "22\n",
      "Predicted ID: 22, Confidence: 52.62167403987465\n",
      "22\n",
      "Predicted ID: 22, Confidence: 52.62167403987465\n",
      "22\n",
      "Predicted ID: 22, Confidence: 51.113372958745984\n",
      "22\n",
      "Predicted ID: 22, Confidence: 51.113372958745984\n",
      "22\n",
      "Predicted ID: 22, Confidence: 52.413686928930275\n",
      "22\n",
      "Predicted ID: 22, Confidence: 52.413686928930275\n",
      "8\n",
      "Predicted ID: 8, Confidence: 51.785816445583265\n",
      "8\n",
      "Predicted ID: 8, Confidence: 51.785816445583265\n",
      "22\n",
      "Predicted ID: 22, Confidence: 50.350049064620116\n",
      "22\n",
      "Predicted ID: 22, Confidence: 50.350049064620116\n",
      "22\n",
      "Predicted ID: 22, Confidence: 52.08791599034728\n",
      "22\n",
      "Predicted ID: 22, Confidence: 52.08791599034728\n",
      "22\n",
      "Predicted ID: 22, Confidence: 52.895448923595076\n",
      "22\n",
      "Predicted ID: 22, Confidence: 52.895448923595076\n",
      "22\n",
      "Predicted ID: 22, Confidence: 50.62596070930052\n",
      "22\n",
      "Predicted ID: 22, Confidence: 50.62596070930052\n",
      "2\n",
      "Predicted ID: 2, Confidence: 49.928652229017985\n",
      "2\n",
      "Predicted ID: 2, Confidence: 49.928652229017985\n",
      "2\n",
      "Predicted ID: 2, Confidence: 52.63136190192324\n",
      "2\n",
      "Predicted ID: 2, Confidence: 52.63136190192324\n",
      "8\n",
      "Predicted ID: 8, Confidence: 52.563881650607804\n",
      "8\n",
      "Predicted ID: 8, Confidence: 52.563881650607804\n",
      "22\n",
      "Predicted ID: 22, Confidence: 51.58792243351189\n",
      "22\n",
      "Predicted ID: 22, Confidence: 51.58792243351189\n",
      "22\n",
      "Predicted ID: 22, Confidence: 51.81982453990461\n",
      "22\n",
      "Predicted ID: 22, Confidence: 51.81982453990461\n",
      "24\n",
      "Predicted ID: 24, Confidence: 54.399229526051386\n",
      "24\n",
      "Predicted ID: 24, Confidence: 54.399229526051386\n",
      "22\n",
      "Predicted ID: 22, Confidence: 52.674660153394456\n",
      "22\n",
      "Predicted ID: 22, Confidence: 52.674660153394456\n",
      "8\n",
      "Predicted ID: 8, Confidence: 51.79221246677703\n",
      "8\n",
      "Predicted ID: 8, Confidence: 51.79221246677703\n",
      "22\n",
      "Predicted ID: 22, Confidence: 51.14010132458109\n",
      "22\n",
      "Predicted ID: 22, Confidence: 51.14010132458109\n",
      "8\n",
      "Predicted ID: 8, Confidence: 52.22310752100237\n",
      "8\n",
      "Predicted ID: 8, Confidence: 52.22310752100237\n",
      "8\n",
      "Predicted ID: 8, Confidence: 51.694761831407035\n",
      "8\n",
      "Predicted ID: 8, Confidence: 51.694761831407035\n",
      "22\n",
      "Predicted ID: 22, Confidence: 51.1620866152164\n",
      "22\n",
      "Predicted ID: 22, Confidence: 51.1620866152164\n",
      "8\n",
      "Predicted ID: 8, Confidence: 50.18809746127995\n",
      "8\n",
      "Predicted ID: 8, Confidence: 50.18809746127995\n",
      "2\n",
      "Predicted ID: 2, Confidence: 49.594080128248514\n",
      "2\n",
      "Predicted ID: 2, Confidence: 49.594080128248514\n",
      "2\n",
      "Predicted ID: 2, Confidence: 50.63124591411164\n",
      "2\n",
      "Predicted ID: 2, Confidence: 50.63124591411164\n",
      "22\n",
      "Predicted ID: 22, Confidence: 52.00008300528377\n",
      "22\n",
      "Predicted ID: 22, Confidence: 52.00008300528377\n",
      "2\n",
      "Predicted ID: 2, Confidence: 50.9557325686517\n",
      "2\n",
      "Predicted ID: 2, Confidence: 50.9557325686517\n",
      "22\n",
      "Predicted ID: 22, Confidence: 53.69481205129005\n",
      "22\n",
      "Predicted ID: 22, Confidence: 53.69481205129005\n",
      "2\n",
      "Predicted ID: 2, Confidence: 52.227626691611746\n",
      "2\n",
      "Predicted ID: 2, Confidence: 52.227626691611746\n",
      "22\n",
      "Predicted ID: 22, Confidence: 52.796503734208926\n",
      "22\n",
      "Predicted ID: 22, Confidence: 52.796503734208926\n",
      "22\n",
      "Predicted ID: 22, Confidence: 51.03631560824924\n",
      "22\n",
      "Predicted ID: 22, Confidence: 51.03631560824924\n",
      "8\n",
      "Predicted ID: 8, Confidence: 50.46420042894541\n",
      "8\n",
      "Predicted ID: 8, Confidence: 50.46420042894541\n",
      "22\n",
      "Predicted ID: 22, Confidence: 54.48302786883798\n",
      "22\n",
      "Predicted ID: 22, Confidence: 54.48302786883798\n",
      "28\n",
      "Predicted ID: 28, Confidence: 53.45418087856982\n",
      "28\n",
      "Predicted ID: 28, Confidence: 53.45418087856982\n",
      "2\n",
      "Predicted ID: 2, Confidence: 48.44179001125616\n",
      "2\n",
      "Predicted ID: 2, Confidence: 48.44179001125616\n",
      "2\n",
      "Predicted ID: 2, Confidence: 49.488380056256325\n",
      "2\n",
      "Predicted ID: 2, Confidence: 49.488380056256325\n",
      "22\n",
      "Predicted ID: 22, Confidence: 52.06083098370017\n",
      "22\n",
      "Predicted ID: 22, Confidence: 52.06083098370017\n",
      "22\n",
      "Predicted ID: 22, Confidence: 51.05219727571227\n",
      "22\n",
      "Predicted ID: 22, Confidence: 51.05219727571227\n",
      "22\n",
      "Predicted ID: 22, Confidence: 50.238003492592036\n",
      "22\n",
      "Predicted ID: 22, Confidence: 50.238003492592036\n",
      "22\n",
      "Predicted ID: 22, Confidence: 52.90920962508986\n",
      "22\n",
      "Predicted ID: 22, Confidence: 52.90920962508986\n",
      "22\n",
      "Predicted ID: 22, Confidence: 57.81442267500662\n",
      "22\n",
      "Predicted ID: 22, Confidence: 57.81442267500662\n",
      "22\n",
      "Predicted ID: 22, Confidence: 54.74197280648006\n",
      "22\n",
      "Predicted ID: 22, Confidence: 54.74197280648006\n",
      "22\n",
      "Predicted ID: 22, Confidence: 55.15524794138037\n",
      "22\n",
      "Predicted ID: 22, Confidence: 55.15524794138037\n",
      "2\n",
      "Predicted ID: 2, Confidence: 54.06721361735773\n",
      "2\n",
      "Predicted ID: 2, Confidence: 54.06721361735773\n",
      "22\n",
      "Predicted ID: 22, Confidence: 54.80982397852913\n",
      "22\n",
      "Predicted ID: 22, Confidence: 54.80982397852913\n",
      "22\n",
      "Predicted ID: 22, Confidence: 53.44010496521504\n",
      "22\n",
      "Predicted ID: 22, Confidence: 53.44010496521504\n",
      "22\n",
      "Predicted ID: 22, Confidence: 55.11578005367141\n",
      "22\n",
      "Predicted ID: 22, Confidence: 55.11578005367141\n",
      "22\n",
      "Predicted ID: 22, Confidence: 53.972984187879625\n",
      "22\n",
      "Predicted ID: 22, Confidence: 53.972984187879625\n",
      "22\n",
      "Predicted ID: 22, Confidence: 53.69693787110058\n",
      "22\n",
      "Predicted ID: 22, Confidence: 53.69693787110058\n",
      "2\n",
      "Predicted ID: 2, Confidence: 51.655388992468154\n",
      "2\n",
      "Predicted ID: 2, Confidence: 51.655388992468154\n",
      "22\n",
      "Predicted ID: 22, Confidence: 49.747556887274094\n",
      "22\n",
      "Predicted ID: 22, Confidence: 49.747556887274094\n",
      "22\n",
      "Predicted ID: 22, Confidence: 52.92133606394187\n",
      "22\n",
      "Predicted ID: 22, Confidence: 52.92133606394187\n",
      "22\n",
      "Predicted ID: 22, Confidence: 51.14655828760056\n",
      "22\n",
      "Predicted ID: 22, Confidence: 51.14655828760056\n",
      "2\n",
      "Predicted ID: 2, Confidence: 48.15166320254762\n",
      "2\n",
      "Predicted ID: 2, Confidence: 48.15166320254762\n",
      "22\n",
      "Predicted ID: 22, Confidence: 52.40771886518315\n",
      "22\n",
      "Predicted ID: 22, Confidence: 52.40771886518315\n",
      "2\n",
      "Predicted ID: 2, Confidence: 47.92348191206498\n",
      "2\n",
      "Predicted ID: 2, Confidence: 47.92348191206498\n",
      "22\n",
      "Predicted ID: 22, Confidence: 50.12575359402271\n",
      "22\n",
      "Predicted ID: 22, Confidence: 50.12575359402271\n",
      "22\n",
      "Predicted ID: 22, Confidence: 50.11079541462494\n",
      "22\n",
      "Predicted ID: 22, Confidence: 50.11079541462494\n",
      "2\n",
      "Predicted ID: 2, Confidence: 48.53302787906662\n",
      "2\n",
      "Predicted ID: 2, Confidence: 48.53302787906662\n",
      "2\n",
      "Predicted ID: 2, Confidence: 49.02790112423424\n",
      "2\n",
      "Predicted ID: 2, Confidence: 49.02790112423424\n",
      "24\n",
      "Predicted ID: 24, Confidence: 50.31423205653393\n",
      "24\n",
      "Predicted ID: 24, Confidence: 50.31423205653393\n",
      "2\n",
      "Predicted ID: 2, Confidence: 49.765760954409835\n",
      "2\n",
      "Predicted ID: 2, Confidence: 49.765760954409835\n",
      "2\n",
      "Predicted ID: 2, Confidence: 50.0443399831202\n",
      "2\n",
      "Predicted ID: 2, Confidence: 50.0443399831202\n",
      "22\n",
      "Predicted ID: 22, Confidence: 50.50901180179593\n",
      "22\n",
      "Predicted ID: 22, Confidence: 50.50901180179593\n",
      "2\n",
      "Predicted ID: 2, Confidence: 50.997424066700816\n",
      "2\n",
      "Predicted ID: 2, Confidence: 50.997424066700816\n",
      "2\n",
      "Predicted ID: 2, Confidence: 51.06599679408222\n",
      "2\n",
      "Predicted ID: 2, Confidence: 51.06599679408222\n",
      "2\n",
      "Predicted ID: 2, Confidence: 51.602480224680846\n",
      "2\n",
      "Predicted ID: 2, Confidence: 51.602480224680846\n",
      "22\n",
      "Predicted ID: 22, Confidence: 50.107861725487375\n",
      "22\n",
      "Predicted ID: 22, Confidence: 50.107861725487375\n",
      "2\n",
      "Predicted ID: 2, Confidence: 49.96010718627054\n",
      "2\n",
      "Predicted ID: 2, Confidence: 49.96010718627054\n",
      "22\n",
      "Predicted ID: 22, Confidence: 49.65926740318621\n",
      "22\n",
      "Predicted ID: 22, Confidence: 49.65926740318621\n",
      "2\n",
      "Predicted ID: 2, Confidence: 51.62589425941288\n",
      "2\n",
      "Predicted ID: 2, Confidence: 51.62589425941288\n",
      "2\n",
      "Predicted ID: 2, Confidence: 51.382823890888226\n",
      "2\n",
      "Predicted ID: 2, Confidence: 51.382823890888226\n",
      "2\n",
      "Predicted ID: 2, Confidence: 50.33165657090633\n",
      "2\n",
      "Predicted ID: 2, Confidence: 50.33165657090633\n",
      "2\n",
      "Predicted ID: 2, Confidence: 50.42379584475344\n",
      "2\n",
      "Predicted ID: 2, Confidence: 50.42379584475344\n",
      "2\n",
      "Predicted ID: 2, Confidence: 50.96702568435612\n",
      "2\n",
      "Predicted ID: 2, Confidence: 50.96702568435612\n",
      "2\n",
      "Predicted ID: 2, Confidence: 49.718445348397\n",
      "2\n",
      "Predicted ID: 2, Confidence: 49.718445348397\n",
      "2\n",
      "Predicted ID: 2, Confidence: 51.38585638011491\n",
      "2\n",
      "Predicted ID: 2, Confidence: 51.38585638011491\n",
      "2\n",
      "Predicted ID: 2, Confidence: 51.515816628927766\n",
      "2\n",
      "Predicted ID: 2, Confidence: 51.515816628927766\n",
      "2\n",
      "Predicted ID: 2, Confidence: 49.04953912322294\n",
      "2\n",
      "Predicted ID: 2, Confidence: 49.04953912322294\n",
      "2\n",
      "Predicted ID: 2, Confidence: 50.32900145195777\n",
      "2\n",
      "Predicted ID: 2, Confidence: 50.32900145195777\n",
      "2\n",
      "Predicted ID: 2, Confidence: 51.35063419484433\n",
      "2\n",
      "Predicted ID: 2, Confidence: 51.35063419484433\n",
      "2\n",
      "Predicted ID: 2, Confidence: 50.66677943698249\n",
      "2\n",
      "Predicted ID: 2, Confidence: 50.66677943698249\n",
      "2\n",
      "Predicted ID: 2, Confidence: 51.80330220933915\n",
      "2\n",
      "Predicted ID: 2, Confidence: 51.80330220933915\n",
      "2\n",
      "Predicted ID: 2, Confidence: 51.34315369200937\n",
      "2\n",
      "Predicted ID: 2, Confidence: 51.34315369200937\n",
      "2\n",
      "Predicted ID: 2, Confidence: 52.443630619247266\n",
      "2\n",
      "Predicted ID: 2, Confidence: 52.443630619247266\n",
      "2\n",
      "Predicted ID: 2, Confidence: 50.903264153350335\n",
      "2\n",
      "Predicted ID: 2, Confidence: 50.903264153350335\n",
      "2\n",
      "Predicted ID: 2, Confidence: 54.26257854214962\n",
      "2\n",
      "Predicted ID: 2, Confidence: 54.26257854214962\n",
      "2\n",
      "Predicted ID: 2, Confidence: 53.20581880539368\n",
      "2\n",
      "Predicted ID: 2, Confidence: 53.20581880539368\n",
      "2\n",
      "Predicted ID: 2, Confidence: 53.34262868716413\n",
      "2\n",
      "Predicted ID: 2, Confidence: 53.34262868716413\n",
      "2\n",
      "Predicted ID: 2, Confidence: 54.39885918954173\n",
      "2\n",
      "Predicted ID: 2, Confidence: 54.39885918954173\n",
      "2\n",
      "Predicted ID: 2, Confidence: 53.39810637314407\n",
      "2\n",
      "Predicted ID: 2, Confidence: 53.39810637314407\n",
      "2\n",
      "Predicted ID: 2, Confidence: 52.70954894873638\n",
      "2\n",
      "Predicted ID: 2, Confidence: 52.70954894873638\n",
      "8\n",
      "Predicted ID: 8, Confidence: 53.687059518903794\n",
      "8\n",
      "Predicted ID: 8, Confidence: 53.687059518903794\n",
      "2\n",
      "Predicted ID: 2, Confidence: 53.19042103673846\n",
      "2\n",
      "Predicted ID: 2, Confidence: 53.19042103673846\n",
      "8\n",
      "Predicted ID: 8, Confidence: 52.589516425057184\n",
      "8\n",
      "Predicted ID: 8, Confidence: 52.589516425057184\n",
      "2\n",
      "Predicted ID: 2, Confidence: 52.956187830594146\n",
      "2\n",
      "Predicted ID: 2, Confidence: 52.956187830594146\n",
      "2\n",
      "Predicted ID: 2, Confidence: 51.706695589168376\n",
      "2\n",
      "Predicted ID: 2, Confidence: 51.706695589168376\n",
      "22\n",
      "Predicted ID: 22, Confidence: 52.88759669975681\n",
      "22\n",
      "Predicted ID: 22, Confidence: 52.88759669975681\n",
      "2\n",
      "Predicted ID: 2, Confidence: 52.512890054529144\n",
      "2\n",
      "Predicted ID: 2, Confidence: 52.512890054529144\n",
      "2\n",
      "Predicted ID: 2, Confidence: 53.69323792721649\n",
      "2\n",
      "Predicted ID: 2, Confidence: 53.69323792721649\n",
      "2\n",
      "Predicted ID: 2, Confidence: 52.46141999667849\n",
      "2\n",
      "Predicted ID: 2, Confidence: 52.46141999667849\n",
      "2\n",
      "Predicted ID: 2, Confidence: 53.21529539285155\n",
      "2\n",
      "Predicted ID: 2, Confidence: 53.21529539285155\n",
      "2\n",
      "Predicted ID: 2, Confidence: 51.49604751023319\n",
      "2\n",
      "Predicted ID: 2, Confidence: 51.49604751023319\n",
      "2\n",
      "Predicted ID: 2, Confidence: 52.630624697529456\n",
      "2\n",
      "Predicted ID: 2, Confidence: 52.630624697529456\n",
      "2\n",
      "Predicted ID: 2, Confidence: 53.73300281498637\n",
      "2\n",
      "Predicted ID: 2, Confidence: 53.73300281498637\n",
      "2\n",
      "Predicted ID: 2, Confidence: 51.93468108775838\n",
      "2\n",
      "Predicted ID: 2, Confidence: 51.93468108775838\n",
      "8\n",
      "Predicted ID: 8, Confidence: 51.729720401018895\n",
      "8\n",
      "Predicted ID: 8, Confidence: 51.729720401018895\n",
      "22\n",
      "Predicted ID: 22, Confidence: 52.46503672341299\n",
      "22\n",
      "Predicted ID: 22, Confidence: 52.46503672341299\n",
      "2\n",
      "Predicted ID: 2, Confidence: 51.0479654967349\n",
      "2\n",
      "Predicted ID: 2, Confidence: 51.0479654967349\n",
      "8\n",
      "Predicted ID: 8, Confidence: 51.31073232806635\n",
      "8\n",
      "Predicted ID: 8, Confidence: 51.31073232806635\n",
      "22\n",
      "Predicted ID: 22, Confidence: 51.5703727909619\n",
      "22\n",
      "Predicted ID: 22, Confidence: 51.5703727909619\n",
      "2\n",
      "Predicted ID: 2, Confidence: 50.99332103009056\n",
      "2\n",
      "Predicted ID: 2, Confidence: 50.99332103009056\n",
      "2\n",
      "Predicted ID: 2, Confidence: 49.82693852042021\n",
      "2\n",
      "Predicted ID: 2, Confidence: 49.82693852042021\n",
      "2\n",
      "Predicted ID: 2, Confidence: 50.423604645967615\n",
      "2\n",
      "Predicted ID: 2, Confidence: 50.423604645967615\n",
      "2\n",
      "Predicted ID: 2, Confidence: 53.66872182421372\n",
      "2\n",
      "Predicted ID: 2, Confidence: 53.66872182421372\n",
      "2\n",
      "Predicted ID: 2, Confidence: 52.19486694429917\n",
      "2\n",
      "Predicted ID: 2, Confidence: 52.19486694429917\n",
      "2\n",
      "Predicted ID: 2, Confidence: 51.72583232474762\n",
      "2\n",
      "Predicted ID: 2, Confidence: 51.72583232474762\n",
      "2\n",
      "Predicted ID: 2, Confidence: 48.58198960169853\n",
      "2\n",
      "Predicted ID: 2, Confidence: 48.58198960169853\n",
      "8\n",
      "Predicted ID: 8, Confidence: 53.37506769782666\n",
      "8\n",
      "Predicted ID: 8, Confidence: 50.58546256857553\n",
      "8\n",
      "Predicted ID: 8, Confidence: 50.58546256857553\n",
      "2\n",
      "Predicted ID: 2, Confidence: 48.82222787419227\n",
      "2\n",
      "Predicted ID: 2, Confidence: 48.82222787419227\n",
      "22\n",
      "Predicted ID: 22, Confidence: 51.72650327594068\n",
      "22\n",
      "Predicted ID: 22, Confidence: 51.72650327594068\n",
      "2\n",
      "Predicted ID: 2, Confidence: 50.018782877182474\n",
      "2\n",
      "Predicted ID: 2, Confidence: 50.018782877182474\n",
      "2\n",
      "Predicted ID: 2, Confidence: 50.58809409596816\n",
      "2\n",
      "Predicted ID: 2, Confidence: 50.58809409596816\n",
      "8\n",
      "Predicted ID: 8, Confidence: 53.99741576374134\n",
      "8\n",
      "Predicted ID: 8, Confidence: 53.99741576374134\n",
      "2\n",
      "Predicted ID: 2, Confidence: 51.54782140251582\n",
      "2\n",
      "Predicted ID: 2, Confidence: 51.54782140251582\n",
      "8\n",
      "Predicted ID: 8, Confidence: 49.767702149370216\n",
      "8\n",
      "Predicted ID: 8, Confidence: 49.767702149370216\n",
      "8\n",
      "Predicted ID: 8, Confidence: 49.20446428438235\n",
      "8\n",
      "Predicted ID: 8, Confidence: 49.20446428438235\n",
      "22\n",
      "Predicted ID: 22, Confidence: 48.25534033372375\n",
      "22\n",
      "Predicted ID: 22, Confidence: 48.25534033372375\n",
      "8\n",
      "Predicted ID: 8, Confidence: 49.22441521429711\n",
      "8\n",
      "Predicted ID: 8, Confidence: 49.22441521429711\n",
      "2\n",
      "Predicted ID: 2, Confidence: 48.151486142376626\n",
      "2\n",
      "Predicted ID: 2, Confidence: 48.151486142376626\n",
      "24\n",
      "Predicted ID: 24, Confidence: 53.72282703160648\n",
      "24\n",
      "Predicted ID: 24, Confidence: 53.72282703160648\n",
      "2\n",
      "Predicted ID: 2, Confidence: 53.737581415028494\n",
      "2\n",
      "Predicted ID: 2, Confidence: 53.737581415028494\n",
      "2\n",
      "Predicted ID: 2, Confidence: 50.553799260449765\n",
      "2\n",
      "Predicted ID: 2, Confidence: 50.553799260449765\n",
      "8\n",
      "Predicted ID: 8, Confidence: 52.68262335984305\n",
      "8\n",
      "Predicted ID: 8, Confidence: 52.68262335984305\n",
      "22\n",
      "Predicted ID: 22, Confidence: 48.10576724108049\n",
      "22\n",
      "Predicted ID: 22, Confidence: 48.10576724108049\n",
      "22\n",
      "Predicted ID: 22, Confidence: 52.187209338746726\n",
      "22\n",
      "Predicted ID: 22, Confidence: 52.187209338746726\n",
      "8\n",
      "Predicted ID: 8, Confidence: 51.15255718130749\n",
      "8\n",
      "Predicted ID: 8, Confidence: 51.15255718130749\n",
      "24\n",
      "Predicted ID: 24, Confidence: 53.073717786007464\n",
      "24\n",
      "Predicted ID: 24, Confidence: 53.073717786007464\n",
      "8\n",
      "Predicted ID: 8, Confidence: 49.175263374592845\n",
      "8\n",
      "Predicted ID: 8, Confidence: 49.175263374592845\n",
      "22\n",
      "Predicted ID: 22, Confidence: 52.544544738980335\n",
      "22\n",
      "Predicted ID: 22, Confidence: 52.544544738980335\n",
      "22\n",
      "Predicted ID: 22, Confidence: 53.275155182500065\n",
      "22\n",
      "Predicted ID: 22, Confidence: 53.275155182500065\n",
      "22\n",
      "Predicted ID: 22, Confidence: 52.65362327922366\n",
      "22\n",
      "Predicted ID: 22, Confidence: 52.65362327922366\n",
      "8\n",
      "Predicted ID: 8, Confidence: 52.5239264020304\n",
      "8\n",
      "Predicted ID: 8, Confidence: 52.5239264020304\n",
      "22\n",
      "Predicted ID: 22, Confidence: 52.59540023173792\n",
      "22\n",
      "Predicted ID: 22, Confidence: 52.59540023173792\n",
      "2\n",
      "Predicted ID: 2, Confidence: 52.62080347992419\n",
      "2\n",
      "Predicted ID: 2, Confidence: 52.62080347992419\n",
      "8\n",
      "Predicted ID: 8, Confidence: 52.28641211363914\n",
      "8\n",
      "Predicted ID: 8, Confidence: 52.28641211363914\n",
      "22\n",
      "Predicted ID: 22, Confidence: 52.442031765003996\n",
      "22\n",
      "Predicted ID: 22, Confidence: 52.442031765003996\n",
      "2\n",
      "Predicted ID: 2, Confidence: 50.21529410536785\n",
      "2\n",
      "Predicted ID: 2, Confidence: 50.21529410536785\n",
      "8\n",
      "Predicted ID: 8, Confidence: 51.74997935319523\n",
      "8\n",
      "Predicted ID: 8, Confidence: 51.74997935319523\n",
      "2\n",
      "Predicted ID: 2, Confidence: 53.219298181016825\n",
      "2\n",
      "Predicted ID: 2, Confidence: 53.219298181016825\n",
      "22\n",
      "Predicted ID: 22, Confidence: 52.73120935306168\n",
      "22\n",
      "Predicted ID: 22, Confidence: 52.73120935306168\n",
      "22\n",
      "Predicted ID: 22, Confidence: 51.97031403804988\n",
      "22\n",
      "Predicted ID: 22, Confidence: 51.97031403804988\n",
      "2\n",
      "Predicted ID: 2, Confidence: 52.86181659387567\n",
      "2\n",
      "Predicted ID: 2, Confidence: 52.86181659387567\n",
      "22\n",
      "Predicted ID: 22, Confidence: 50.24543480894163\n",
      "22\n",
      "Predicted ID: 22, Confidence: 50.24543480894163\n",
      "8\n",
      "Predicted ID: 8, Confidence: 51.832742614245284\n",
      "8\n",
      "Predicted ID: 8, Confidence: 51.832742614245284\n",
      "8\n",
      "Predicted ID: 8, Confidence: 53.419534541375114\n",
      "8\n",
      "Predicted ID: 8, Confidence: 53.419534541375114\n",
      "2\n",
      "Predicted ID: 2, Confidence: 47.55554551475838\n",
      "2\n",
      "Predicted ID: 2, Confidence: 47.55554551475838\n",
      "2\n",
      "Predicted ID: 2, Confidence: 50.80832610024521\n",
      "2\n",
      "Predicted ID: 2, Confidence: 50.80832610024521\n",
      "2\n",
      "Predicted ID: 2, Confidence: 49.6739472067655\n",
      "2\n",
      "Predicted ID: 2, Confidence: 49.6739472067655\n",
      "2\n",
      "Predicted ID: 2, Confidence: 52.694382746247165\n",
      "2\n",
      "Predicted ID: 2, Confidence: 52.694382746247165\n",
      "8\n",
      "Predicted ID: 8, Confidence: 49.71793137980564\n",
      "8\n",
      "Predicted ID: 8, Confidence: 49.71793137980564\n",
      "8\n",
      "Predicted ID: 8, Confidence: 50.9620752303635\n",
      "8\n",
      "Predicted ID: 8, Confidence: 50.9620752303635\n",
      "22\n",
      "Predicted ID: 22, Confidence: 53.22155526613416\n",
      "22\n",
      "Predicted ID: 22, Confidence: 53.22155526613416\n",
      "22\n",
      "Predicted ID: 22, Confidence: 50.58526520953111\n",
      "22\n",
      "Predicted ID: 22, Confidence: 50.58526520953111\n",
      "8\n",
      "Predicted ID: 8, Confidence: 52.33566641900822\n",
      "8\n",
      "Predicted ID: 8, Confidence: 52.33566641900822\n",
      "2\n",
      "Predicted ID: 2, Confidence: 50.425325573234474\n",
      "2\n",
      "Predicted ID: 2, Confidence: 50.425325573234474\n",
      "22\n",
      "Predicted ID: 22, Confidence: 51.714812496350945\n",
      "22\n",
      "Predicted ID: 22, Confidence: 51.714812496350945\n",
      "2\n",
      "Predicted ID: 2, Confidence: 50.62131087012936\n",
      "2\n",
      "Predicted ID: 2, Confidence: 50.62131087012936\n",
      "2\n",
      "Predicted ID: 2, Confidence: 49.51933766675467\n",
      "2\n",
      "Predicted ID: 2, Confidence: 49.51933766675467\n",
      "8\n",
      "Predicted ID: 8, Confidence: 51.60884853148497\n",
      "8\n",
      "Predicted ID: 8, Confidence: 51.60884853148497\n",
      "22\n",
      "Predicted ID: 22, Confidence: 51.872121564622866\n",
      "22\n",
      "Predicted ID: 22, Confidence: 51.872121564622866\n",
      "22\n",
      "Predicted ID: 22, Confidence: 54.9359071967574\n",
      "22\n",
      "Predicted ID: 22, Confidence: 54.9359071967574\n",
      "24\n",
      "Predicted ID: 24, Confidence: 51.52098583633191\n",
      "24\n",
      "Predicted ID: 24, Confidence: 51.52098583633191\n",
      "22\n",
      "Predicted ID: 22, Confidence: 53.91080346664913\n",
      "22\n",
      "Predicted ID: 22, Confidence: 53.91080346664913\n",
      "8\n",
      "Predicted ID: 8, Confidence: 49.72977112606729\n",
      "8\n",
      "Predicted ID: 8, Confidence: 49.72977112606729\n",
      "8\n",
      "Predicted ID: 8, Confidence: 52.03269626392084\n",
      "8\n",
      "Predicted ID: 8, Confidence: 52.03269626392084\n",
      "24\n",
      "Predicted ID: 24, Confidence: 56.44480428478148\n",
      "24\n",
      "Predicted ID: 24, Confidence: 56.44480428478148\n",
      "8\n",
      "Predicted ID: 8, Confidence: 52.314377774563326\n",
      "8\n",
      "Predicted ID: 8, Confidence: 52.314377774563326\n",
      "8\n",
      "Predicted ID: 8, Confidence: 51.06701899771587\n",
      "8\n",
      "Predicted ID: 8, Confidence: 51.06701899771587\n",
      "2\n",
      "Predicted ID: 2, Confidence: 50.19581916441807\n",
      "2\n",
      "Predicted ID: 2, Confidence: 50.19581916441807\n",
      "22\n",
      "Predicted ID: 22, Confidence: 55.33702017481473\n",
      "22\n",
      "Predicted ID: 22, Confidence: 55.33702017481473\n",
      "24\n",
      "Predicted ID: 24, Confidence: 51.80611935764866\n",
      "24\n",
      "Predicted ID: 24, Confidence: 51.80611935764866\n",
      "2\n",
      "Predicted ID: 2, Confidence: 53.52218406678967\n",
      "2\n",
      "Predicted ID: 2, Confidence: 53.52218406678967\n",
      "2\n",
      "Predicted ID: 2, Confidence: 53.22723910383425\n",
      "2\n",
      "Predicted ID: 2, Confidence: 53.22723910383425\n",
      "8\n",
      "Predicted ID: 8, Confidence: 53.394577957837065\n",
      "8\n",
      "Predicted ID: 8, Confidence: 53.394577957837065\n",
      "8\n",
      "Predicted ID: 8, Confidence: 52.177293450491746\n",
      "8\n",
      "Predicted ID: 8, Confidence: 52.177293450491746\n",
      "2\n",
      "Predicted ID: 2, Confidence: 51.85553104370711\n",
      "2\n",
      "Predicted ID: 2, Confidence: 51.85553104370711\n",
      "2\n",
      "Predicted ID: 2, Confidence: 55.84145348813678\n",
      "2\n",
      "Predicted ID: 2, Confidence: 55.84145348813678\n",
      "2\n",
      "Predicted ID: 2, Confidence: 56.76081685510979\n",
      "2\n",
      "Predicted ID: 2, Confidence: 56.76081685510979\n",
      "2\n",
      "Predicted ID: 2, Confidence: 49.01932849593593\n",
      "2\n",
      "Predicted ID: 2, Confidence: 49.01932849593593\n",
      "8\n",
      "Predicted ID: 8, Confidence: 48.76844630305165\n",
      "8\n",
      "Predicted ID: 8, Confidence: 48.76844630305165\n",
      "2\n",
      "Predicted ID: 2, Confidence: 50.80090896662616\n",
      "2\n",
      "Predicted ID: 2, Confidence: 50.80090896662616\n",
      "8\n",
      "Predicted ID: 8, Confidence: 50.19405847452008\n",
      "8\n",
      "Predicted ID: 8, Confidence: 50.19405847452008\n",
      "2\n",
      "Predicted ID: 2, Confidence: 50.99056332266618\n",
      "2\n",
      "Predicted ID: 2, Confidence: 50.99056332266618\n",
      "2\n",
      "Predicted ID: 2, Confidence: 53.076296976924255\n",
      "2\n",
      "Predicted ID: 2, Confidence: 53.076296976924255\n",
      "2\n",
      "Predicted ID: 2, Confidence: 51.349054627838385\n",
      "2\n",
      "Predicted ID: 2, Confidence: 51.349054627838385\n",
      "2\n",
      "Predicted ID: 2, Confidence: 51.33984955203455\n",
      "2\n",
      "Predicted ID: 2, Confidence: 51.33984955203455\n",
      "8\n",
      "Predicted ID: 8, Confidence: 49.81821080352524\n",
      "8\n",
      "Predicted ID: 8, Confidence: 49.81821080352524\n",
      "8\n",
      "Predicted ID: 8, Confidence: 51.74823054250117\n",
      "8\n",
      "Predicted ID: 8, Confidence: 51.74823054250117\n",
      "2\n",
      "Predicted ID: 2, Confidence: 50.8423630924643\n",
      "2\n",
      "Predicted ID: 2, Confidence: 50.8423630924643\n",
      "8\n",
      "Predicted ID: 8, Confidence: 54.464613913796995\n",
      "8\n",
      "Predicted ID: 8, Confidence: 54.464613913796995\n",
      "2\n",
      "Predicted ID: 2, Confidence: 49.485130214987905\n",
      "2\n",
      "Predicted ID: 2, Confidence: 49.485130214987905\n",
      "2\n",
      "Predicted ID: 2, Confidence: 50.36938633901746\n",
      "2\n",
      "Predicted ID: 2, Confidence: 50.36938633901746\n",
      "8\n",
      "Predicted ID: 8, Confidence: 55.76269395656205\n",
      "8\n",
      "Predicted ID: 8, Confidence: 55.76269395656205\n",
      "22\n",
      "Predicted ID: 22, Confidence: 48.57515821657262\n",
      "22\n",
      "Predicted ID: 22, Confidence: 48.57515821657262\n",
      "8\n",
      "Predicted ID: 8, Confidence: 51.4276191954989\n",
      "8\n",
      "Predicted ID: 8, Confidence: 51.4276191954989\n",
      "8\n",
      "Predicted ID: 8, Confidence: 51.4276191954989\n",
      "24\n",
      "Predicted ID: 24, Confidence: 58.21934158580781\n",
      "8\n",
      "Predicted ID: 8, Confidence: 52.5622917478687\n",
      "8\n",
      "Predicted ID: 8, Confidence: 52.5622917478687\n",
      "2\n",
      "Predicted ID: 2, Confidence: 56.500463773973436\n",
      "2\n",
      "Predicted ID: 2, Confidence: 56.500463773973436\n",
      "22\n",
      "Predicted ID: 22, Confidence: 53.52646682918421\n",
      "22\n",
      "Predicted ID: 22, Confidence: 53.52646682918421\n",
      "2\n",
      "Predicted ID: 2, Confidence: 49.66047730523505\n",
      "2\n",
      "Predicted ID: 2, Confidence: 49.66047730523505\n",
      "2\n",
      "Predicted ID: 2, Confidence: 49.251541098409845\n",
      "2\n",
      "Predicted ID: 2, Confidence: 49.251541098409845\n",
      "2\n",
      "Predicted ID: 2, Confidence: 49.251541098409845\n",
      "2\n",
      "Predicted ID: 2, Confidence: 53.13421653843252\n",
      "22\n",
      "Predicted ID: 22, Confidence: 53.345570381517255\n",
      "22\n",
      "Predicted ID: 22, Confidence: 53.345570381517255\n",
      "8\n",
      "Predicted ID: 8, Confidence: 50.427771002149235\n",
      "8\n",
      "Predicted ID: 8, Confidence: 50.427771002149235\n",
      "8\n",
      "Predicted ID: 8, Confidence: 50.95952429449487\n",
      "8\n",
      "Predicted ID: 8, Confidence: 50.95952429449487\n",
      "2\n",
      "Predicted ID: 2, Confidence: 53.50697507248348\n",
      "2\n",
      "Predicted ID: 2, Confidence: 53.50697507248348\n",
      "8\n",
      "Predicted ID: 8, Confidence: 49.67819671643634\n",
      "8\n",
      "Predicted ID: 8, Confidence: 49.67819671643634\n",
      "8\n",
      "Predicted ID: 8, Confidence: 49.67819671643634\n",
      "22\n",
      "Predicted ID: 22, Confidence: 52.737790476836715\n",
      "2\n",
      "Predicted ID: 2, Confidence: 50.84763104043846\n",
      "2\n",
      "Predicted ID: 2, Confidence: 50.84763104043846\n",
      "22\n",
      "Predicted ID: 22, Confidence: 53.75961382650451\n",
      "22\n",
      "Predicted ID: 22, Confidence: 53.75961382650451\n",
      "2\n",
      "Predicted ID: 2, Confidence: 55.26118549239185\n",
      "2\n",
      "Predicted ID: 2, Confidence: 55.26118549239185\n",
      "2\n",
      "Predicted ID: 2, Confidence: 51.018202102821625\n",
      "2\n",
      "Predicted ID: 2, Confidence: 51.018202102821625\n",
      "8\n",
      "Predicted ID: 8, Confidence: 51.68324933089647\n",
      "8\n",
      "Predicted ID: 8, Confidence: 51.68324933089647\n",
      "8\n",
      "Predicted ID: 8, Confidence: 51.68324933089647\n",
      "8\n",
      "Predicted ID: 8, Confidence: 51.92679242492962\n",
      "2\n",
      "Predicted ID: 2, Confidence: 56.591600046318774\n",
      "2\n",
      "Predicted ID: 2, Confidence: 56.591600046318774\n",
      "2\n",
      "Predicted ID: 2, Confidence: 51.84494448648552\n",
      "2\n",
      "Predicted ID: 2, Confidence: 51.84494448648552\n",
      "2\n",
      "Predicted ID: 2, Confidence: 56.91695174030693\n",
      "2\n",
      "Predicted ID: 2, Confidence: 56.91695174030693\n",
      "2\n",
      "Predicted ID: 2, Confidence: 50.285523043451924\n",
      "2\n",
      "Predicted ID: 2, Confidence: 50.285523043451924\n",
      "2\n",
      "Predicted ID: 2, Confidence: 50.41361423003644\n",
      "2\n",
      "Predicted ID: 2, Confidence: 50.41361423003644\n",
      "2\n",
      "Predicted ID: 2, Confidence: 50.41361423003644\n",
      "2\n",
      "Predicted ID: 2, Confidence: 49.80494502067011\n",
      "2\n",
      "Predicted ID: 2, Confidence: 53.487391620094336\n",
      "2\n",
      "Predicted ID: 2, Confidence: 53.487391620094336\n",
      "8\n",
      "Predicted ID: 8, Confidence: 55.73123528518703\n",
      "8\n",
      "Predicted ID: 8, Confidence: 55.73123528518703\n",
      "8\n",
      "Predicted ID: 8, Confidence: 54.32563744535104\n",
      "8\n",
      "Predicted ID: 8, Confidence: 54.32563744535104\n",
      "8\n",
      "Predicted ID: 8, Confidence: 53.24157270156241\n",
      "8\n",
      "Predicted ID: 8, Confidence: 53.24157270156241\n",
      "8\n",
      "Predicted ID: 8, Confidence: 54.79624366803213\n",
      "8\n",
      "Predicted ID: 8, Confidence: 54.79624366803213\n",
      "8\n",
      "Predicted ID: 8, Confidence: 54.79624366803213\n",
      "8\n",
      "Predicted ID: 8, Confidence: 55.89245108495676\n",
      "22\n",
      "Predicted ID: 22, Confidence: 55.719289785999\n",
      "22\n",
      "Predicted ID: 22, Confidence: 55.719289785999\n",
      "2\n",
      "Predicted ID: 2, Confidence: 51.34924211079301\n",
      "2\n",
      "Predicted ID: 2, Confidence: 51.34924211079301\n",
      "22\n",
      "Predicted ID: 22, Confidence: 55.173157645873665\n",
      "22\n",
      "Predicted ID: 22, Confidence: 55.173157645873665\n",
      "22\n",
      "Predicted ID: 22, Confidence: 55.13768253579113\n",
      "22\n",
      "Predicted ID: 22, Confidence: 55.13768253579113\n",
      "22\n",
      "Predicted ID: 22, Confidence: 55.13768253579113\n",
      "2\n",
      "Predicted ID: 2, Confidence: 51.53984699718889\n",
      "2\n",
      "Predicted ID: 2, Confidence: 51.53984699718889\n",
      "22\n",
      "Predicted ID: 22, Confidence: 53.747643439325394\n",
      "8\n",
      "Predicted ID: 8, Confidence: 52.29777012849974\n",
      "8\n",
      "Predicted ID: 8, Confidence: 52.29777012849974\n",
      "22\n",
      "Predicted ID: 22, Confidence: 51.86810825417846\n",
      "22\n",
      "Predicted ID: 22, Confidence: 51.86810825417846\n",
      "8\n",
      "Predicted ID: 8, Confidence: 55.06695073989771\n",
      "8\n",
      "Predicted ID: 8, Confidence: 55.06695073989771\n",
      "2\n",
      "Predicted ID: 2, Confidence: 51.55974892340608\n",
      "2\n",
      "Predicted ID: 2, Confidence: 51.55974892340608\n",
      "2\n",
      "Predicted ID: 2, Confidence: 51.55974892340608\n",
      "8\n",
      "Predicted ID: 8, Confidence: 51.89427696173234\n",
      "8\n",
      "Predicted ID: 8, Confidence: 51.89427696173234\n",
      "22\n",
      "Predicted ID: 22, Confidence: 51.52670717248375\n",
      "8\n",
      "Predicted ID: 8, Confidence: 51.424796160947345\n",
      "8\n",
      "Predicted ID: 8, Confidence: 51.424796160947345\n",
      "8\n",
      "Predicted ID: 8, Confidence: 51.87265051777793\n",
      "8\n",
      "Predicted ID: 8, Confidence: 51.87265051777793\n",
      "22\n",
      "Predicted ID: 22, Confidence: 51.96971071446307\n",
      "22\n",
      "Predicted ID: 22, Confidence: 51.96971071446307\n",
      "8\n",
      "Predicted ID: 8, Confidence: 52.329031442124624\n",
      "8\n",
      "Predicted ID: 8, Confidence: 52.329031442124624\n",
      "8\n",
      "Predicted ID: 8, Confidence: 52.329031442124624\n",
      "22\n",
      "Predicted ID: 22, Confidence: 51.507757852691164\n",
      "22\n",
      "Predicted ID: 22, Confidence: 51.507757852691164\n",
      "8\n",
      "Predicted ID: 8, Confidence: 50.787703868287586\n",
      "22\n",
      "Predicted ID: 22, Confidence: 56.533628467832976\n",
      "22\n",
      "Predicted ID: 22, Confidence: 56.533628467832976\n",
      "2\n",
      "Predicted ID: 2, Confidence: 53.03835058174852\n",
      "2\n",
      "Predicted ID: 2, Confidence: 53.03835058174852\n",
      "22\n",
      "Predicted ID: 22, Confidence: 53.916690091754475\n",
      "22\n",
      "Predicted ID: 22, Confidence: 53.916690091754475\n",
      "2\n",
      "Predicted ID: 2, Confidence: 56.58098676134731\n",
      "2\n",
      "Predicted ID: 2, Confidence: 56.58098676134731\n",
      "2\n",
      "Predicted ID: 2, Confidence: 56.58098676134731\n",
      "8\n",
      "Predicted ID: 8, Confidence: 52.59665646168921\n",
      "8\n",
      "Predicted ID: 8, Confidence: 52.59665646168921\n",
      "8\n",
      "Predicted ID: 8, Confidence: 52.95932797713792\n",
      "2\n",
      "Predicted ID: 2, Confidence: 52.8850128538914\n",
      "2\n",
      "Predicted ID: 2, Confidence: 52.8850128538914\n",
      "2\n",
      "Predicted ID: 2, Confidence: 55.63397499712817\n",
      "2\n",
      "Predicted ID: 2, Confidence: 55.63397499712817\n",
      "8\n",
      "Predicted ID: 8, Confidence: 51.65212763074085\n",
      "8\n",
      "Predicted ID: 8, Confidence: 51.65212763074085\n",
      "2\n",
      "Predicted ID: 2, Confidence: 52.382517392337704\n",
      "2\n",
      "Predicted ID: 2, Confidence: 52.382517392337704\n",
      "2\n",
      "Predicted ID: 2, Confidence: 52.382517392337704\n",
      "24\n",
      "Predicted ID: 24, Confidence: 57.868264352387705\n",
      "24\n",
      "Predicted ID: 24, Confidence: 57.868264352387705\n",
      "22\n",
      "Predicted ID: 22, Confidence: 54.88742692763202\n",
      "2\n",
      "Predicted ID: 2, Confidence: 53.56177162234462\n",
      "2\n",
      "Predicted ID: 2, Confidence: 53.56177162234462\n",
      "2\n",
      "Predicted ID: 2, Confidence: 54.26808580351804\n",
      "2\n",
      "Predicted ID: 2, Confidence: 54.26808580351804\n",
      "8\n",
      "Predicted ID: 8, Confidence: 54.88397674238486\n",
      "8\n",
      "Predicted ID: 8, Confidence: 54.88397674238486\n",
      "8\n",
      "Predicted ID: 8, Confidence: 54.88397674238486\n",
      "2\n",
      "Predicted ID: 2, Confidence: 51.73929525418606\n",
      "2\n",
      "Predicted ID: 2, Confidence: 51.73929525418606\n",
      "24\n",
      "Predicted ID: 24, Confidence: 50.15596904747814\n",
      "24\n",
      "Predicted ID: 24, Confidence: 50.15596904747814\n",
      "22\n",
      "Predicted ID: 22, Confidence: 50.32524418684275\n",
      "24\n",
      "Predicted ID: 24, Confidence: 49.84294765182176\n",
      "24\n",
      "Predicted ID: 24, Confidence: 49.84294765182176\n",
      "22\n",
      "Predicted ID: 22, Confidence: 49.27016653714023\n",
      "22\n",
      "Predicted ID: 22, Confidence: 49.27016653714023\n",
      "22\n",
      "Predicted ID: 22, Confidence: 49.61386398818453\n",
      "22\n",
      "Predicted ID: 22, Confidence: 49.61386398818453\n",
      "22\n",
      "Predicted ID: 22, Confidence: 49.61386398818453\n",
      "2\n",
      "Predicted ID: 2, Confidence: 52.91117198508261\n",
      "2\n",
      "Predicted ID: 2, Confidence: 52.91117198508261\n",
      "2\n",
      "Predicted ID: 2, Confidence: 50.62328755842647\n",
      "2\n",
      "Predicted ID: 2, Confidence: 50.62328755842647\n",
      "22\n",
      "Predicted ID: 22, Confidence: 51.21547772098473\n",
      "2\n",
      "Predicted ID: 2, Confidence: 54.089076453188596\n",
      "2\n",
      "Predicted ID: 2, Confidence: 54.089076453188596\n",
      "8\n",
      "Predicted ID: 8, Confidence: 52.55748312507001\n",
      "8\n",
      "Predicted ID: 8, Confidence: 52.55748312507001\n",
      "22\n",
      "Predicted ID: 22, Confidence: 51.45655970728195\n",
      "22\n",
      "Predicted ID: 22, Confidence: 51.45655970728195\n",
      "22\n",
      "Predicted ID: 22, Confidence: 51.45655970728195\n",
      "22\n",
      "Predicted ID: 22, Confidence: 50.28249223118418\n",
      "22\n",
      "Predicted ID: 22, Confidence: 50.28249223118418\n",
      "2\n",
      "Predicted ID: 2, Confidence: 51.46632035038278\n",
      "2\n",
      "Predicted ID: 2, Confidence: 51.46632035038278\n",
      "2\n",
      "Predicted ID: 2, Confidence: 49.83892348424331\n",
      "24\n",
      "Predicted ID: 24, Confidence: 54.31602568203312\n",
      "24\n",
      "Predicted ID: 24, Confidence: 54.31602568203312\n",
      "8\n",
      "Predicted ID: 8, Confidence: 51.20807164826409\n",
      "8\n",
      "Predicted ID: 8, Confidence: 51.20807164826409\n",
      "8\n",
      "Predicted ID: 8, Confidence: 51.16979055931936\n",
      "8\n",
      "Predicted ID: 8, Confidence: 51.16979055931936\n",
      "8\n",
      "Predicted ID: 8, Confidence: 51.16979055931936\n",
      "2\n",
      "Predicted ID: 2, Confidence: 52.27444190153631\n",
      "2\n",
      "Predicted ID: 2, Confidence: 52.27444190153631\n",
      "24\n",
      "Predicted ID: 24, Confidence: 50.49133824289989\n",
      "24\n",
      "Predicted ID: 24, Confidence: 50.49133824289989\n",
      "2\n",
      "Predicted ID: 2, Confidence: 52.155286077594795\n",
      "2\n",
      "Predicted ID: 2, Confidence: 51.54084959794417\n",
      "2\n",
      "Predicted ID: 2, Confidence: 51.54084959794417\n",
      "2\n",
      "Predicted ID: 2, Confidence: 49.43303817428899\n",
      "2\n",
      "Predicted ID: 2, Confidence: 49.43303817428899\n",
      "22\n",
      "Predicted ID: 22, Confidence: 50.8109475209906\n",
      "22\n",
      "Predicted ID: 22, Confidence: 50.8109475209906\n",
      "22\n",
      "Predicted ID: 22, Confidence: 50.8109475209906\n",
      "24\n",
      "Predicted ID: 24, Confidence: 52.507457415338536\n",
      "24\n",
      "Predicted ID: 24, Confidence: 52.507457415338536\n",
      "2\n",
      "Predicted ID: 2, Confidence: 52.71917200917014\n",
      "2\n",
      "Predicted ID: 2, Confidence: 52.71917200917014\n",
      "8\n",
      "Predicted ID: 8, Confidence: 52.369761127719684\n",
      "8\n",
      "Predicted ID: 8, Confidence: 51.204927397104996\n",
      "8\n",
      "Predicted ID: 8, Confidence: 51.204927397104996\n",
      "8\n",
      "Predicted ID: 8, Confidence: 51.55706342321396\n",
      "8\n",
      "Predicted ID: 8, Confidence: 51.55706342321396\n",
      "8\n",
      "Predicted ID: 8, Confidence: 51.55706342321396\n",
      "22\n",
      "Predicted ID: 22, Confidence: 51.20458666704126\n",
      "22\n",
      "Predicted ID: 22, Confidence: 51.20458666704126\n",
      "22\n",
      "Predicted ID: 22, Confidence: 51.16438771776663\n",
      "22\n",
      "Predicted ID: 22, Confidence: 51.16438771776663\n",
      "22\n",
      "Predicted ID: 22, Confidence: 51.01890402437895\n",
      "22\n",
      "Predicted ID: 22, Confidence: 51.01890402437895\n",
      "2\n",
      "Predicted ID: 2, Confidence: 52.0967243596721\n",
      "2\n",
      "Predicted ID: 2, Confidence: 51.729234403920245\n",
      "2\n",
      "Predicted ID: 2, Confidence: 51.729234403920245\n",
      "2\n",
      "Predicted ID: 2, Confidence: 50.982992508182775\n",
      "2\n",
      "Predicted ID: 2, Confidence: 50.982992508182775\n",
      "2\n",
      "Predicted ID: 2, Confidence: 50.982992508182775\n",
      "8\n",
      "Predicted ID: 8, Confidence: 52.51726476571397\n",
      "8\n",
      "Predicted ID: 8, Confidence: 52.51726476571397\n",
      "2\n",
      "Predicted ID: 2, Confidence: 52.46439343375496\n",
      "2\n",
      "Predicted ID: 2, Confidence: 52.46439343375496\n",
      "8\n",
      "Predicted ID: 8, Confidence: 50.22450176455275\n",
      "8\n",
      "Predicted ID: 8, Confidence: 50.22450176455275\n",
      "8\n",
      "Predicted ID: 8, Confidence: 50.611719527423396\n",
      "8\n",
      "Predicted ID: 8, Confidence: 51.31916306181293\n",
      "8\n",
      "Predicted ID: 8, Confidence: 51.31916306181293\n",
      "2\n",
      "Predicted ID: 2, Confidence: 52.81053074579719\n",
      "2\n",
      "Predicted ID: 2, Confidence: 52.81053074579719\n",
      "2\n",
      "Predicted ID: 2, Confidence: 52.81053074579719\n",
      "2\n",
      "Predicted ID: 2, Confidence: 51.58876402039151\n",
      "2\n",
      "Predicted ID: 2, Confidence: 51.58876402039151\n",
      "2\n",
      "Predicted ID: 2, Confidence: 53.93279119512695\n",
      "2\n",
      "Predicted ID: 2, Confidence: 53.93279119512695\n",
      "2\n",
      "Predicted ID: 2, Confidence: 52.36587487897017\n",
      "2\n",
      "Predicted ID: 2, Confidence: 52.36587487897017\n",
      "2\n",
      "Predicted ID: 2, Confidence: 51.906201223828546\n",
      "8\n",
      "Predicted ID: 8, Confidence: 54.50142072726869\n",
      "8\n",
      "Predicted ID: 8, Confidence: 54.50142072726869\n",
      "2\n",
      "Predicted ID: 2, Confidence: 52.54737007609671\n",
      "2\n",
      "Predicted ID: 2, Confidence: 52.54737007609671\n",
      "2\n",
      "Predicted ID: 2, Confidence: 52.54737007609671\n",
      "8\n",
      "Predicted ID: 8, Confidence: 50.59422438433409\n",
      "8\n",
      "Predicted ID: 8, Confidence: 50.59422438433409\n",
      "2\n",
      "Predicted ID: 2, Confidence: 53.30686280717793\n",
      "2\n",
      "Predicted ID: 2, Confidence: 53.30686280717793\n",
      "8\n",
      "Predicted ID: 8, Confidence: 52.74308621651784\n",
      "8\n",
      "Predicted ID: 8, Confidence: 52.74308621651784\n",
      "8\n",
      "Predicted ID: 8, Confidence: 51.350967462219884\n",
      "8\n",
      "Predicted ID: 8, Confidence: 52.58372883292879\n",
      "8\n",
      "Predicted ID: 8, Confidence: 52.58372883292879\n",
      "8\n",
      "Predicted ID: 8, Confidence: 52.81486870474296\n",
      "8\n",
      "Predicted ID: 8, Confidence: 52.81486870474296\n",
      "8\n",
      "Predicted ID: 8, Confidence: 52.81486870474296\n",
      "24\n",
      "Predicted ID: 24, Confidence: 52.90455016148379\n",
      "24\n",
      "Predicted ID: 24, Confidence: 52.90455016148379\n",
      "2\n",
      "Predicted ID: 2, Confidence: 54.41555826316057\n",
      "2\n",
      "Predicted ID: 2, Confidence: 54.41555826316057\n",
      "8\n",
      "Predicted ID: 8, Confidence: 52.12609153133823\n",
      "8\n",
      "Predicted ID: 8, Confidence: 52.12609153133823\n",
      "8\n",
      "Predicted ID: 8, Confidence: 53.55056719656311\n",
      "22\n",
      "Predicted ID: 22, Confidence: 53.291713794014136\n",
      "22\n",
      "Predicted ID: 22, Confidence: 53.291713794014136\n",
      "22\n",
      "Predicted ID: 22, Confidence: 53.291713794014136\n",
      "2\n",
      "Predicted ID: 2, Confidence: 50.213482680619585\n",
      "2\n",
      "Predicted ID: 2, Confidence: 50.213482680619585\n",
      "2\n",
      "Predicted ID: 2, Confidence: 51.807804022366525\n",
      "2\n",
      "Predicted ID: 2, Confidence: 51.807804022366525\n",
      "2\n",
      "Predicted ID: 2, Confidence: 51.49762696111773\n",
      "2\n",
      "Predicted ID: 2, Confidence: 51.49762696111773\n",
      "22\n",
      "Predicted ID: 22, Confidence: 53.12354014215028\n",
      "22\n",
      "Predicted ID: 22, Confidence: 53.12354014215028\n",
      "8\n",
      "Predicted ID: 8, Confidence: 54.18925437001125\n",
      "2\n",
      "Predicted ID: 2, Confidence: 53.718687291221734\n",
      "2\n",
      "Predicted ID: 2, Confidence: 53.718687291221734\n",
      "2\n",
      "Predicted ID: 2, Confidence: 53.718687291221734\n",
      "8\n",
      "Predicted ID: 8, Confidence: 54.58262011144887\n",
      "8\n",
      "Predicted ID: 8, Confidence: 54.58262011144887\n",
      "22\n",
      "Predicted ID: 22, Confidence: 54.84038425978517\n",
      "22\n",
      "Predicted ID: 22, Confidence: 54.84038425978517\n",
      "8\n",
      "Predicted ID: 8, Confidence: 58.26978518792908\n",
      "8\n",
      "Predicted ID: 8, Confidence: 58.26978518792908\n",
      "8\n",
      "Predicted ID: 8, Confidence: 55.31845134421469\n",
      "8\n",
      "Predicted ID: 8, Confidence: 55.31845134421469\n",
      "8\n",
      "Predicted ID: 8, Confidence: 56.7601987175453\n",
      "8\n",
      "Predicted ID: 8, Confidence: 51.48661111375028\n",
      "8\n",
      "Predicted ID: 8, Confidence: 51.48661111375028\n",
      "8\n",
      "Predicted ID: 8, Confidence: 51.48661111375028\n",
      "8\n",
      "Predicted ID: 8, Confidence: 55.282931480769555\n",
      "8\n",
      "Predicted ID: 8, Confidence: 55.282931480769555\n",
      "8\n",
      "Predicted ID: 8, Confidence: 56.05109691077846\n",
      "8\n",
      "Predicted ID: 8, Confidence: 56.05109691077846\n",
      "8\n",
      "Predicted ID: 8, Confidence: 56.3610702902401\n",
      "8\n",
      "Predicted ID: 8, Confidence: 56.3610702902401\n",
      "8\n",
      "Predicted ID: 8, Confidence: 55.8734028240901\n",
      "8\n",
      "Predicted ID: 8, Confidence: 55.8734028240901\n",
      "8\n",
      "Predicted ID: 8, Confidence: 55.00399616865931\n",
      "8\n",
      "Predicted ID: 8, Confidence: 54.76018327786317\n",
      "8\n",
      "Predicted ID: 8, Confidence: 54.76018327786317\n",
      "8\n",
      "Predicted ID: 8, Confidence: 54.76018327786317\n",
      "22\n",
      "Predicted ID: 22, Confidence: 56.47447357351054\n",
      "22\n",
      "Predicted ID: 22, Confidence: 56.47447357351054\n",
      "8\n",
      "Predicted ID: 8, Confidence: 55.03891393048351\n",
      "8\n",
      "Predicted ID: 8, Confidence: 55.03891393048351\n",
      "22\n",
      "Predicted ID: 22, Confidence: 55.81639550137191\n",
      "22\n",
      "Predicted ID: 22, Confidence: 55.81639550137191\n",
      "8\n",
      "Predicted ID: 8, Confidence: 53.93671396949593\n",
      "8\n",
      "Predicted ID: 8, Confidence: 53.93671396949593\n",
      "22\n",
      "Predicted ID: 22, Confidence: 54.89394671453574\n",
      "8\n",
      "Predicted ID: 8, Confidence: 54.36822766825144\n",
      "8\n",
      "Predicted ID: 8, Confidence: 54.36822766825144\n",
      "8\n",
      "Predicted ID: 8, Confidence: 54.36822766825144\n",
      "2\n",
      "Predicted ID: 2, Confidence: 55.533459711374384\n",
      "2\n",
      "Predicted ID: 2, Confidence: 55.533459711374384\n",
      "22\n",
      "Predicted ID: 22, Confidence: 55.15848330123048\n",
      "22\n",
      "Predicted ID: 22, Confidence: 55.15848330123048\n",
      "22\n",
      "Predicted ID: 22, Confidence: 55.179605106561\n",
      "22\n",
      "Predicted ID: 22, Confidence: 55.179605106561\n",
      "22\n",
      "Predicted ID: 22, Confidence: 54.3713387862457\n",
      "22\n",
      "Predicted ID: 22, Confidence: 54.3713387862457\n",
      "8\n",
      "Predicted ID: 8, Confidence: 55.46658824611704\n",
      "8\n",
      "Predicted ID: 8, Confidence: 55.46658824611704\n",
      "8\n",
      "Predicted ID: 8, Confidence: 54.406680144399125\n",
      "8\n",
      "Predicted ID: 8, Confidence: 54.406680144399125\n",
      "8\n",
      "Predicted ID: 8, Confidence: 52.585781536395224\n",
      "8\n",
      "Predicted ID: 8, Confidence: 52.585781536395224\n",
      "8\n",
      "Predicted ID: 8, Confidence: 54.414886613494474\n",
      "8\n",
      "Predicted ID: 8, Confidence: 54.414886613494474\n",
      "8\n",
      "Predicted ID: 8, Confidence: 54.306680172907505\n",
      "8\n",
      "Predicted ID: 8, Confidence: 54.306680172907505\n",
      "8\n",
      "Predicted ID: 8, Confidence: 54.154930824562975\n",
      "8\n",
      "Predicted ID: 8, Confidence: 54.154930824562975\n",
      "2\n",
      "Predicted ID: 2, Confidence: 53.38228466286589\n",
      "2\n",
      "Predicted ID: 2, Confidence: 53.38228466286589\n",
      "24\n",
      "Predicted ID: 24, Confidence: 54.664581438972114\n",
      "24\n",
      "Predicted ID: 24, Confidence: 54.664581438972114\n",
      "8\n",
      "Predicted ID: 8, Confidence: 55.16593715301024\n",
      "8\n",
      "Predicted ID: 8, Confidence: 55.16593715301024\n",
      "2\n",
      "Predicted ID: 2, Confidence: 54.32042302834492\n",
      "2\n",
      "Predicted ID: 2, Confidence: 54.32042302834492\n",
      "8\n",
      "Predicted ID: 8, Confidence: 52.89937112415093\n",
      "8\n",
      "Predicted ID: 8, Confidence: 52.89937112415093\n",
      "22\n",
      "Predicted ID: 22, Confidence: 54.90535063341756\n",
      "22\n",
      "Predicted ID: 22, Confidence: 54.90535063341756\n",
      "24\n",
      "Predicted ID: 24, Confidence: 55.74725011087556\n",
      "24\n",
      "Predicted ID: 24, Confidence: 55.74725011087556\n",
      "8\n",
      "Predicted ID: 8, Confidence: 54.00694312934664\n",
      "8\n",
      "Predicted ID: 8, Confidence: 54.00694312934664\n",
      "8\n",
      "Predicted ID: 8, Confidence: 51.400625691920574\n",
      "8\n",
      "Predicted ID: 8, Confidence: 51.400625691920574\n",
      "22\n",
      "Predicted ID: 22, Confidence: 55.82715213571841\n",
      "22\n",
      "Predicted ID: 22, Confidence: 55.82715213571841\n",
      "22\n",
      "Predicted ID: 22, Confidence: 57.41543252350379\n",
      "22\n",
      "Predicted ID: 22, Confidence: 57.41543252350379\n",
      "8\n",
      "Predicted ID: 8, Confidence: 51.26141262036014\n",
      "8\n",
      "Predicted ID: 8, Confidence: 51.26141262036014\n",
      "8\n",
      "Predicted ID: 8, Confidence: 52.50701710257451\n",
      "8\n",
      "Predicted ID: 8, Confidence: 52.50701710257451\n",
      "22\n",
      "Predicted ID: 22, Confidence: 55.69574249844922\n",
      "22\n",
      "Predicted ID: 22, Confidence: 55.69574249844922\n",
      "8\n",
      "Predicted ID: 8, Confidence: 54.32094725180135\n",
      "8\n",
      "Predicted ID: 8, Confidence: 54.32094725180135\n",
      "8\n",
      "Predicted ID: 8, Confidence: 51.73990505680637\n",
      "8\n",
      "Predicted ID: 8, Confidence: 51.73990505680637\n",
      "2\n",
      "Predicted ID: 2, Confidence: 51.552655365304076\n",
      "2\n",
      "Predicted ID: 2, Confidence: 51.552655365304076\n",
      "8\n",
      "Predicted ID: 8, Confidence: 50.833493345266845\n",
      "8\n",
      "Predicted ID: 8, Confidence: 50.833493345266845\n",
      "22\n",
      "Predicted ID: 22, Confidence: 56.582633770572734\n",
      "22\n",
      "Predicted ID: 22, Confidence: 56.582633770572734\n",
      "8\n",
      "Predicted ID: 8, Confidence: 53.86708208905204\n",
      "8\n",
      "Predicted ID: 8, Confidence: 53.86708208905204\n",
      "8\n",
      "Predicted ID: 8, Confidence: 52.86203372211016\n",
      "8\n",
      "Predicted ID: 8, Confidence: 52.86203372211016\n",
      "2\n",
      "Predicted ID: 2, Confidence: 53.968332545432325\n",
      "2\n",
      "Predicted ID: 2, Confidence: 53.968332545432325\n",
      "22\n",
      "Predicted ID: 22, Confidence: 53.87720736677961\n",
      "22\n",
      "Predicted ID: 22, Confidence: 53.87720736677961\n",
      "22\n",
      "Predicted ID: 22, Confidence: 50.75399441700548\n",
      "22\n",
      "Predicted ID: 22, Confidence: 50.75399441700548\n",
      "2\n",
      "Predicted ID: 2, Confidence: 48.04556225742493\n",
      "2\n",
      "Predicted ID: 2, Confidence: 48.04556225742493\n",
      "22\n",
      "Predicted ID: 22, Confidence: 52.194997726193996\n",
      "22\n",
      "Predicted ID: 22, Confidence: 52.194997726193996\n",
      "2\n",
      "Predicted ID: 2, Confidence: 49.399336473607086\n",
      "2\n",
      "Predicted ID: 2, Confidence: 49.399336473607086\n",
      "2\n",
      "Predicted ID: 2, Confidence: 52.63100373364349\n",
      "2\n",
      "Predicted ID: 2, Confidence: 52.63100373364349\n",
      "22\n",
      "Predicted ID: 22, Confidence: 56.65275158280241\n",
      "22\n",
      "Predicted ID: 22, Confidence: 56.65275158280241\n",
      "28\n",
      "Predicted ID: 28, Confidence: 61.74951748960365\n",
      "28\n",
      "Predicted ID: 28, Confidence: 61.74951748960365\n",
      "22\n",
      "Predicted ID: 22, Confidence: 64.70606192605675\n",
      "22\n",
      "Predicted ID: 22, Confidence: 64.70606192605675\n",
      "28\n",
      "Predicted ID: 28, Confidence: 71.42532106316591\n",
      "28\n",
      "Predicted ID: 28, Confidence: 71.42532106316591\n",
      "28\n",
      "Predicted ID: 28, Confidence: 70.22525012043798\n",
      "28\n",
      "Predicted ID: 28, Confidence: 70.22525012043798\n",
      "22\n",
      "Predicted ID: 22, Confidence: 61.05283990237192\n",
      "22\n",
      "Predicted ID: 22, Confidence: 61.05283990237192\n",
      "22\n",
      "Predicted ID: 22, Confidence: 56.65424943636486\n",
      "22\n",
      "Predicted ID: 22, Confidence: 56.65424943636486\n",
      "22\n",
      "Predicted ID: 22, Confidence: 58.11848452562846\n",
      "22\n",
      "Predicted ID: 22, Confidence: 58.11848452562846\n",
      "22\n",
      "Predicted ID: 22, Confidence: 58.77564704038041\n",
      "22\n",
      "Predicted ID: 22, Confidence: 58.77564704038041\n",
      "22\n",
      "Predicted ID: 22, Confidence: 60.50103900011594\n",
      "22\n",
      "Predicted ID: 22, Confidence: 60.50103900011594\n",
      "22\n",
      "Predicted ID: 22, Confidence: 55.4753277854481\n",
      "22\n",
      "Predicted ID: 22, Confidence: 55.4753277854481\n",
      "22\n",
      "Predicted ID: 22, Confidence: 49.97273728087817\n",
      "22\n",
      "Predicted ID: 22, Confidence: 49.97273728087817\n",
      "22\n",
      "Predicted ID: 22, Confidence: 52.71569098907566\n",
      "22\n",
      "Predicted ID: 22, Confidence: 52.71569098907566\n",
      "8\n",
      "Predicted ID: 8, Confidence: 53.86060981484479\n",
      "8\n",
      "Predicted ID: 8, Confidence: 53.86060981484479\n",
      "24\n",
      "Predicted ID: 24, Confidence: 51.31749537340199\n",
      "24\n",
      "Predicted ID: 24, Confidence: 51.31749537340199\n",
      "22\n",
      "Predicted ID: 22, Confidence: 51.14757728465093\n",
      "22\n",
      "Predicted ID: 22, Confidence: 51.14757728465093\n",
      "22\n",
      "Predicted ID: 22, Confidence: 53.017037119241984\n",
      "22\n",
      "Predicted ID: 22, Confidence: 53.017037119241984\n",
      "22\n",
      "Predicted ID: 22, Confidence: 53.65987506525774\n",
      "22\n",
      "Predicted ID: 22, Confidence: 53.65987506525774\n",
      "24\n",
      "Predicted ID: 24, Confidence: 49.21032673020933\n",
      "24\n",
      "Predicted ID: 24, Confidence: 49.21032673020933\n",
      "22\n",
      "Predicted ID: 22, Confidence: 53.41318848250153\n",
      "22\n",
      "Predicted ID: 22, Confidence: 53.41318848250153\n",
      "24\n",
      "Predicted ID: 24, Confidence: 55.8121263196493\n",
      "24\n",
      "Predicted ID: 24, Confidence: 55.8121263196493\n",
      "24\n",
      "Predicted ID: 24, Confidence: 54.806490956601955\n",
      "24\n",
      "Predicted ID: 24, Confidence: 54.806490956601955\n",
      "22\n",
      "Predicted ID: 22, Confidence: 53.684738798190565\n",
      "22\n",
      "Predicted ID: 22, Confidence: 53.684738798190565\n",
      "24\n",
      "Predicted ID: 24, Confidence: 55.12250428966195\n",
      "24\n",
      "Predicted ID: 24, Confidence: 55.12250428966195\n",
      "24\n",
      "Predicted ID: 24, Confidence: 56.410377092919795\n",
      "24\n",
      "Predicted ID: 24, Confidence: 56.410377092919795\n",
      "8\n",
      "Predicted ID: 8, Confidence: 55.0321237245608\n",
      "8\n",
      "Predicted ID: 8, Confidence: 55.0321237245608\n",
      "22\n",
      "Predicted ID: 22, Confidence: 55.1861621906599\n",
      "22\n",
      "Predicted ID: 22, Confidence: 55.1861621906599\n",
      "24\n",
      "Predicted ID: 24, Confidence: 53.37035438220663\n",
      "24\n",
      "Predicted ID: 24, Confidence: 53.37035438220663\n",
      "22\n",
      "Predicted ID: 22, Confidence: 52.65776054065933\n",
      "22\n",
      "Predicted ID: 22, Confidence: 52.65776054065933\n",
      "22\n",
      "Predicted ID: 22, Confidence: 54.522850828838166\n",
      "22\n",
      "Predicted ID: 22, Confidence: 54.522850828838166\n",
      "22\n",
      "Predicted ID: 22, Confidence: 54.66613348554368\n",
      "22\n",
      "Predicted ID: 22, Confidence: 54.66613348554368\n",
      "22\n",
      "Predicted ID: 22, Confidence: 53.329527016354334\n",
      "22\n",
      "Predicted ID: 22, Confidence: 53.329527016354334\n",
      "24\n",
      "Predicted ID: 24, Confidence: 55.369276691695404\n",
      "24\n",
      "Predicted ID: 24, Confidence: 55.369276691695404\n",
      "22\n",
      "Predicted ID: 22, Confidence: 55.098098754291335\n",
      "22\n",
      "Predicted ID: 22, Confidence: 55.098098754291335\n",
      "24\n",
      "Predicted ID: 24, Confidence: 55.09264273416069\n",
      "24\n",
      "Predicted ID: 24, Confidence: 55.09264273416069\n",
      "22\n",
      "Predicted ID: 22, Confidence: 52.34199141723247\n",
      "22\n",
      "Predicted ID: 22, Confidence: 52.34199141723247\n",
      "24\n",
      "Predicted ID: 24, Confidence: 53.55526729119253\n",
      "24\n",
      "Predicted ID: 24, Confidence: 53.55526729119253\n",
      "22\n",
      "Predicted ID: 22, Confidence: 54.403347959288375\n",
      "22\n",
      "Predicted ID: 22, Confidence: 54.403347959288375\n",
      "22\n",
      "Predicted ID: 22, Confidence: 53.60560651368043\n",
      "22\n",
      "Predicted ID: 22, Confidence: 53.60560651368043\n",
      "22\n",
      "Predicted ID: 22, Confidence: 52.96113450913207\n",
      "22\n",
      "Predicted ID: 22, Confidence: 52.96113450913207\n",
      "22\n",
      "Predicted ID: 22, Confidence: 53.007890562588344\n",
      "22\n",
      "Predicted ID: 22, Confidence: 53.007890562588344\n",
      "22\n",
      "Predicted ID: 22, Confidence: 53.785709550190404\n",
      "22\n",
      "Predicted ID: 22, Confidence: 53.785709550190404\n",
      "8\n",
      "Predicted ID: 8, Confidence: 54.4768654030963\n",
      "8\n",
      "Predicted ID: 8, Confidence: 54.4768654030963\n",
      "8\n",
      "Predicted ID: 8, Confidence: 53.41574114167789\n",
      "8\n",
      "Predicted ID: 8, Confidence: 53.41574114167789\n",
      "8\n",
      "Predicted ID: 8, Confidence: 53.15229334649577\n",
      "8\n",
      "Predicted ID: 8, Confidence: 53.15229334649577\n",
      "8\n",
      "Predicted ID: 8, Confidence: 52.320041072866395\n",
      "8\n",
      "Predicted ID: 8, Confidence: 52.320041072866395\n",
      "22\n",
      "Predicted ID: 22, Confidence: 51.89705311750252\n",
      "22\n",
      "Predicted ID: 22, Confidence: 51.89705311750252\n",
      "8\n",
      "Predicted ID: 8, Confidence: 51.998743358828456\n",
      "8\n",
      "Predicted ID: 8, Confidence: 51.998743358828456\n",
      "22\n",
      "Predicted ID: 22, Confidence: 51.741501577324655\n",
      "22\n",
      "Predicted ID: 22, Confidence: 51.741501577324655\n",
      "24\n",
      "Predicted ID: 24, Confidence: 53.41350716346281\n",
      "24\n",
      "Predicted ID: 24, Confidence: 53.41350716346281\n",
      "22\n",
      "Predicted ID: 22, Confidence: 51.59410134418316\n",
      "22\n",
      "Predicted ID: 22, Confidence: 51.59410134418316\n",
      "24\n",
      "Predicted ID: 24, Confidence: 53.406822626998746\n",
      "24\n",
      "Predicted ID: 24, Confidence: 53.406822626998746\n"
     ]
    }
   ],
   "source": [
    "import cv2\n",
    "import os\n",
    "\n",
    "# Recognize faces using the trained LBPH model\n",
    "def recognize_faces():\n",
    "    recognizer = cv2.face.LBPHFaceRecognizer_create()\n",
    "    recognizer.read('trainer/face_model.yml')\n",
    "\n",
    "    face_cascade = cv2.CascadeClassifier(cv2.data.haarcascades + 'haarcascade_frontalface_default.xml')\n",
    "    cap = cv2.VideoCapture(0)\n",
    "\n",
    "    while True:\n",
    "        ret, frame = cap.read()\n",
    "        if not ret:\n",
    "            break\n",
    "\n",
    "        gray = cv2.cvtColor(frame, cv2.COLOR_BGR2GRAY)\n",
    "        faces = face_cascade.detectMultiScale(gray, scaleFactor=1.3, minNeighbors=5)\n",
    "\n",
    "        for (x, y, w, h) in faces:\n",
    "            face_region = gray[y:y+h, x:x+w]\n",
    "            face_id, confidence = recognizer.predict(face_region)\n",
    "            \n",
    "            if confidence < 100:  # Adjust confidence threshold as needed\n",
    "                cv2.putText(frame, f\"Matched (Confidence: {round(100 - confidence)}%)\", (x+5, y-5), cv2.FONT_HERSHEY_SIMPLEX, 1, (0, 255, 0), 2)\n",
    "            else:\n",
    "                cv2.putText(frame, \"Not Matched\", (x+5, y-5), cv2.FONT_HERSHEY_SIMPLEX, 1, (0, 0, 255), 2)\n",
    "\n",
    "            cv2.rectangle(frame, (x, y), (x+w, y+h), (255, 0, 0), 2)\n",
    "\n",
    "        cv2.imshow(\"Face Recognition\", frame)\n",
    "\n",
    "        if cv2.waitKey(1) & 0xFF == 27:  # ESC to break\n",
    "            break\n",
    "\n",
    "    cap.release()\n",
    "    cv2.destroyAllWindows()\n",
    "\n",
    "# Start recognizing faces\n",
    "recognize_faces()\n"
   ]
  }
 ],
 "metadata": {
  "kernelspec": {
   "display_name": "Python 3",
   "language": "python",
   "name": "python3"
  },
  "language_info": {
   "codemirror_mode": {
    "name": "ipython",
    "version": 3
   },
   "file_extension": ".py",
   "mimetype": "text/x-python",
   "name": "python",
   "nbconvert_exporter": "python",
   "pygments_lexer": "ipython3",
   "version": "3.12.2"
  }
 },
 "nbformat": 4,
 "nbformat_minor": 2
}
