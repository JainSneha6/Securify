{
 "cells": [
  {
   "cell_type": "code",
   "execution_count": 10,
   "metadata": {},
   "outputs": [
    {
     "name": "stdout",
     "output_type": "stream",
     "text": [
      "Recording...\n",
      "Recording finished.\n",
      "Recording...\n",
      "Recording finished.\n",
      "Recording...\n",
      "Recording finished.\n",
      "Recording...\n",
      "Recording finished.\n",
      "Recording...\n",
      "Recording finished.\n"
     ]
    }
   ],
   "source": [
    "import pyaudio\n",
    "import wave\n",
    "import os\n",
    "\n",
    "def record_audio(filename, duration=5, sample_rate=44100):\n",
    "    chunk = 1024  # Record in chunks of 1024 samples\n",
    "    audio = pyaudio.PyAudio()\n",
    "\n",
    "    # Set up recording stream\n",
    "    stream = audio.open(format=pyaudio.paInt16, channels=1,\n",
    "                        rate=sample_rate, input=True,\n",
    "                        frames_per_buffer=chunk)\n",
    "\n",
    "    print(\"Recording...\")\n",
    "    frames = []\n",
    "\n",
    "    for _ in range(0, int(sample_rate / chunk * duration)):\n",
    "        data = stream.read(chunk)\n",
    "        frames.append(data)\n",
    "\n",
    "    print(\"Recording finished.\")\n",
    "    stream.stop_stream()\n",
    "    stream.close()\n",
    "    audio.terminate()\n",
    "\n",
    "    # Save audio file\n",
    "    with wave.open(filename, 'wb') as wf:\n",
    "        wf.setnchannels(1)\n",
    "        wf.setsampwidth(audio.get_sample_size(pyaudio.paInt16))\n",
    "        wf.setframerate(sample_rate)\n",
    "        wf.writeframes(b''.join(frames))\n",
    "\n",
    "if __name__ == \"__main__\":\n",
    "    person_name = input(\"Enter the name of the person: \")\n",
    "    num_samples = 5\n",
    "    dataset_dir = f\"voice_dataset/{person_name}\"\n",
    "    \n",
    "    if not os.path.exists(dataset_dir):\n",
    "        os.makedirs(dataset_dir)\n",
    "\n",
    "    for i in range(num_samples):\n",
    "        filename = os.path.join(dataset_dir, f\"{i+1}.wav\")\n",
    "        record_audio(filename, duration=5)\n"
   ]
  },
  {
   "cell_type": "code",
   "execution_count": 12,
   "metadata": {},
   "outputs": [
    {
     "name": "stdout",
     "output_type": "stream",
     "text": [
      "Model trained and saved as 'voice_model.pkl'\n"
     ]
    }
   ],
   "source": [
    "import librosa\n",
    "import numpy as np\n",
    "import joblib\n",
    "import os\n",
    "\n",
    "def extract_features(filename):\n",
    "    y, sr = librosa.load(filename)\n",
    "    mfccs = librosa.feature.mfcc(y=y, sr=sr, n_mfcc=13)\n",
    "    return np.mean(mfccs, axis=1)\n",
    "\n",
    "def train_model(user_name):\n",
    "    dataset_folder = f'voice_dataset/{user_name}'\n",
    "    features = []\n",
    "\n",
    "    for filename in os.listdir(dataset_folder):\n",
    "        if filename.endswith('.wav'):\n",
    "            feature = extract_features(os.path.join(dataset_folder, filename))\n",
    "            features.append(feature)\n",
    "\n",
    "    features = np.array(features)\n",
    "    mean_feature = np.mean(features, axis=0)\n",
    "    std_feature = np.std(features, axis=0)\n",
    "\n",
    "    joblib.dump((mean_feature, std_feature), 'voice_model.pkl')\n",
    "    print(f\"Model trained and saved as 'voice_model.pkl'\")\n",
    "\n",
    "if __name__ == \"__main__\":\n",
    "    user_name = input(\"Enter the name of the user: \")\n",
    "    train_model(user_name)\n"
   ]
  },
  {
   "cell_type": "code",
   "execution_count": 14,
   "metadata": {},
   "outputs": [
    {
     "name": "stdout",
     "output_type": "stream",
     "text": [
      "Recording...\n",
      "Recording finished.\n",
      "The sample does not match the user's voice.\n"
     ]
    }
   ],
   "source": [
    "import librosa\n",
    "import numpy as np\n",
    "import joblib\n",
    "import pyaudio\n",
    "import wave\n",
    "\n",
    "def record_audio(filename, duration=5, sample_rate=44100):\n",
    "    chunk = 1024\n",
    "    audio = pyaudio.PyAudio()\n",
    "\n",
    "    stream = audio.open(format=pyaudio.paInt16, channels=1,\n",
    "                        rate=sample_rate, input=True,\n",
    "                        frames_per_buffer=chunk)\n",
    "\n",
    "    print(\"Recording...\")\n",
    "    frames = []\n",
    "\n",
    "    for _ in range(0, int(sample_rate / chunk * duration)):\n",
    "        data = stream.read(chunk)\n",
    "        frames.append(data)\n",
    "\n",
    "    print(\"Recording finished.\")\n",
    "    stream.stop_stream()\n",
    "    stream.close()\n",
    "    audio.terminate()\n",
    "\n",
    "    with wave.open(filename, 'wb') as wf:\n",
    "        wf.setnchannels(1)\n",
    "        wf.setsampwidth(audio.get_sample_size(pyaudio.paInt16))\n",
    "        wf.setframerate(sample_rate)\n",
    "        wf.writeframes(b''.join(frames))\n",
    "\n",
    "def extract_features(filename):\n",
    "    y, sr = librosa.load(filename)\n",
    "    mfccs = librosa.feature.mfcc(y=y, sr=sr, n_mfcc=13)\n",
    "    return np.mean(mfccs, axis=1)\n",
    "\n",
    "def recognize_voice():\n",
    "    mean_feature, std_feature = joblib.load('voice_model.pkl')\n",
    "    \n",
    "    # Record a new sample\n",
    "    filename = 'test_sample.wav'\n",
    "    record_audio(filename, duration=5)\n",
    "    \n",
    "    # Predict\n",
    "    feature = extract_features(filename)\n",
    "    distance = np.linalg.norm(feature - mean_feature)\n",
    "    threshold = 1.0  # You can adjust this threshold based on your needs\n",
    "\n",
    "    if distance < threshold:\n",
    "        print(\"The sample matches the user's voice.\")\n",
    "    else:\n",
    "        print(\"The sample does not match the user's voice.\")\n",
    "\n",
    "if __name__ == \"__main__\":\n",
    "    recognize_voice()\n"
   ]
  },
  {
   "cell_type": "code",
   "execution_count": 9,
   "metadata": {},
   "outputs": [],
   "source": [
    "import librosa\n",
    "import numpy as np\n",
    "import os\n",
    "\n",
    "def extract_features(filename):\n",
    "    y, sr = librosa.load(filename)\n",
    "    mfccs = librosa.feature.mfcc(y=y, sr=sr, n_mfcc=13)\n",
    "    return np.mean(mfccs, axis=1)\n"
   ]
  },
  {
   "cell_type": "code",
   "execution_count": 15,
   "metadata": {},
   "outputs": [
    {
     "name": "stdout",
     "output_type": "stream",
     "text": [
      "Epoch 1/10\n"
     ]
    },
    {
     "name": "stderr",
     "output_type": "stream",
     "text": [
      "C:\\Users\\Siddhartha\\AppData\\Roaming\\Python\\Python312\\site-packages\\keras\\src\\layers\\core\\dense.py:87: UserWarning: Do not pass an `input_shape`/`input_dim` argument to a layer. When using Sequential models, prefer using an `Input(shape)` object as the first layer in the model instead.\n",
      "  super().__init__(activity_regularizer=activity_regularizer, **kwargs)\n"
     ]
    },
    {
     "name": "stdout",
     "output_type": "stream",
     "text": [
      "\u001b[1m5/5\u001b[0m \u001b[32m━━━━━━━━━━━━━━━━━━━━\u001b[0m\u001b[37m\u001b[0m \u001b[1m1s\u001b[0m 3ms/step - accuracy: 0.0000e+00 - loss: 106.8276  \n",
      "Epoch 2/10\n",
      "\u001b[1m5/5\u001b[0m \u001b[32m━━━━━━━━━━━━━━━━━━━━\u001b[0m\u001b[37m\u001b[0m \u001b[1m0s\u001b[0m 1ms/step - accuracy: 0.0000e+00 - loss: 55.1582 \n",
      "Epoch 3/10\n",
      "\u001b[1m5/5\u001b[0m \u001b[32m━━━━━━━━━━━━━━━━━━━━\u001b[0m\u001b[37m\u001b[0m \u001b[1m0s\u001b[0m 2ms/step - accuracy: 0.1750 - loss: 13.7845     \n",
      "Epoch 4/10\n",
      "\u001b[1m5/5\u001b[0m \u001b[32m━━━━━━━━━━━━━━━━━━━━\u001b[0m\u001b[37m\u001b[0m \u001b[1m0s\u001b[0m 1ms/step - accuracy: 1.0000 - loss: 9.4562e-08 \n",
      "Epoch 5/10\n",
      "\u001b[1m5/5\u001b[0m \u001b[32m━━━━━━━━━━━━━━━━━━━━\u001b[0m\u001b[37m\u001b[0m \u001b[1m0s\u001b[0m 1ms/step - accuracy: 1.0000 - loss: 5.7176e-20 \n",
      "Epoch 6/10\n",
      "\u001b[1m5/5\u001b[0m \u001b[32m━━━━━━━━━━━━━━━━━━━━\u001b[0m\u001b[37m\u001b[0m \u001b[1m0s\u001b[0m 1ms/step - accuracy: 1.0000 - loss: 8.7845e-27 \n",
      "Epoch 7/10\n",
      "\u001b[1m5/5\u001b[0m \u001b[32m━━━━━━━━━━━━━━━━━━━━\u001b[0m\u001b[37m\u001b[0m \u001b[1m0s\u001b[0m 1ms/step - accuracy: 1.0000 - loss: 1.8886e-30 \n",
      "Epoch 8/10\n",
      "\u001b[1m5/5\u001b[0m \u001b[32m━━━━━━━━━━━━━━━━━━━━\u001b[0m\u001b[37m\u001b[0m \u001b[1m0s\u001b[0m 2ms/step - accuracy: 1.0000 - loss: 7.2114e-33 \n",
      "Epoch 9/10\n",
      "\u001b[1m5/5\u001b[0m \u001b[32m━━━━━━━━━━━━━━━━━━━━\u001b[0m\u001b[37m\u001b[0m \u001b[1m0s\u001b[0m 1ms/step - accuracy: 1.0000 - loss: 4.0564e-34 \n",
      "Epoch 10/10\n",
      "\u001b[1m5/5\u001b[0m \u001b[32m━━━━━━━━━━━━━━━━━━━━\u001b[0m\u001b[37m\u001b[0m \u001b[1m0s\u001b[0m 1ms/step - accuracy: 1.0000 - loss: 1.6344e-35 \n"
     ]
    },
    {
     "name": "stderr",
     "output_type": "stream",
     "text": [
      "WARNING:absl:You are saving your model as an HDF5 file via `model.save()` or `keras.saving.save_model(model)`. This file format is considered legacy. We recommend using instead the native Keras format, e.g. `model.save('my_model.keras')` or `keras.saving.save_model(model, 'my_model.keras')`. \n"
     ]
    },
    {
     "name": "stdout",
     "output_type": "stream",
     "text": [
      "Model trained and saved as 'voice_model.h5'\n"
     ]
    }
   ],
   "source": [
    "import numpy as np\n",
    "import tensorflow as tf\n",
    "import os\n",
    "\n",
    "def prepare_data(user_name):\n",
    "    dataset_folder = f'voice_dataset/{user_name}'\n",
    "    features = []\n",
    "    labels = []\n",
    "\n",
    "    for filename in os.listdir(dataset_folder):\n",
    "        if filename.endswith('.wav'):\n",
    "            feature = extract_features(os.path.join(dataset_folder, filename))\n",
    "            features.append(feature)\n",
    "            labels.append(1)  # Label 1 for user's samples\n",
    "\n",
    "    features = np.array(features)\n",
    "    labels = np.array(labels)\n",
    "    \n",
    "    return features, labels\n",
    "\n",
    "import tensorflow as tf\n",
    "import numpy as np\n",
    "\n",
    "def train_model(user_name):\n",
    "    features, labels = prepare_data(user_name)\n",
    "\n",
    "    model = tf.keras.Sequential([\n",
    "        tf.keras.layers.Dense(128, activation='relu', input_shape=(features.shape[1],)),\n",
    "        tf.keras.layers.Dropout(0.5),\n",
    "        tf.keras.layers.Dense(64, activation='relu'),\n",
    "        tf.keras.layers.Dense(32, activation='relu'),\n",
    "        tf.keras.layers.Dense(1, activation='sigmoid')\n",
    "    ])\n",
    "\n",
    "    model.compile(optimizer='adam', loss='binary_crossentropy', metrics=['accuracy'])\n",
    "\n",
    "    model.fit(features, labels, epochs=20, batch_size=2, validation_split=0.1)\n",
    "    \n",
    "    model.save('voice_model.h5')\n",
    "    print(f\"Model trained and saved as 'voice_model.h5'\")\n",
    "\n",
    "if __name__ == \"__main__\":\n",
    "    user_name = input(\"Enter the name of the user: \")\n",
    "    train_model(user_name)\n"
   ]
  },
  {
   "cell_type": "code",
   "execution_count": 16,
   "metadata": {},
   "outputs": [
    {
     "name": "stderr",
     "output_type": "stream",
     "text": [
      "WARNING:absl:Compiled the loaded model, but the compiled metrics have yet to be built. `model.compile_metrics` will be empty until you train or evaluate the model.\n"
     ]
    },
    {
     "name": "stdout",
     "output_type": "stream",
     "text": [
      "Recording...\n",
      "Recording finished.\n",
      "\u001b[1m1/1\u001b[0m \u001b[32m━━━━━━━━━━━━━━━━━━━━\u001b[0m\u001b[37m\u001b[0m \u001b[1m0s\u001b[0m 34ms/step\n",
      "The sample matches the user's voice.\n"
     ]
    }
   ],
   "source": [
    "import tensorflow as tf\n",
    "import numpy as np\n",
    "import pyaudio\n",
    "import wave\n",
    "\n",
    "def record_audio(filename, duration=5, sample_rate=44100):\n",
    "    chunk = 1024\n",
    "    audio = pyaudio.PyAudio()\n",
    "\n",
    "    stream = audio.open(format=pyaudio.paInt16, channels=1,\n",
    "                        rate=sample_rate, input=True,\n",
    "                        frames_per_buffer=chunk)\n",
    "\n",
    "    print(\"Recording...\")\n",
    "    frames = []\n",
    "\n",
    "    for _ in range(0, int(sample_rate / chunk * duration)):\n",
    "        data = stream.read(chunk)\n",
    "        frames.append(data)\n",
    "\n",
    "    print(\"Recording finished.\")\n",
    "    stream.stop_stream()\n",
    "    stream.close()\n",
    "    audio.terminate()\n",
    "\n",
    "    with wave.open(filename, 'wb') as wf:\n",
    "        wf.setnchannels(1)\n",
    "        wf.setsampwidth(audio.get_sample_size(pyaudio.paInt16))\n",
    "        wf.setframerate(sample_rate)\n",
    "        wf.writeframes(b''.join(frames))\n",
    "\n",
    "def extract_features(filename):\n",
    "    y, sr = librosa.load(filename)\n",
    "    mfccs = librosa.feature.mfcc(y=y, sr=sr, n_mfcc=13)\n",
    "    return np.mean(mfccs, axis=1)\n",
    "\n",
    "def recognize_voice():\n",
    "    model = tf.keras.models.load_model('voice_model.h5')\n",
    "    \n",
    "    filename = 'test_sample.wav'\n",
    "    record_audio(filename, duration=5)\n",
    "    \n",
    "    feature = extract_features(filename)\n",
    "    feature = np.expand_dims(feature, axis=0)\n",
    "    prediction = model.predict(feature)\n",
    "    \n",
    "    threshold = 0.5  # Try different values if needed\n",
    "    if prediction[0] > threshold:\n",
    "        print(\"The sample matches the user's voice.\")\n",
    "    else:\n",
    "        print(\"The sample does not match the user's voice.\")\n",
    "\n",
    "\n",
    "if __name__ == \"__main__\":\n",
    "    recognize_voice()\n"
   ]
  }
 ],
 "metadata": {
  "kernelspec": {
   "display_name": "Python 3",
   "language": "python",
   "name": "python3"
  },
  "language_info": {
   "codemirror_mode": {
    "name": "ipython",
    "version": 3
   },
   "file_extension": ".py",
   "mimetype": "text/x-python",
   "name": "python",
   "nbconvert_exporter": "python",
   "pygments_lexer": "ipython3",
   "version": "3.12.2"
  }
 },
 "nbformat": 4,
 "nbformat_minor": 2
}
