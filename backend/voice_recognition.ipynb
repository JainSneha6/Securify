{
 "cells": [
  {
   "cell_type": "code",
   "execution_count": 1,
   "metadata": {},
   "outputs": [
    {
     "name": "stdout",
     "output_type": "stream",
     "text": [
      "Recording...\n",
      "Audio saved as voice_dataset/Siddhartha\\sample_1.wav\n",
      "Sample 1 recorded.\n",
      "Recording...\n",
      "Audio saved as voice_dataset/Siddhartha\\sample_2.wav\n",
      "Sample 2 recorded.\n",
      "Recording...\n",
      "Audio saved as voice_dataset/Siddhartha\\sample_3.wav\n",
      "Sample 3 recorded.\n",
      "Recording...\n",
      "Audio saved as voice_dataset/Siddhartha\\sample_4.wav\n",
      "Sample 4 recorded.\n",
      "Recording...\n",
      "Audio saved as voice_dataset/Siddhartha\\sample_5.wav\n",
      "Sample 5 recorded.\n"
     ]
    }
   ],
   "source": [
    "import sounddevice as sd\n",
    "import numpy as np\n",
    "import soundfile as sf\n",
    "import os\n",
    "\n",
    "def create_dataset_dir(name):\n",
    "    path = f\"voice_dataset/{name}\"\n",
    "    if not os.path.exists(path):\n",
    "        os.makedirs(path)\n",
    "    return path\n",
    "\n",
    "def record_audio(filename, duration=5, fs=16000):\n",
    "    print(\"Recording...\")\n",
    "    audio_data = sd.rec(int(duration * fs), samplerate=fs, channels=1, dtype=np.int16)\n",
    "    sd.wait()\n",
    "    sf.write(filename, audio_data, fs)\n",
    "    print(f\"Audio saved as {filename}\")\n",
    "\n",
    "# Main function to capture audio samples for the dataset\n",
    "name = input(\"Enter the name of the person: \")\n",
    "dataset_path = create_dataset_dir(name)\n",
    "for i in range(5):  # Record 5 samples\n",
    "    file_path = os.path.join(dataset_path, f\"sample_{i+1}.wav\")\n",
    "    record_audio(file_path, duration=5)\n",
    "    print(f\"Sample {i+1} recorded.\")\n"
   ]
  },
  {
   "cell_type": "code",
   "execution_count": 3,
   "metadata": {},
   "outputs": [
    {
     "name": "stdout",
     "output_type": "stream",
     "text": [
      "Loaded the voice encoder model on cpu in 0.01 seconds.\n",
      "Processing sample_1.wav...\n",
      "Processing sample_2.wav...\n",
      "Processing sample_3.wav...\n",
      "Processing sample_4.wav...\n",
      "Processing sample_5.wav...\n",
      "Embeddings for Siddhartha saved to Siddhartha_embeddings.npy\n"
     ]
    }
   ],
   "source": [
    "import numpy as np\n",
    "import os\n",
    "from resemblyzer import VoiceEncoder, preprocess_wav\n",
    "from pathlib import Path\n",
    "\n",
    "# Function to compute and save embeddings\n",
    "def compute_and_save_embeddings(person_name):\n",
    "    dataset_path = f\"voice_dataset/{person_name}\"\n",
    "    embeddings = []\n",
    "\n",
    "    encoder = VoiceEncoder()\n",
    "\n",
    "    for file in os.listdir(dataset_path):\n",
    "        if file.endswith(\".wav\"):\n",
    "            filepath = os.path.join(dataset_path, file)\n",
    "            print(f\"Processing {file}...\")\n",
    "            \n",
    "            wav = preprocess_wav(Path(filepath))\n",
    "            embedding = encoder.embed_utterance(wav)\n",
    "            embeddings.append(embedding)\n",
    "\n",
    "    # Save the embeddings as a .npy file (Numpy array format)\n",
    "    np.save(f\"{person_name}_embeddings.npy\", embeddings)\n",
    "    print(f\"Embeddings for {person_name} saved to {person_name}_embeddings.npy\")\n",
    "\n",
    "# Main function to generate and save voice embedding\n",
    "name = input(\"Enter the name of the person to train: \")\n",
    "compute_and_save_embeddings(name)\n"
   ]
  },
  {
   "cell_type": "code",
   "execution_count": 9,
   "metadata": {},
   "outputs": [
    {
     "name": "stdout",
     "output_type": "stream",
     "text": [
      "Recording...\n",
      "Audio saved as test_sample.wav\n",
      "Loaded the voice encoder model on cpu in 0.01 seconds.\n",
      "Matched with Siddhartha (Similarity: 0.85)\n"
     ]
    }
   ],
   "source": [
    "from resemblyzer import VoiceEncoder, preprocess_wav\n",
    "import numpy as np\n",
    "import os\n",
    "import sounddevice as sd  # For recording audio\n",
    "import soundfile as sf  # For saving audio to a file\n",
    "\n",
    "def record_audio_for_test(filename, duration=5, fs=16000):\n",
    "    print(\"Recording...\")\n",
    "    audio_data = sd.rec(int(duration * fs), samplerate=fs, channels=1, dtype=np.int16)\n",
    "    sd.wait()  # Wait until the recording is finished\n",
    "    sf.write(filename, audio_data, fs)  # Save the audio data to a file\n",
    "    print(f\"Audio saved as {filename}\")\n",
    "\n",
    "def cosine_similarity(embedding1, embedding2):\n",
    "    # Calculate cosine similarity between two embeddings\n",
    "    return np.dot(embedding1, embedding2) / (np.linalg.norm(embedding1) * np.linalg.norm(embedding2))\n",
    "\n",
    "def recognize_voice(name):\n",
    "    # Load the saved user embedding\n",
    "    embedding_path = f\"voice_profiles/{name}_embeddings.npy\"\n",
    "    if not os.path.exists(embedding_path):\n",
    "        print(f\"Embedding for {name} not found. Please train first.\")\n",
    "        return\n",
    "\n",
    "    user_embedding = np.load(embedding_path)\n",
    "\n",
    "    # Record real-time audio for testing\n",
    "    test_file = \"test_sample.wav\"\n",
    "    record_audio_for_test(test_file, duration=5)\n",
    "\n",
    "    # Load and compute the embedding for the test audio\n",
    "    encoder = VoiceEncoder()\n",
    "    wav = preprocess_wav(test_file)  # Use preprocess_wav to load the audio\n",
    "    test_embedding = encoder.embed_utterance(wav)\n",
    "\n",
    "    # Calculate cosine similarity between user and test embeddings\n",
    "    similarity = cosine_similarity(np.mean(user_embedding, axis=0), test_embedding)\n",
    "\n",
    "    # Threshold for matching (higher is better, usually around 0.8-0.9 is a good match)\n",
    "    threshold = 0.8\n",
    "    if similarity > threshold:\n",
    "        print(f\"Matched with {name} (Similarity: {similarity:.2f})\")\n",
    "    else:\n",
    "        print(f\"Not Matched (Similarity: {similarity:.2f})\")\n",
    "\n",
    "# Main function to test the voice\n",
    "name = input(\"Enter the name of the person to recognize: \")\n",
    "recognize_voice(name)\n"
   ]
  }
 ],
 "metadata": {
  "kernelspec": {
   "display_name": "Python 3",
   "language": "python",
   "name": "python3"
  },
  "language_info": {
   "codemirror_mode": {
    "name": "ipython",
    "version": 3
   },
   "file_extension": ".py",
   "mimetype": "text/x-python",
   "name": "python",
   "nbconvert_exporter": "python",
   "pygments_lexer": "ipython3",
   "version": "3.12.2"
  }
 },
 "nbformat": 4,
 "nbformat_minor": 2
}
